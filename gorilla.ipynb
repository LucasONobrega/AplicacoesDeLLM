{
 "cells": [
  {
   "cell_type": "code",
   "execution_count": 1,
   "id": "c1102bd8-6bee-4904-aa88-5f8f16286ac1",
   "metadata": {},
   "outputs": [],
   "source": [
    "import openai\n",
    "import urllib.parse"
   ]
  },
  {
   "cell_type": "code",
   "execution_count": 2,
   "id": "02859a68-a869-4b58-89d1-cce985f63dab",
   "metadata": {},
   "outputs": [],
   "source": [
    "openai.api_key = \"EMPTY\"\n",
    "openai.api_base = \"http://zanino.millennium.berkeley.edu:8000/v1\"\n",
    "\n",
    "# Report issues\n",
    "def raise_issue(e, model, prompt):\n",
    "    issue_title = urllib.parse.quote(\"[bug] Hosted Gorilla: <Issue>\")\n",
    "    issue_body = urllib.parse.quote(f\"Exception: {e}\\nFailed model: {model}, for prompt: {prompt}\")\n",
    "    issue_url = f\"https://github.com/ShishirPatil/gorilla/issues/new?assignees=&labels=hosted-gorilla&projects=&template=hosted-gorilla-.md&title={issue_title}&body={issue_body}\"\n",
    "    print(f\"An exception has occurred: {e} \\nPlease raise an issue here: {issue_url}\")\n",
    "\n",
    "# Query Gorilla server\n",
    "def get_gorilla_response(prompt, model=\"gorilla-7b-hf-v1\"):\n",
    "    try:\n",
    "        completion = openai.ChatCompletion.create(model=model,messages=[{\"role\": \"user\", \"content\": prompt}])\n",
    "        return completion.choices[0].message.content\n",
    "    except Exception as e:\n",
    "        raise_issue(e, model, prompt)"
   ]
  },
  {
   "cell_type": "code",
   "execution_count": 12,
   "id": "f0893c1a-d5b4-456c-9417-f8fdc242b39c",
   "metadata": {},
   "outputs": [
    {
     "name": "stdout",
     "output_type": "stream",
     "text": [
      "<<<domain>>>: Natural Language Processing Text2Text Generation\n",
      "<<<api_call>>>: model = AutoModelForSeq2SeqLM.from_pretrained('Qiliang/bart-large-cnn-samsum-ChatGPT_v3')\n",
      "<<<api_provider>>>: Hugging Face Transformers\n",
      "<<<explanation>>>: 1. Import the necessary libraries from transformers and torch.\n",
      "2. Load the pretrained BART model for summarization tasks.\n",
      "3. Tokenize and process the input texts for the model.\n",
      "4. Generate a summary using the model and decode the generated tokens back into a human-readable summary. <<<code>>>:\n",
      "from transformers import AutoModelForSeq2SeqLM, AutoTokenizer\n",
      "\n",
      "def load_model():\n",
      "    model = AutoModelForSeq2SeqLM.from_pretrained('Qiliang/bart-large-cnn-samsum-ChatGPT_v3')\n",
      "    tokenizer = AutoTokenizer.from_pretrained('Qiliang/bart-large-cnn-samsum-ChatGPT_v3')\n",
      "    return model, tokenizer\n",
      "\n",
      "def process_data(texts, model, tokenizer):\n",
      "    input_tokens = tokenizer(texts, padding=True, truncation=True, return_tensors=\"pt\")\n",
      "    output_tokens = model.generate(input_tokens[\"input_ids\"])\n",
      "    summary = tokenizer.decode(output_tokens[0], skip_special_tokens=True)\n",
      "    return summary\n",
      "\n",
      "texts = [\"Renewable energy sources are environmentally friendly and limitless, while non-renewable energy sources are harmful to the environment and will eventually run out.\"]\n",
      "\n",
      "# Load the model and tokenizer\n",
      "model, tokenizer = load_model()\n",
      "\n",
      "# Process the data\n",
      "response = process_data(texts, model, tokenizer)\n",
      "\n",
      "print(response)\n"
     ]
    }
   ],
   "source": [
    "prompt = \"Summarize a list of texts.\"\n",
    "print(get_gorilla_response(prompt, model=\"gorilla-7b-hf-v1\"))"
   ]
  }
 ],
 "metadata": {
  "kernelspec": {
   "display_name": "Python 3 (ipykernel)",
   "language": "python",
   "name": "python3"
  },
  "language_info": {
   "codemirror_mode": {
    "name": "ipython",
    "version": 3
   },
   "file_extension": ".py",
   "mimetype": "text/x-python",
   "name": "python",
   "nbconvert_exporter": "python",
   "pygments_lexer": "ipython3",
   "version": "3.10.6"
  }
 },
 "nbformat": 4,
 "nbformat_minor": 5
}
