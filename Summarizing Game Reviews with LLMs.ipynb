{
  "cells": [
    {
      "cell_type": "markdown",
      "metadata": {
        "id": "kmhBIe4dLgP0"
      },
      "source": [
        "#Summarizing Game Reviews with LLMs"
      ]
    },
    {
      "cell_type": "markdown",
      "metadata": {
        "id": "NYHYq4_QTkkZ"
      },
      "source": [
        "## Importando os pacotes"
      ]
    },
    {
      "cell_type": "code",
      "execution_count": null,
      "metadata": {
        "id": "hrbe8u4sOjXa"
      },
      "outputs": [],
      "source": [
        "!pip install -q openai\n",
        "!pip install -q langchain\n",
        "!pip install -q tiktoken\n",
        "!pip install -q requests\n",
        "!pip install -q bs4\n",
        "!pip install -q langdetect"
      ]
    },
    {
      "cell_type": "code",
      "execution_count": null,
      "metadata": {
        "id": "JUWLWbKeLdvZ"
      },
      "outputs": [],
      "source": [
        "import openai\n",
        "import tiktoken\n",
        "import requests\n",
        "import re\n",
        "import pandas as pd\n",
        "import numpy as np\n",
        "from langchain import OpenAI, PromptTemplate, LLMChain\n",
        "from langchain.text_splitter import CharacterTextSplitter\n",
        "from langchain.text_splitter import RecursiveCharacterTextSplitter\n",
        "from langchain.chains.mapreduce import MapReduceChain\n",
        "from langchain.chains.summarize import load_summarize_chain\n",
        "from langchain.prompts import PromptTemplate\n",
        "from langchain.docstore.document import Document\n",
        "from bs4 import BeautifulSoup\n",
        "from langdetect import detect"
      ]
    },
    {
      "cell_type": "markdown",
      "metadata": {
        "id": "RqtzITI_Pjmb"
      },
      "source": [
        "## Extraindo os dados do Metacritic"
      ]
    },
    {
      "cell_type": "code",
      "execution_count": null,
      "metadata": {
        "id": "QjE8eUItjPQw"
      },
      "outputs": [],
      "source": [
        "# verifica se a próxima página de reviews existe\n",
        "def nextPage(soup):\n",
        "  if(soup.find(rel=\"next\") == None):\n",
        "    return False\n",
        "\n",
        "  return True"
      ]
    },
    {
      "cell_type": "code",
      "execution_count": null,
      "metadata": {
        "id": "rT3Ge3Uv-HXH"
      },
      "outputs": [],
      "source": [
        "def web_scraping(link):\n",
        "  v = link\n",
        "  v = v[32:]\n",
        "  div = v.find('/')\n",
        "  platform = v[:div]\n",
        "  v = v[div+1:]\n",
        "  div = v.find('/')\n",
        "  game = v[:div]\n",
        "  v = v[div+1:]\n",
        "  div = v.find('/')\n",
        "  reviewer = v[:]\n",
        "\n",
        "  print(f'Web Scraping: {game} of {platform} ({reviewer})')\n",
        "  review_dict = {'name':[], 'date':[], 'rating':[], 'review':[]}\n",
        "  page = 0\n",
        "\n",
        "  url = link + '?page='+str(page)\n",
        "  user_agent = {'User-agent': \"Mozilla/5.0 (Windows NT 10.0; Win64; x64) AppleWebKit/537.36 (KHTML, like Gecko) Chrome/88.0.4324.182 Safari/537.36\"}\n",
        "  response  = requests.get(url, headers = user_agent)\n",
        "  soup = BeautifulSoup(response.text, 'html.parser')\n",
        "\n",
        "  while((reviewer == 'user-reviews' and (nextPage(soup) or page == 0)) or (reviewer == 'critic-reviews' and page == 0)):\n",
        "    # print(f'Page {page}')\n",
        "\n",
        "    for review in soup.find_all('div', class_='review_content'):\n",
        "      if review == None:\n",
        "        break\n",
        "\n",
        "      if(reviewer == 'user-reviews'):\n",
        "        if review.find('span', class_='blurb blurb_expanded'):\n",
        "          rv = review.find('span', class_='blurb blurb_expanded').text\n",
        "        else:\n",
        "          if(review.find('div', class_='review_body').find('span') is None):\n",
        "            rv = ''\n",
        "          else:\n",
        "            rv = review.find('div', class_='review_body').find('span').text\n",
        "      else:\n",
        "        if(review.find('div', class_='review_body') is None):\n",
        "          rv = ''\n",
        "        else:\n",
        "          rv = review.find('div', class_='review_body').text\n",
        "\n",
        "      try:\n",
        "        language = detect(rv)\n",
        "      except:\n",
        "        continue\n",
        "\n",
        "      if(language == 'en'):\n",
        "        try:\n",
        "          if(reviewer == 'user-reviews'):\n",
        "            name = review.find('div', class_='name').find('a').text\n",
        "            rating = int(review.find('div', class_='review_grade').find_all('div')[0].text)\n",
        "          else:\n",
        "            name = review.find('div', class_='source').find('a').text\n",
        "            rating = int(review.find('div', class_='review_grade').find_all('div')[0].text)\n",
        "            rating = round(rating/10)\n",
        "\n",
        "          date = review.find('div', class_='date').text\n",
        "\n",
        "        except:\n",
        "          continue\n",
        "\n",
        "        review_dict['name'].append(name)\n",
        "        review_dict['date'].append(date)\n",
        "        review_dict['rating'].append(rating)\n",
        "        review_dict['review'].append(rv)\n",
        "\n",
        "    page += 1\n",
        "    url = link+'?page='+str(page)\n",
        "    user_agent = {'User-agent': \"Mozilla/5.0 (Windows NT 10.0; Win64; x64) AppleWebKit/537.36 (KHTML, like Gecko) Chrome/88.0.4324.182 Safari/537.36\"}\n",
        "    response  = requests.get(url, headers = user_agent)\n",
        "    soup = BeautifulSoup(response.text, 'html.parser')\n",
        "\n",
        "  data = pd.DataFrame(review_dict)\n",
        "  data['review'] = [\" \".join(r.split()) for r in data['review']]\n",
        "  return data"
      ]
    },
    {
      "cell_type": "code",
      "execution_count": null,
      "metadata": {
        "colab": {
          "base_uri": "https://localhost:8080/"
        },
        "id": "EsuXskkkQ-8y",
        "outputId": "4e833635-7cb6-4bc9-893b-f55eb492994d"
      },
      "outputs": [
        {
          "output_type": "stream",
          "name": "stdout",
          "text": [
            "Web Scraping: the-last-of-us of playstation-3 (user-reviews)\n"
          ]
        },
        {
          "output_type": "execute_result",
          "data": {
            "text/plain": [
              "                 name          date  rating  \\\n",
              "0          brad3ngunn  Jun 14, 2013      10   \n",
              "1         Badonkadonk  Jun 15, 2013      10   \n",
              "2          jakenelson  Jun 18, 2013      10   \n",
              "3             Qishere  Jun 14, 2013      10   \n",
              "4     journeyfreak787  Jun 14, 2013      10   \n",
              "...               ...           ...     ...   \n",
              "2335          Aleklar  May 18, 2023      10   \n",
              "2336    OMGitsTHEMEMI  May 18, 2023      10   \n",
              "2337       AlesiLeite  May 30, 2023       9   \n",
              "2338            Diven  May 21, 2023      10   \n",
              "2339              Vcs  May 22, 2023      10   \n",
              "\n",
              "                                                 review  \n",
              "0     I don't know what I can really say about this ...  \n",
              "1     I wouldn't call this game perfect, but it's pr...  \n",
              "2     I don't think I have ever played a game like t...  \n",
              "3     You should realize right from the beginning, y...  \n",
              "4     This game truly is phenomenal. Naughty Dog pro...  \n",
              "...                                                 ...  \n",
              "2335  This game is perfect This game is perfect This...  \n",
              "2336  This game is just perfection from the amazingl...  \n",
              "2337  A game that gives you the feeling of immersing...  \n",
              "2338  Nice game really nice to play , waiting for pa...  \n",
              "2339  Best game ever created. Story amazing, graphic...  \n",
              "\n",
              "[2340 rows x 4 columns]"
            ],
            "text/html": [
              "\n",
              "  <div id=\"df-f8c65225-be52-422a-82aa-8c7347cd4ea1\" class=\"colab-df-container\">\n",
              "    <div>\n",
              "<style scoped>\n",
              "    .dataframe tbody tr th:only-of-type {\n",
              "        vertical-align: middle;\n",
              "    }\n",
              "\n",
              "    .dataframe tbody tr th {\n",
              "        vertical-align: top;\n",
              "    }\n",
              "\n",
              "    .dataframe thead th {\n",
              "        text-align: right;\n",
              "    }\n",
              "</style>\n",
              "<table border=\"1\" class=\"dataframe\">\n",
              "  <thead>\n",
              "    <tr style=\"text-align: right;\">\n",
              "      <th></th>\n",
              "      <th>name</th>\n",
              "      <th>date</th>\n",
              "      <th>rating</th>\n",
              "      <th>review</th>\n",
              "    </tr>\n",
              "  </thead>\n",
              "  <tbody>\n",
              "    <tr>\n",
              "      <th>0</th>\n",
              "      <td>brad3ngunn</td>\n",
              "      <td>Jun 14, 2013</td>\n",
              "      <td>10</td>\n",
              "      <td>I don't know what I can really say about this ...</td>\n",
              "    </tr>\n",
              "    <tr>\n",
              "      <th>1</th>\n",
              "      <td>Badonkadonk</td>\n",
              "      <td>Jun 15, 2013</td>\n",
              "      <td>10</td>\n",
              "      <td>I wouldn't call this game perfect, but it's pr...</td>\n",
              "    </tr>\n",
              "    <tr>\n",
              "      <th>2</th>\n",
              "      <td>jakenelson</td>\n",
              "      <td>Jun 18, 2013</td>\n",
              "      <td>10</td>\n",
              "      <td>I don't think I have ever played a game like t...</td>\n",
              "    </tr>\n",
              "    <tr>\n",
              "      <th>3</th>\n",
              "      <td>Qishere</td>\n",
              "      <td>Jun 14, 2013</td>\n",
              "      <td>10</td>\n",
              "      <td>You should realize right from the beginning, y...</td>\n",
              "    </tr>\n",
              "    <tr>\n",
              "      <th>4</th>\n",
              "      <td>journeyfreak787</td>\n",
              "      <td>Jun 14, 2013</td>\n",
              "      <td>10</td>\n",
              "      <td>This game truly is phenomenal. Naughty Dog pro...</td>\n",
              "    </tr>\n",
              "    <tr>\n",
              "      <th>...</th>\n",
              "      <td>...</td>\n",
              "      <td>...</td>\n",
              "      <td>...</td>\n",
              "      <td>...</td>\n",
              "    </tr>\n",
              "    <tr>\n",
              "      <th>2335</th>\n",
              "      <td>Aleklar</td>\n",
              "      <td>May 18, 2023</td>\n",
              "      <td>10</td>\n",
              "      <td>This game is perfect This game is perfect This...</td>\n",
              "    </tr>\n",
              "    <tr>\n",
              "      <th>2336</th>\n",
              "      <td>OMGitsTHEMEMI</td>\n",
              "      <td>May 18, 2023</td>\n",
              "      <td>10</td>\n",
              "      <td>This game is just perfection from the amazingl...</td>\n",
              "    </tr>\n",
              "    <tr>\n",
              "      <th>2337</th>\n",
              "      <td>AlesiLeite</td>\n",
              "      <td>May 30, 2023</td>\n",
              "      <td>9</td>\n",
              "      <td>A game that gives you the feeling of immersing...</td>\n",
              "    </tr>\n",
              "    <tr>\n",
              "      <th>2338</th>\n",
              "      <td>Diven</td>\n",
              "      <td>May 21, 2023</td>\n",
              "      <td>10</td>\n",
              "      <td>Nice game really nice to play , waiting for pa...</td>\n",
              "    </tr>\n",
              "    <tr>\n",
              "      <th>2339</th>\n",
              "      <td>Vcs</td>\n",
              "      <td>May 22, 2023</td>\n",
              "      <td>10</td>\n",
              "      <td>Best game ever created. Story amazing, graphic...</td>\n",
              "    </tr>\n",
              "  </tbody>\n",
              "</table>\n",
              "<p>2340 rows × 4 columns</p>\n",
              "</div>\n",
              "    <div class=\"colab-df-buttons\">\n",
              "\n",
              "  <div class=\"colab-df-container\">\n",
              "    <button class=\"colab-df-convert\" onclick=\"convertToInteractive('df-f8c65225-be52-422a-82aa-8c7347cd4ea1')\"\n",
              "            title=\"Convert this dataframe to an interactive table.\"\n",
              "            style=\"display:none;\">\n",
              "\n",
              "  <svg xmlns=\"http://www.w3.org/2000/svg\" height=\"24px\" viewBox=\"0 -960 960 960\">\n",
              "    <path d=\"M120-120v-720h720v720H120Zm60-500h600v-160H180v160Zm220 220h160v-160H400v160Zm0 220h160v-160H400v160ZM180-400h160v-160H180v160Zm440 0h160v-160H620v160ZM180-180h160v-160H180v160Zm440 0h160v-160H620v160Z\"/>\n",
              "  </svg>\n",
              "    </button>\n",
              "\n",
              "  <style>\n",
              "    .colab-df-container {\n",
              "      display:flex;\n",
              "      gap: 12px;\n",
              "    }\n",
              "\n",
              "    .colab-df-convert {\n",
              "      background-color: #E8F0FE;\n",
              "      border: none;\n",
              "      border-radius: 50%;\n",
              "      cursor: pointer;\n",
              "      display: none;\n",
              "      fill: #1967D2;\n",
              "      height: 32px;\n",
              "      padding: 0 0 0 0;\n",
              "      width: 32px;\n",
              "    }\n",
              "\n",
              "    .colab-df-convert:hover {\n",
              "      background-color: #E2EBFA;\n",
              "      box-shadow: 0px 1px 2px rgba(60, 64, 67, 0.3), 0px 1px 3px 1px rgba(60, 64, 67, 0.15);\n",
              "      fill: #174EA6;\n",
              "    }\n",
              "\n",
              "    .colab-df-buttons div {\n",
              "      margin-bottom: 4px;\n",
              "    }\n",
              "\n",
              "    [theme=dark] .colab-df-convert {\n",
              "      background-color: #3B4455;\n",
              "      fill: #D2E3FC;\n",
              "    }\n",
              "\n",
              "    [theme=dark] .colab-df-convert:hover {\n",
              "      background-color: #434B5C;\n",
              "      box-shadow: 0px 1px 3px 1px rgba(0, 0, 0, 0.15);\n",
              "      filter: drop-shadow(0px 1px 2px rgba(0, 0, 0, 0.3));\n",
              "      fill: #FFFFFF;\n",
              "    }\n",
              "  </style>\n",
              "\n",
              "    <script>\n",
              "      const buttonEl =\n",
              "        document.querySelector('#df-f8c65225-be52-422a-82aa-8c7347cd4ea1 button.colab-df-convert');\n",
              "      buttonEl.style.display =\n",
              "        google.colab.kernel.accessAllowed ? 'block' : 'none';\n",
              "\n",
              "      async function convertToInteractive(key) {\n",
              "        const element = document.querySelector('#df-f8c65225-be52-422a-82aa-8c7347cd4ea1');\n",
              "        const dataTable =\n",
              "          await google.colab.kernel.invokeFunction('convertToInteractive',\n",
              "                                                    [key], {});\n",
              "        if (!dataTable) return;\n",
              "\n",
              "        const docLinkHtml = 'Like what you see? Visit the ' +\n",
              "          '<a target=\"_blank\" href=https://colab.research.google.com/notebooks/data_table.ipynb>data table notebook</a>'\n",
              "          + ' to learn more about interactive tables.';\n",
              "        element.innerHTML = '';\n",
              "        dataTable['output_type'] = 'display_data';\n",
              "        await google.colab.output.renderOutput(dataTable, element);\n",
              "        const docLink = document.createElement('div');\n",
              "        docLink.innerHTML = docLinkHtml;\n",
              "        element.appendChild(docLink);\n",
              "      }\n",
              "    </script>\n",
              "  </div>\n",
              "\n",
              "\n",
              "<div id=\"df-afdb62a3-56b2-40ad-b9b8-9b17c419e7d3\">\n",
              "  <button class=\"colab-df-quickchart\" onclick=\"quickchart('df-afdb62a3-56b2-40ad-b9b8-9b17c419e7d3')\"\n",
              "            title=\"Suggest charts.\"\n",
              "            style=\"display:none;\">\n",
              "\n",
              "<svg xmlns=\"http://www.w3.org/2000/svg\" height=\"24px\"viewBox=\"0 0 24 24\"\n",
              "     width=\"24px\">\n",
              "    <g>\n",
              "        <path d=\"M19 3H5c-1.1 0-2 .9-2 2v14c0 1.1.9 2 2 2h14c1.1 0 2-.9 2-2V5c0-1.1-.9-2-2-2zM9 17H7v-7h2v7zm4 0h-2V7h2v10zm4 0h-2v-4h2v4z\"/>\n",
              "    </g>\n",
              "</svg>\n",
              "  </button>\n",
              "\n",
              "<style>\n",
              "  .colab-df-quickchart {\n",
              "    background-color: #E8F0FE;\n",
              "    border: none;\n",
              "    border-radius: 50%;\n",
              "    cursor: pointer;\n",
              "    display: none;\n",
              "    fill: #1967D2;\n",
              "    height: 32px;\n",
              "    padding: 0 0 0 0;\n",
              "    width: 32px;\n",
              "  }\n",
              "\n",
              "  .colab-df-quickchart:hover {\n",
              "    background-color: #E2EBFA;\n",
              "    box-shadow: 0px 1px 2px rgba(60, 64, 67, 0.3), 0px 1px 3px 1px rgba(60, 64, 67, 0.15);\n",
              "    fill: #174EA6;\n",
              "  }\n",
              "\n",
              "  [theme=dark] .colab-df-quickchart {\n",
              "    background-color: #3B4455;\n",
              "    fill: #D2E3FC;\n",
              "  }\n",
              "\n",
              "  [theme=dark] .colab-df-quickchart:hover {\n",
              "    background-color: #434B5C;\n",
              "    box-shadow: 0px 1px 3px 1px rgba(0, 0, 0, 0.15);\n",
              "    filter: drop-shadow(0px 1px 2px rgba(0, 0, 0, 0.3));\n",
              "    fill: #FFFFFF;\n",
              "  }\n",
              "</style>\n",
              "\n",
              "  <script>\n",
              "    async function quickchart(key) {\n",
              "      const charts = await google.colab.kernel.invokeFunction(\n",
              "          'suggestCharts', [key], {});\n",
              "    }\n",
              "    (() => {\n",
              "      let quickchartButtonEl =\n",
              "        document.querySelector('#df-afdb62a3-56b2-40ad-b9b8-9b17c419e7d3 button');\n",
              "      quickchartButtonEl.style.display =\n",
              "        google.colab.kernel.accessAllowed ? 'block' : 'none';\n",
              "    })();\n",
              "  </script>\n",
              "</div>\n",
              "    </div>\n",
              "  </div>\n"
            ]
          },
          "metadata": {},
          "execution_count": 68
        }
      ],
      "source": [
        "link = \"https://www.metacritic.com/game/playstation-3/the-last-of-us/user-reviews\"\n",
        "data = web_scraping(link)\n",
        "data"
      ]
    },
    {
      "cell_type": "markdown",
      "metadata": {
        "id": "JCHSxAEg_T_7"
      },
      "source": [
        "## Técnicas de Particionamento"
      ]
    },
    {
      "cell_type": "markdown",
      "metadata": {
        "id": "rQVmOLd8Am5i"
      },
      "source": [
        "**Simple Splitting**"
      ]
    },
    {
      "cell_type": "code",
      "execution_count": null,
      "metadata": {
        "id": "1cMaURIOAt16"
      },
      "outputs": [],
      "source": [
        "# Equal Size Partitioning\n",
        "def simple_splitting(T,P=2000):\n",
        "  # Data: Text T, Partition size P\n",
        "  # Return: Partitions of text T\n",
        "\n",
        "  tokens = re.split(' ', T)\n",
        "  partitions = [' '.join(tokens[i:i+P]) for i in range(0,len(tokens),P)]\n",
        "\n",
        "  return partitions"
      ]
    },
    {
      "cell_type": "code",
      "execution_count": null,
      "metadata": {
        "colab": {
          "base_uri": "https://localhost:8080/"
        },
        "id": "pdRaP6gOJhUq",
        "outputId": "2aab959a-7f5b-4d44-b8e5-0a622aab3810"
      },
      "outputs": [
        {
          "output_type": "execute_result",
          "data": {
            "text/plain": [
              "['This sentence has five',\n",
              " 'words. Here are five',\n",
              " 'more words. Five word',\n",
              " 'sentences are fine.']"
            ]
          },
          "metadata": {},
          "execution_count": 70
        }
      ],
      "source": [
        "text = \"This sentence has five words. Here are five more words. Five word sentences are fine.\"\n",
        "simple_splitting(text, 4)"
      ]
    },
    {
      "cell_type": "markdown",
      "metadata": {
        "id": "uKkn0cQiAuIK"
      },
      "source": [
        "**Sliding Window**"
      ]
    },
    {
      "cell_type": "code",
      "execution_count": null,
      "metadata": {
        "id": "qPJ51agpAw_K"
      },
      "outputs": [],
      "source": [
        "# Sliding Window Partitioning\n",
        "def sliding_window_partitioning(T,w=2000,s=1800):\n",
        "  # Data: Text T, Window size w, Step size s\n",
        "  # Result: Partitions of text T using sliding windows\n",
        "\n",
        "  tokens = re.split(' ', T)\n",
        "  partitions = [' '.join(tokens[i:i+w]) for i in range(0,len(tokens),s)]\n",
        "\n",
        "  return partitions"
      ]
    },
    {
      "cell_type": "code",
      "execution_count": null,
      "metadata": {
        "colab": {
          "base_uri": "https://localhost:8080/"
        },
        "id": "63b7qDVkCgMj",
        "outputId": "39fcd5ba-4749-4803-8f06-fe6cf0658bed"
      },
      "outputs": [
        {
          "output_type": "execute_result",
          "data": {
            "text/plain": [
              "['This sentence has five',\n",
              " 'five words. Here are',\n",
              " 'are five more words.',\n",
              " 'words. Five word sentences',\n",
              " 'sentences are fine.']"
            ]
          },
          "metadata": {},
          "execution_count": 72
        }
      ],
      "source": [
        "text = \"This sentence has five words. Here are five more words. Five word sentences are fine.\"\n",
        "sliding_window_partitioning(text, 4, 3)"
      ]
    },
    {
      "cell_type": "markdown",
      "metadata": {
        "id": "MBFrrE6QAxn7"
      },
      "source": [
        "**Natural Boundary Splitting**"
      ]
    },
    {
      "cell_type": "code",
      "execution_count": null,
      "metadata": {
        "id": "dZ_i_vO0rPFl"
      },
      "outputs": [],
      "source": [
        "def sentence_boundary(t):\n",
        "  if re.match(r\"\\w*[.!?]\", t):\n",
        "    return True\n",
        "  return False"
      ]
    },
    {
      "cell_type": "code",
      "execution_count": null,
      "metadata": {
        "id": "erEuqRR092Jx"
      },
      "outputs": [],
      "source": [
        "def review_boundary(t):\n",
        "  if re.match(r\"\\n\\n\", t):\n",
        "    return True\n",
        "  return False"
      ]
    },
    {
      "cell_type": "code",
      "execution_count": null,
      "metadata": {
        "id": "UDZogAcNAxti"
      },
      "outputs": [],
      "source": [
        "# Boundary-based Partitioning\n",
        "def boundary_based_partitioning(T,m=2000,B=review_boundary):\n",
        "  # Data: Text T, Maximum partition size m, Boundary function B(t)\n",
        "  # Result: List of partitions P\n",
        "\n",
        "  tokens = re.split(' ', T)\n",
        "  partitions = []\n",
        "  p = []\n",
        "\n",
        "  for t in tokens:\n",
        "    if re.match(r\"\\w+[.!?]*\", t):\n",
        "      p.append(t)\n",
        "\n",
        "    if(B(t) or len(p) == m):\n",
        "      partitions.append(' '.join(p))\n",
        "      p = []\n",
        "\n",
        "  if(p != []):\n",
        "    partitions.append(' '.join(p))\n",
        "\n",
        "  return partitions"
      ]
    },
    {
      "cell_type": "code",
      "execution_count": null,
      "metadata": {
        "id": "UlxjAb8uA8de"
      },
      "outputs": [],
      "source": [
        "# Multiple Boundaries Partitioning\n",
        "def multiple_boundaries_partitioning(T,m=2000,B=review_boundary):\n",
        "  # Data: Text T, Maximum partition size m, Boundary function B(t)\n",
        "  # Result: List of partitions P\n",
        "\n",
        "  tokens = re.split(' ', T)\n",
        "  partitions = []\n",
        "  p = []\n",
        "\n",
        "  for t in tokens:\n",
        "    if re.match(r\"\\w+[.!?]*\", t):\n",
        "      p.append(t)\n",
        "\n",
        "    if(B(t)):\n",
        "      if(len(p) >= m or len(p)+1 > m):\n",
        "        partitions.append(' '.join(p))\n",
        "        p = []\n",
        "\n",
        "  if(p != []):\n",
        "    partitions.append(' '.join(p))\n",
        "\n",
        "  return partitions"
      ]
    },
    {
      "cell_type": "code",
      "execution_count": null,
      "metadata": {
        "colab": {
          "base_uri": "https://localhost:8080/"
        },
        "id": "K8Tp68peh7Vu",
        "outputId": "5ac0c247-c9b3-4447-9aaa-885cca377acf"
      },
      "outputs": [
        {
          "output_type": "execute_result",
          "data": {
            "text/plain": [
              "['This sentence has five',\n",
              " 'words.',\n",
              " 'Here are five more',\n",
              " 'words.',\n",
              " 'Five word sentences are',\n",
              " 'fine.']"
            ]
          },
          "metadata": {},
          "execution_count": 77
        }
      ],
      "source": [
        "text = \"This sentence has five words. Here are five more words. \\n\\n Five word sentences are fine.\"\n",
        "boundary_based_partitioning(text, 4, sentence_boundary)"
      ]
    },
    {
      "cell_type": "code",
      "execution_count": null,
      "metadata": {
        "colab": {
          "base_uri": "https://localhost:8080/"
        },
        "id": "D1-4mufl-PZI",
        "outputId": "50e508e4-6865-4a3c-f6cd-bf155f481cb4"
      },
      "outputs": [
        {
          "output_type": "execute_result",
          "data": {
            "text/plain": [
              "['This sentence has five',\n",
              " 'words. Here are five',\n",
              " 'more words.',\n",
              " 'Five word sentences are',\n",
              " 'fine.']"
            ]
          },
          "metadata": {},
          "execution_count": 78
        }
      ],
      "source": [
        "text = \"This sentence has five words. Here are five more words. \\n\\n Five word sentences are fine.\"\n",
        "boundary_based_partitioning(text, 4, review_boundary)"
      ]
    },
    {
      "cell_type": "code",
      "execution_count": null,
      "metadata": {
        "colab": {
          "base_uri": "https://localhost:8080/"
        },
        "id": "KHhFMvjexeWj",
        "outputId": "32f684e4-c50a-4f81-9fe2-3e9fb5228894"
      },
      "outputs": [
        {
          "output_type": "execute_result",
          "data": {
            "text/plain": [
              "['This sentence has five words.',\n",
              " 'Here are five more words.',\n",
              " 'Five word sentences are fine.']"
            ]
          },
          "metadata": {},
          "execution_count": 79
        }
      ],
      "source": [
        "text = \"This sentence has five words. Here are five more words. \\n\\n Five word sentences are fine.\"\n",
        "multiple_boundaries_partitioning(text, 4, sentence_boundary)"
      ]
    },
    {
      "cell_type": "code",
      "execution_count": null,
      "metadata": {
        "colab": {
          "base_uri": "https://localhost:8080/"
        },
        "id": "TGtxmm_u9_2r",
        "outputId": "02f53e84-4d5a-4276-c177-8b19d0b5de20"
      },
      "outputs": [
        {
          "output_type": "execute_result",
          "data": {
            "text/plain": [
              "['This sentence has five words. Here are five more words.',\n",
              " 'Five word sentences are fine.']"
            ]
          },
          "metadata": {},
          "execution_count": 80
        }
      ],
      "source": [
        "text = \"This sentence has five words. Here are five more words. \\n\\n Five word sentences are fine.\"\n",
        "multiple_boundaries_partitioning(text, 4, review_boundary)"
      ]
    },
    {
      "cell_type": "markdown",
      "metadata": {
        "id": "dL8mjDV8TmSC"
      },
      "source": [
        "## Técnicas de Amostragem"
      ]
    },
    {
      "cell_type": "markdown",
      "metadata": {
        "id": "FtmQCVa-Tsxs"
      },
      "source": [
        "**Uniform Sampling**"
      ]
    },
    {
      "cell_type": "code",
      "execution_count": null,
      "metadata": {
        "id": "d5id-TYZT4bK"
      },
      "outputs": [],
      "source": [
        "# Uniform Sampling\n",
        "def uniform_sampling(C,n):\n",
        "  # Data: Collection C, Sample size n\n",
        "  # Result: Sample S\n",
        "\n",
        "  return C.sample(n=n)"
      ]
    },
    {
      "cell_type": "code",
      "execution_count": null,
      "metadata": {
        "colab": {
          "base_uri": "https://localhost:8080/"
        },
        "id": "6A1AXUV9YG8r",
        "outputId": "5f3a08ee-1844-4cbb-9382-e9e863329487"
      },
      "outputs": [
        {
          "output_type": "execute_result",
          "data": {
            "text/plain": [
              "                 name          date  rating  \\\n",
              "1353         bkshankz  Oct  4, 2013       6   \n",
              "204      whiterussian  May 29, 2015       5   \n",
              "1517          Tromble  Jun 29, 2021       9   \n",
              "1673      MrZombie720  Jun 28, 2013       8   \n",
              "12            Lethyss  Jun 18, 2013      10   \n",
              "184        monkeyd100  Jun 17, 2013      10   \n",
              "1600             DEFY  Jun 22, 2013      10   \n",
              "1728        RedDead94  Oct 31, 2013      10   \n",
              "837   SeraphCommander  Jul  6, 2013      10   \n",
              "1542      Invader-Nik  Jan 16, 2014       9   \n",
              "\n",
              "                                                 review  \n",
              "1353  I got really bored by this game quickly. I thi...  \n",
              "204   The game gets a lot of praise for it's story. ...  \n",
              "1517  The Last of Us is a fantastic game and a techn...  \n",
              "1673  This is a good game not a fantastic game like ...  \n",
              "12    This is hands down the best game I've ever pla...  \n",
              "184   This game is simply, Amazing! The story tellin...  \n",
              "1600  Just beat the game on normal and it took me ab...  \n",
              "1728  This is truly one of the best game of this gen...  \n",
              "837   There is not much to say about the game apart ...  \n",
              "1542  This game is great. It's enjoyable, has a fant...  "
            ],
            "text/html": [
              "\n",
              "  <div id=\"df-6cdd2fae-bf7a-40b6-b8bd-30c610370c9f\" class=\"colab-df-container\">\n",
              "    <div>\n",
              "<style scoped>\n",
              "    .dataframe tbody tr th:only-of-type {\n",
              "        vertical-align: middle;\n",
              "    }\n",
              "\n",
              "    .dataframe tbody tr th {\n",
              "        vertical-align: top;\n",
              "    }\n",
              "\n",
              "    .dataframe thead th {\n",
              "        text-align: right;\n",
              "    }\n",
              "</style>\n",
              "<table border=\"1\" class=\"dataframe\">\n",
              "  <thead>\n",
              "    <tr style=\"text-align: right;\">\n",
              "      <th></th>\n",
              "      <th>name</th>\n",
              "      <th>date</th>\n",
              "      <th>rating</th>\n",
              "      <th>review</th>\n",
              "    </tr>\n",
              "  </thead>\n",
              "  <tbody>\n",
              "    <tr>\n",
              "      <th>1353</th>\n",
              "      <td>bkshankz</td>\n",
              "      <td>Oct  4, 2013</td>\n",
              "      <td>6</td>\n",
              "      <td>I got really bored by this game quickly. I thi...</td>\n",
              "    </tr>\n",
              "    <tr>\n",
              "      <th>204</th>\n",
              "      <td>whiterussian</td>\n",
              "      <td>May 29, 2015</td>\n",
              "      <td>5</td>\n",
              "      <td>The game gets a lot of praise for it's story. ...</td>\n",
              "    </tr>\n",
              "    <tr>\n",
              "      <th>1517</th>\n",
              "      <td>Tromble</td>\n",
              "      <td>Jun 29, 2021</td>\n",
              "      <td>9</td>\n",
              "      <td>The Last of Us is a fantastic game and a techn...</td>\n",
              "    </tr>\n",
              "    <tr>\n",
              "      <th>1673</th>\n",
              "      <td>MrZombie720</td>\n",
              "      <td>Jun 28, 2013</td>\n",
              "      <td>8</td>\n",
              "      <td>This is a good game not a fantastic game like ...</td>\n",
              "    </tr>\n",
              "    <tr>\n",
              "      <th>12</th>\n",
              "      <td>Lethyss</td>\n",
              "      <td>Jun 18, 2013</td>\n",
              "      <td>10</td>\n",
              "      <td>This is hands down the best game I've ever pla...</td>\n",
              "    </tr>\n",
              "    <tr>\n",
              "      <th>184</th>\n",
              "      <td>monkeyd100</td>\n",
              "      <td>Jun 17, 2013</td>\n",
              "      <td>10</td>\n",
              "      <td>This game is simply, Amazing! The story tellin...</td>\n",
              "    </tr>\n",
              "    <tr>\n",
              "      <th>1600</th>\n",
              "      <td>DEFY</td>\n",
              "      <td>Jun 22, 2013</td>\n",
              "      <td>10</td>\n",
              "      <td>Just beat the game on normal and it took me ab...</td>\n",
              "    </tr>\n",
              "    <tr>\n",
              "      <th>1728</th>\n",
              "      <td>RedDead94</td>\n",
              "      <td>Oct 31, 2013</td>\n",
              "      <td>10</td>\n",
              "      <td>This is truly one of the best game of this gen...</td>\n",
              "    </tr>\n",
              "    <tr>\n",
              "      <th>837</th>\n",
              "      <td>SeraphCommander</td>\n",
              "      <td>Jul  6, 2013</td>\n",
              "      <td>10</td>\n",
              "      <td>There is not much to say about the game apart ...</td>\n",
              "    </tr>\n",
              "    <tr>\n",
              "      <th>1542</th>\n",
              "      <td>Invader-Nik</td>\n",
              "      <td>Jan 16, 2014</td>\n",
              "      <td>9</td>\n",
              "      <td>This game is great. It's enjoyable, has a fant...</td>\n",
              "    </tr>\n",
              "  </tbody>\n",
              "</table>\n",
              "</div>\n",
              "    <div class=\"colab-df-buttons\">\n",
              "\n",
              "  <div class=\"colab-df-container\">\n",
              "    <button class=\"colab-df-convert\" onclick=\"convertToInteractive('df-6cdd2fae-bf7a-40b6-b8bd-30c610370c9f')\"\n",
              "            title=\"Convert this dataframe to an interactive table.\"\n",
              "            style=\"display:none;\">\n",
              "\n",
              "  <svg xmlns=\"http://www.w3.org/2000/svg\" height=\"24px\" viewBox=\"0 -960 960 960\">\n",
              "    <path d=\"M120-120v-720h720v720H120Zm60-500h600v-160H180v160Zm220 220h160v-160H400v160Zm0 220h160v-160H400v160ZM180-400h160v-160H180v160Zm440 0h160v-160H620v160ZM180-180h160v-160H180v160Zm440 0h160v-160H620v160Z\"/>\n",
              "  </svg>\n",
              "    </button>\n",
              "\n",
              "  <style>\n",
              "    .colab-df-container {\n",
              "      display:flex;\n",
              "      gap: 12px;\n",
              "    }\n",
              "\n",
              "    .colab-df-convert {\n",
              "      background-color: #E8F0FE;\n",
              "      border: none;\n",
              "      border-radius: 50%;\n",
              "      cursor: pointer;\n",
              "      display: none;\n",
              "      fill: #1967D2;\n",
              "      height: 32px;\n",
              "      padding: 0 0 0 0;\n",
              "      width: 32px;\n",
              "    }\n",
              "\n",
              "    .colab-df-convert:hover {\n",
              "      background-color: #E2EBFA;\n",
              "      box-shadow: 0px 1px 2px rgba(60, 64, 67, 0.3), 0px 1px 3px 1px rgba(60, 64, 67, 0.15);\n",
              "      fill: #174EA6;\n",
              "    }\n",
              "\n",
              "    .colab-df-buttons div {\n",
              "      margin-bottom: 4px;\n",
              "    }\n",
              "\n",
              "    [theme=dark] .colab-df-convert {\n",
              "      background-color: #3B4455;\n",
              "      fill: #D2E3FC;\n",
              "    }\n",
              "\n",
              "    [theme=dark] .colab-df-convert:hover {\n",
              "      background-color: #434B5C;\n",
              "      box-shadow: 0px 1px 3px 1px rgba(0, 0, 0, 0.15);\n",
              "      filter: drop-shadow(0px 1px 2px rgba(0, 0, 0, 0.3));\n",
              "      fill: #FFFFFF;\n",
              "    }\n",
              "  </style>\n",
              "\n",
              "    <script>\n",
              "      const buttonEl =\n",
              "        document.querySelector('#df-6cdd2fae-bf7a-40b6-b8bd-30c610370c9f button.colab-df-convert');\n",
              "      buttonEl.style.display =\n",
              "        google.colab.kernel.accessAllowed ? 'block' : 'none';\n",
              "\n",
              "      async function convertToInteractive(key) {\n",
              "        const element = document.querySelector('#df-6cdd2fae-bf7a-40b6-b8bd-30c610370c9f');\n",
              "        const dataTable =\n",
              "          await google.colab.kernel.invokeFunction('convertToInteractive',\n",
              "                                                    [key], {});\n",
              "        if (!dataTable) return;\n",
              "\n",
              "        const docLinkHtml = 'Like what you see? Visit the ' +\n",
              "          '<a target=\"_blank\" href=https://colab.research.google.com/notebooks/data_table.ipynb>data table notebook</a>'\n",
              "          + ' to learn more about interactive tables.';\n",
              "        element.innerHTML = '';\n",
              "        dataTable['output_type'] = 'display_data';\n",
              "        await google.colab.output.renderOutput(dataTable, element);\n",
              "        const docLink = document.createElement('div');\n",
              "        docLink.innerHTML = docLinkHtml;\n",
              "        element.appendChild(docLink);\n",
              "      }\n",
              "    </script>\n",
              "  </div>\n",
              "\n",
              "\n",
              "<div id=\"df-d11ba4e6-126f-4f75-8d6c-9827afde85c7\">\n",
              "  <button class=\"colab-df-quickchart\" onclick=\"quickchart('df-d11ba4e6-126f-4f75-8d6c-9827afde85c7')\"\n",
              "            title=\"Suggest charts.\"\n",
              "            style=\"display:none;\">\n",
              "\n",
              "<svg xmlns=\"http://www.w3.org/2000/svg\" height=\"24px\"viewBox=\"0 0 24 24\"\n",
              "     width=\"24px\">\n",
              "    <g>\n",
              "        <path d=\"M19 3H5c-1.1 0-2 .9-2 2v14c0 1.1.9 2 2 2h14c1.1 0 2-.9 2-2V5c0-1.1-.9-2-2-2zM9 17H7v-7h2v7zm4 0h-2V7h2v10zm4 0h-2v-4h2v4z\"/>\n",
              "    </g>\n",
              "</svg>\n",
              "  </button>\n",
              "\n",
              "<style>\n",
              "  .colab-df-quickchart {\n",
              "    background-color: #E8F0FE;\n",
              "    border: none;\n",
              "    border-radius: 50%;\n",
              "    cursor: pointer;\n",
              "    display: none;\n",
              "    fill: #1967D2;\n",
              "    height: 32px;\n",
              "    padding: 0 0 0 0;\n",
              "    width: 32px;\n",
              "  }\n",
              "\n",
              "  .colab-df-quickchart:hover {\n",
              "    background-color: #E2EBFA;\n",
              "    box-shadow: 0px 1px 2px rgba(60, 64, 67, 0.3), 0px 1px 3px 1px rgba(60, 64, 67, 0.15);\n",
              "    fill: #174EA6;\n",
              "  }\n",
              "\n",
              "  [theme=dark] .colab-df-quickchart {\n",
              "    background-color: #3B4455;\n",
              "    fill: #D2E3FC;\n",
              "  }\n",
              "\n",
              "  [theme=dark] .colab-df-quickchart:hover {\n",
              "    background-color: #434B5C;\n",
              "    box-shadow: 0px 1px 3px 1px rgba(0, 0, 0, 0.15);\n",
              "    filter: drop-shadow(0px 1px 2px rgba(0, 0, 0, 0.3));\n",
              "    fill: #FFFFFF;\n",
              "  }\n",
              "</style>\n",
              "\n",
              "  <script>\n",
              "    async function quickchart(key) {\n",
              "      const charts = await google.colab.kernel.invokeFunction(\n",
              "          'suggestCharts', [key], {});\n",
              "    }\n",
              "    (() => {\n",
              "      let quickchartButtonEl =\n",
              "        document.querySelector('#df-d11ba4e6-126f-4f75-8d6c-9827afde85c7 button');\n",
              "      quickchartButtonEl.style.display =\n",
              "        google.colab.kernel.accessAllowed ? 'block' : 'none';\n",
              "    })();\n",
              "  </script>\n",
              "</div>\n",
              "    </div>\n",
              "  </div>\n"
            ]
          },
          "metadata": {},
          "execution_count": 82
        }
      ],
      "source": [
        "uniform_sampling(data,10)"
      ]
    },
    {
      "cell_type": "markdown",
      "metadata": {
        "id": "nS__N28VTsz7"
      },
      "source": [
        "**Stratified Sampling with Known Labels**"
      ]
    },
    {
      "cell_type": "code",
      "execution_count": null,
      "metadata": {
        "id": "5NM1IlsnT41y"
      },
      "outputs": [],
      "source": [
        "# Stratified Sampling with Known Class Labels (Ratings)\n",
        "def stratified_sampling_known_class_labels_ratings(C,n):\n",
        "  # Data: Collection C with class labels L, Sample size n,\n",
        "  # Result: Sample S\n",
        "\n",
        "  S = pd.DataFrame(columns=['name','date','rating','review'])\n",
        "  for L in range(0,11):\n",
        "    cL = data[data['rating'] == L]\n",
        "    nL = round(n*len(cL)/len(C))\n",
        "    sL = cL.sample(n=nL)\n",
        "    S = pd.concat([S,sL])\n",
        "\n",
        "  return S"
      ]
    },
    {
      "cell_type": "code",
      "execution_count": null,
      "metadata": {
        "colab": {
          "base_uri": "https://localhost:8080/"
        },
        "id": "55ObHTT9hHD1",
        "outputId": "a9bf2809-a6e3-4687-d7f0-1b2e7f731921"
      },
      "outputs": [
        {
          "output_type": "execute_result",
          "data": {
            "text/plain": [
              "           name          date rating  \\\n",
              "1608  Psychosys  Jun 30, 2014      8   \n",
              "408     DeGonjo  Jun 18, 2013      9   \n",
              "394   deuranaer  Jun 26, 2020     10   \n",
              "186       jackn  Jun 17, 2013     10   \n",
              "623     Gsomtin  Jun 14, 2013     10   \n",
              "388      exalte  Jun 25, 2020     10   \n",
              "1460      Arfon  Dec  4, 2020     10   \n",
              "92       Sohail  Aug 16, 2013     10   \n",
              "700    Matrosen  Sep  1, 2013     10   \n",
              "\n",
              "                                                 review  \n",
              "1608  Great game, but nothing amazing. Story is the ...  \n",
              "408   A must have if you own a PS3. 9.5/10 One of th...  \n",
              "394   The Last of Us The best game ever released on ...  \n",
              "186   Well, The Last Of Us is like no other game I h...  \n",
              "623   Opinions are like butt holes, everyone has one...  \n",
              "388   Best game ever, level design, animationts, lig...  \n",
              "1460  This game is amazing. Perfect mix between a dr...  \n",
              "92    Naughty dog has done it again.A great game to ...  \n",
              "700   The Last of Us is a must-play title for any PS...  "
            ],
            "text/html": [
              "\n",
              "  <div id=\"df-fe56c5ad-626d-4d4d-b71e-fe26facc5479\" class=\"colab-df-container\">\n",
              "    <div>\n",
              "<style scoped>\n",
              "    .dataframe tbody tr th:only-of-type {\n",
              "        vertical-align: middle;\n",
              "    }\n",
              "\n",
              "    .dataframe tbody tr th {\n",
              "        vertical-align: top;\n",
              "    }\n",
              "\n",
              "    .dataframe thead th {\n",
              "        text-align: right;\n",
              "    }\n",
              "</style>\n",
              "<table border=\"1\" class=\"dataframe\">\n",
              "  <thead>\n",
              "    <tr style=\"text-align: right;\">\n",
              "      <th></th>\n",
              "      <th>name</th>\n",
              "      <th>date</th>\n",
              "      <th>rating</th>\n",
              "      <th>review</th>\n",
              "    </tr>\n",
              "  </thead>\n",
              "  <tbody>\n",
              "    <tr>\n",
              "      <th>1608</th>\n",
              "      <td>Psychosys</td>\n",
              "      <td>Jun 30, 2014</td>\n",
              "      <td>8</td>\n",
              "      <td>Great game, but nothing amazing. Story is the ...</td>\n",
              "    </tr>\n",
              "    <tr>\n",
              "      <th>408</th>\n",
              "      <td>DeGonjo</td>\n",
              "      <td>Jun 18, 2013</td>\n",
              "      <td>9</td>\n",
              "      <td>A must have if you own a PS3. 9.5/10 One of th...</td>\n",
              "    </tr>\n",
              "    <tr>\n",
              "      <th>394</th>\n",
              "      <td>deuranaer</td>\n",
              "      <td>Jun 26, 2020</td>\n",
              "      <td>10</td>\n",
              "      <td>The Last of Us The best game ever released on ...</td>\n",
              "    </tr>\n",
              "    <tr>\n",
              "      <th>186</th>\n",
              "      <td>jackn</td>\n",
              "      <td>Jun 17, 2013</td>\n",
              "      <td>10</td>\n",
              "      <td>Well, The Last Of Us is like no other game I h...</td>\n",
              "    </tr>\n",
              "    <tr>\n",
              "      <th>623</th>\n",
              "      <td>Gsomtin</td>\n",
              "      <td>Jun 14, 2013</td>\n",
              "      <td>10</td>\n",
              "      <td>Opinions are like butt holes, everyone has one...</td>\n",
              "    </tr>\n",
              "    <tr>\n",
              "      <th>388</th>\n",
              "      <td>exalte</td>\n",
              "      <td>Jun 25, 2020</td>\n",
              "      <td>10</td>\n",
              "      <td>Best game ever, level design, animationts, lig...</td>\n",
              "    </tr>\n",
              "    <tr>\n",
              "      <th>1460</th>\n",
              "      <td>Arfon</td>\n",
              "      <td>Dec  4, 2020</td>\n",
              "      <td>10</td>\n",
              "      <td>This game is amazing. Perfect mix between a dr...</td>\n",
              "    </tr>\n",
              "    <tr>\n",
              "      <th>92</th>\n",
              "      <td>Sohail</td>\n",
              "      <td>Aug 16, 2013</td>\n",
              "      <td>10</td>\n",
              "      <td>Naughty dog has done it again.A great game to ...</td>\n",
              "    </tr>\n",
              "    <tr>\n",
              "      <th>700</th>\n",
              "      <td>Matrosen</td>\n",
              "      <td>Sep  1, 2013</td>\n",
              "      <td>10</td>\n",
              "      <td>The Last of Us is a must-play title for any PS...</td>\n",
              "    </tr>\n",
              "  </tbody>\n",
              "</table>\n",
              "</div>\n",
              "    <div class=\"colab-df-buttons\">\n",
              "\n",
              "  <div class=\"colab-df-container\">\n",
              "    <button class=\"colab-df-convert\" onclick=\"convertToInteractive('df-fe56c5ad-626d-4d4d-b71e-fe26facc5479')\"\n",
              "            title=\"Convert this dataframe to an interactive table.\"\n",
              "            style=\"display:none;\">\n",
              "\n",
              "  <svg xmlns=\"http://www.w3.org/2000/svg\" height=\"24px\" viewBox=\"0 -960 960 960\">\n",
              "    <path d=\"M120-120v-720h720v720H120Zm60-500h600v-160H180v160Zm220 220h160v-160H400v160Zm0 220h160v-160H400v160ZM180-400h160v-160H180v160Zm440 0h160v-160H620v160ZM180-180h160v-160H180v160Zm440 0h160v-160H620v160Z\"/>\n",
              "  </svg>\n",
              "    </button>\n",
              "\n",
              "  <style>\n",
              "    .colab-df-container {\n",
              "      display:flex;\n",
              "      gap: 12px;\n",
              "    }\n",
              "\n",
              "    .colab-df-convert {\n",
              "      background-color: #E8F0FE;\n",
              "      border: none;\n",
              "      border-radius: 50%;\n",
              "      cursor: pointer;\n",
              "      display: none;\n",
              "      fill: #1967D2;\n",
              "      height: 32px;\n",
              "      padding: 0 0 0 0;\n",
              "      width: 32px;\n",
              "    }\n",
              "\n",
              "    .colab-df-convert:hover {\n",
              "      background-color: #E2EBFA;\n",
              "      box-shadow: 0px 1px 2px rgba(60, 64, 67, 0.3), 0px 1px 3px 1px rgba(60, 64, 67, 0.15);\n",
              "      fill: #174EA6;\n",
              "    }\n",
              "\n",
              "    .colab-df-buttons div {\n",
              "      margin-bottom: 4px;\n",
              "    }\n",
              "\n",
              "    [theme=dark] .colab-df-convert {\n",
              "      background-color: #3B4455;\n",
              "      fill: #D2E3FC;\n",
              "    }\n",
              "\n",
              "    [theme=dark] .colab-df-convert:hover {\n",
              "      background-color: #434B5C;\n",
              "      box-shadow: 0px 1px 3px 1px rgba(0, 0, 0, 0.15);\n",
              "      filter: drop-shadow(0px 1px 2px rgba(0, 0, 0, 0.3));\n",
              "      fill: #FFFFFF;\n",
              "    }\n",
              "  </style>\n",
              "\n",
              "    <script>\n",
              "      const buttonEl =\n",
              "        document.querySelector('#df-fe56c5ad-626d-4d4d-b71e-fe26facc5479 button.colab-df-convert');\n",
              "      buttonEl.style.display =\n",
              "        google.colab.kernel.accessAllowed ? 'block' : 'none';\n",
              "\n",
              "      async function convertToInteractive(key) {\n",
              "        const element = document.querySelector('#df-fe56c5ad-626d-4d4d-b71e-fe26facc5479');\n",
              "        const dataTable =\n",
              "          await google.colab.kernel.invokeFunction('convertToInteractive',\n",
              "                                                    [key], {});\n",
              "        if (!dataTable) return;\n",
              "\n",
              "        const docLinkHtml = 'Like what you see? Visit the ' +\n",
              "          '<a target=\"_blank\" href=https://colab.research.google.com/notebooks/data_table.ipynb>data table notebook</a>'\n",
              "          + ' to learn more about interactive tables.';\n",
              "        element.innerHTML = '';\n",
              "        dataTable['output_type'] = 'display_data';\n",
              "        await google.colab.output.renderOutput(dataTable, element);\n",
              "        const docLink = document.createElement('div');\n",
              "        docLink.innerHTML = docLinkHtml;\n",
              "        element.appendChild(docLink);\n",
              "      }\n",
              "    </script>\n",
              "  </div>\n",
              "\n",
              "\n",
              "<div id=\"df-2904c25f-d52d-47aa-8c28-486e28f05290\">\n",
              "  <button class=\"colab-df-quickchart\" onclick=\"quickchart('df-2904c25f-d52d-47aa-8c28-486e28f05290')\"\n",
              "            title=\"Suggest charts.\"\n",
              "            style=\"display:none;\">\n",
              "\n",
              "<svg xmlns=\"http://www.w3.org/2000/svg\" height=\"24px\"viewBox=\"0 0 24 24\"\n",
              "     width=\"24px\">\n",
              "    <g>\n",
              "        <path d=\"M19 3H5c-1.1 0-2 .9-2 2v14c0 1.1.9 2 2 2h14c1.1 0 2-.9 2-2V5c0-1.1-.9-2-2-2zM9 17H7v-7h2v7zm4 0h-2V7h2v10zm4 0h-2v-4h2v4z\"/>\n",
              "    </g>\n",
              "</svg>\n",
              "  </button>\n",
              "\n",
              "<style>\n",
              "  .colab-df-quickchart {\n",
              "    background-color: #E8F0FE;\n",
              "    border: none;\n",
              "    border-radius: 50%;\n",
              "    cursor: pointer;\n",
              "    display: none;\n",
              "    fill: #1967D2;\n",
              "    height: 32px;\n",
              "    padding: 0 0 0 0;\n",
              "    width: 32px;\n",
              "  }\n",
              "\n",
              "  .colab-df-quickchart:hover {\n",
              "    background-color: #E2EBFA;\n",
              "    box-shadow: 0px 1px 2px rgba(60, 64, 67, 0.3), 0px 1px 3px 1px rgba(60, 64, 67, 0.15);\n",
              "    fill: #174EA6;\n",
              "  }\n",
              "\n",
              "  [theme=dark] .colab-df-quickchart {\n",
              "    background-color: #3B4455;\n",
              "    fill: #D2E3FC;\n",
              "  }\n",
              "\n",
              "  [theme=dark] .colab-df-quickchart:hover {\n",
              "    background-color: #434B5C;\n",
              "    box-shadow: 0px 1px 3px 1px rgba(0, 0, 0, 0.15);\n",
              "    filter: drop-shadow(0px 1px 2px rgba(0, 0, 0, 0.3));\n",
              "    fill: #FFFFFF;\n",
              "  }\n",
              "</style>\n",
              "\n",
              "  <script>\n",
              "    async function quickchart(key) {\n",
              "      const charts = await google.colab.kernel.invokeFunction(\n",
              "          'suggestCharts', [key], {});\n",
              "    }\n",
              "    (() => {\n",
              "      let quickchartButtonEl =\n",
              "        document.querySelector('#df-2904c25f-d52d-47aa-8c28-486e28f05290 button');\n",
              "      quickchartButtonEl.style.display =\n",
              "        google.colab.kernel.accessAllowed ? 'block' : 'none';\n",
              "    })();\n",
              "  </script>\n",
              "</div>\n",
              "    </div>\n",
              "  </div>\n"
            ]
          },
          "metadata": {},
          "execution_count": 84
        }
      ],
      "source": [
        "stratified_sampling_known_class_labels_ratings(data,10)"
      ]
    },
    {
      "cell_type": "code",
      "execution_count": null,
      "metadata": {
        "id": "T3U9slfXlekY"
      },
      "outputs": [],
      "source": [
        "# Stratified Sampling with Known Class Labels (Groups of Ratings - Positive 8-10, Mixed 5-7 and Negative 0-4)\n",
        "def stratified_sampling_known_class_labels_groups(C,n):\n",
        "  # Data: Collection C with class labels L, Sample size n,\n",
        "  # Result: Sample S\n",
        "\n",
        "  S = pd.DataFrame(columns=['name','date','rating','review'])\n",
        "\n",
        "  # Negative\n",
        "  cL = data[data['rating'] <= 4]\n",
        "  nL = round(n*len(cL)/len(C))\n",
        "  sL = cL.sample(n=nL)\n",
        "  S = pd.concat([S,sL])\n",
        "\n",
        "  # Mixed\n",
        "  cL = data[(data['rating'] >= 5) & (data['rating'] <= 7)]\n",
        "  nL = round(n*len(cL)/len(C))\n",
        "  sL = cL.sample(n=nL)\n",
        "  S = pd.concat([S,sL])\n",
        "\n",
        "  # Negative\n",
        "  cL = data[data['rating'] >= 8]\n",
        "  nL = round(n*len(cL)/len(C))\n",
        "  sL = cL.sample(n=nL)\n",
        "  S = pd.concat([S,sL])\n",
        "\n",
        "  return S"
      ]
    },
    {
      "cell_type": "code",
      "execution_count": null,
      "metadata": {
        "colab": {
          "base_uri": "https://localhost:8080/"
        },
        "id": "69EIofBLmTog",
        "outputId": "150f3b60-f44f-468c-d558-208c39f697b3"
      },
      "outputs": [
        {
          "output_type": "execute_result",
          "data": {
            "text/plain": [
              "                 name          date rating  \\\n",
              "2180  jordanlearmonth  Jul 25, 2020      5   \n",
              "1709    TheBlackHeart  Sep  6, 2013     10   \n",
              "1217        duffmanth  Jun 20, 2013      9   \n",
              "667       MoultonHawk  Jun 18, 2013     10   \n",
              "1327       chibistevo  Jul  7, 2013      8   \n",
              "2300      GAME-OVERcv  Nov  1, 2022     10   \n",
              "437    holdfasthope87  Jun 19, 2013     10   \n",
              "1739        handley35  Dec 16, 2013     10   \n",
              "873             coven  Aug  3, 2013     10   \n",
              "2012      easternwind  Jun 24, 2020     10   \n",
              "\n",
              "                                                 review  \n",
              "2180  The thing about videogames is, imo, they shoul...  \n",
              "1709  The apocalypse is coming.. If I don't give a p...  \n",
              "1217  I'm about 75% through this game right now and ...  \n",
              "667   They made a mistake I think this game should h...  \n",
              "1327  Universal praise aside, The Last of Us is clea...  \n",
              "2300  perfect with pritty much everying but the best...  \n",
              "437   From someone who has been a hardcore gamer for...  \n",
              "1739  One word can only describe this game: AMAZING....  \n",
              "873   After seeing some incredible scores here on me...  \n",
              "2012  Story,musics,gameplay everything is perfect. e...  "
            ],
            "text/html": [
              "\n",
              "  <div id=\"df-a2f1fe7c-c825-4f38-a793-ca008d481d11\" class=\"colab-df-container\">\n",
              "    <div>\n",
              "<style scoped>\n",
              "    .dataframe tbody tr th:only-of-type {\n",
              "        vertical-align: middle;\n",
              "    }\n",
              "\n",
              "    .dataframe tbody tr th {\n",
              "        vertical-align: top;\n",
              "    }\n",
              "\n",
              "    .dataframe thead th {\n",
              "        text-align: right;\n",
              "    }\n",
              "</style>\n",
              "<table border=\"1\" class=\"dataframe\">\n",
              "  <thead>\n",
              "    <tr style=\"text-align: right;\">\n",
              "      <th></th>\n",
              "      <th>name</th>\n",
              "      <th>date</th>\n",
              "      <th>rating</th>\n",
              "      <th>review</th>\n",
              "    </tr>\n",
              "  </thead>\n",
              "  <tbody>\n",
              "    <tr>\n",
              "      <th>2180</th>\n",
              "      <td>jordanlearmonth</td>\n",
              "      <td>Jul 25, 2020</td>\n",
              "      <td>5</td>\n",
              "      <td>The thing about videogames is, imo, they shoul...</td>\n",
              "    </tr>\n",
              "    <tr>\n",
              "      <th>1709</th>\n",
              "      <td>TheBlackHeart</td>\n",
              "      <td>Sep  6, 2013</td>\n",
              "      <td>10</td>\n",
              "      <td>The apocalypse is coming.. If I don't give a p...</td>\n",
              "    </tr>\n",
              "    <tr>\n",
              "      <th>1217</th>\n",
              "      <td>duffmanth</td>\n",
              "      <td>Jun 20, 2013</td>\n",
              "      <td>9</td>\n",
              "      <td>I'm about 75% through this game right now and ...</td>\n",
              "    </tr>\n",
              "    <tr>\n",
              "      <th>667</th>\n",
              "      <td>MoultonHawk</td>\n",
              "      <td>Jun 18, 2013</td>\n",
              "      <td>10</td>\n",
              "      <td>They made a mistake I think this game should h...</td>\n",
              "    </tr>\n",
              "    <tr>\n",
              "      <th>1327</th>\n",
              "      <td>chibistevo</td>\n",
              "      <td>Jul  7, 2013</td>\n",
              "      <td>8</td>\n",
              "      <td>Universal praise aside, The Last of Us is clea...</td>\n",
              "    </tr>\n",
              "    <tr>\n",
              "      <th>2300</th>\n",
              "      <td>GAME-OVERcv</td>\n",
              "      <td>Nov  1, 2022</td>\n",
              "      <td>10</td>\n",
              "      <td>perfect with pritty much everying but the best...</td>\n",
              "    </tr>\n",
              "    <tr>\n",
              "      <th>437</th>\n",
              "      <td>holdfasthope87</td>\n",
              "      <td>Jun 19, 2013</td>\n",
              "      <td>10</td>\n",
              "      <td>From someone who has been a hardcore gamer for...</td>\n",
              "    </tr>\n",
              "    <tr>\n",
              "      <th>1739</th>\n",
              "      <td>handley35</td>\n",
              "      <td>Dec 16, 2013</td>\n",
              "      <td>10</td>\n",
              "      <td>One word can only describe this game: AMAZING....</td>\n",
              "    </tr>\n",
              "    <tr>\n",
              "      <th>873</th>\n",
              "      <td>coven</td>\n",
              "      <td>Aug  3, 2013</td>\n",
              "      <td>10</td>\n",
              "      <td>After seeing some incredible scores here on me...</td>\n",
              "    </tr>\n",
              "    <tr>\n",
              "      <th>2012</th>\n",
              "      <td>easternwind</td>\n",
              "      <td>Jun 24, 2020</td>\n",
              "      <td>10</td>\n",
              "      <td>Story,musics,gameplay everything is perfect. e...</td>\n",
              "    </tr>\n",
              "  </tbody>\n",
              "</table>\n",
              "</div>\n",
              "    <div class=\"colab-df-buttons\">\n",
              "\n",
              "  <div class=\"colab-df-container\">\n",
              "    <button class=\"colab-df-convert\" onclick=\"convertToInteractive('df-a2f1fe7c-c825-4f38-a793-ca008d481d11')\"\n",
              "            title=\"Convert this dataframe to an interactive table.\"\n",
              "            style=\"display:none;\">\n",
              "\n",
              "  <svg xmlns=\"http://www.w3.org/2000/svg\" height=\"24px\" viewBox=\"0 -960 960 960\">\n",
              "    <path d=\"M120-120v-720h720v720H120Zm60-500h600v-160H180v160Zm220 220h160v-160H400v160Zm0 220h160v-160H400v160ZM180-400h160v-160H180v160Zm440 0h160v-160H620v160ZM180-180h160v-160H180v160Zm440 0h160v-160H620v160Z\"/>\n",
              "  </svg>\n",
              "    </button>\n",
              "\n",
              "  <style>\n",
              "    .colab-df-container {\n",
              "      display:flex;\n",
              "      gap: 12px;\n",
              "    }\n",
              "\n",
              "    .colab-df-convert {\n",
              "      background-color: #E8F0FE;\n",
              "      border: none;\n",
              "      border-radius: 50%;\n",
              "      cursor: pointer;\n",
              "      display: none;\n",
              "      fill: #1967D2;\n",
              "      height: 32px;\n",
              "      padding: 0 0 0 0;\n",
              "      width: 32px;\n",
              "    }\n",
              "\n",
              "    .colab-df-convert:hover {\n",
              "      background-color: #E2EBFA;\n",
              "      box-shadow: 0px 1px 2px rgba(60, 64, 67, 0.3), 0px 1px 3px 1px rgba(60, 64, 67, 0.15);\n",
              "      fill: #174EA6;\n",
              "    }\n",
              "\n",
              "    .colab-df-buttons div {\n",
              "      margin-bottom: 4px;\n",
              "    }\n",
              "\n",
              "    [theme=dark] .colab-df-convert {\n",
              "      background-color: #3B4455;\n",
              "      fill: #D2E3FC;\n",
              "    }\n",
              "\n",
              "    [theme=dark] .colab-df-convert:hover {\n",
              "      background-color: #434B5C;\n",
              "      box-shadow: 0px 1px 3px 1px rgba(0, 0, 0, 0.15);\n",
              "      filter: drop-shadow(0px 1px 2px rgba(0, 0, 0, 0.3));\n",
              "      fill: #FFFFFF;\n",
              "    }\n",
              "  </style>\n",
              "\n",
              "    <script>\n",
              "      const buttonEl =\n",
              "        document.querySelector('#df-a2f1fe7c-c825-4f38-a793-ca008d481d11 button.colab-df-convert');\n",
              "      buttonEl.style.display =\n",
              "        google.colab.kernel.accessAllowed ? 'block' : 'none';\n",
              "\n",
              "      async function convertToInteractive(key) {\n",
              "        const element = document.querySelector('#df-a2f1fe7c-c825-4f38-a793-ca008d481d11');\n",
              "        const dataTable =\n",
              "          await google.colab.kernel.invokeFunction('convertToInteractive',\n",
              "                                                    [key], {});\n",
              "        if (!dataTable) return;\n",
              "\n",
              "        const docLinkHtml = 'Like what you see? Visit the ' +\n",
              "          '<a target=\"_blank\" href=https://colab.research.google.com/notebooks/data_table.ipynb>data table notebook</a>'\n",
              "          + ' to learn more about interactive tables.';\n",
              "        element.innerHTML = '';\n",
              "        dataTable['output_type'] = 'display_data';\n",
              "        await google.colab.output.renderOutput(dataTable, element);\n",
              "        const docLink = document.createElement('div');\n",
              "        docLink.innerHTML = docLinkHtml;\n",
              "        element.appendChild(docLink);\n",
              "      }\n",
              "    </script>\n",
              "  </div>\n",
              "\n",
              "\n",
              "<div id=\"df-10fee64b-a5e4-4a5b-9796-34c37f8de934\">\n",
              "  <button class=\"colab-df-quickchart\" onclick=\"quickchart('df-10fee64b-a5e4-4a5b-9796-34c37f8de934')\"\n",
              "            title=\"Suggest charts.\"\n",
              "            style=\"display:none;\">\n",
              "\n",
              "<svg xmlns=\"http://www.w3.org/2000/svg\" height=\"24px\"viewBox=\"0 0 24 24\"\n",
              "     width=\"24px\">\n",
              "    <g>\n",
              "        <path d=\"M19 3H5c-1.1 0-2 .9-2 2v14c0 1.1.9 2 2 2h14c1.1 0 2-.9 2-2V5c0-1.1-.9-2-2-2zM9 17H7v-7h2v7zm4 0h-2V7h2v10zm4 0h-2v-4h2v4z\"/>\n",
              "    </g>\n",
              "</svg>\n",
              "  </button>\n",
              "\n",
              "<style>\n",
              "  .colab-df-quickchart {\n",
              "    background-color: #E8F0FE;\n",
              "    border: none;\n",
              "    border-radius: 50%;\n",
              "    cursor: pointer;\n",
              "    display: none;\n",
              "    fill: #1967D2;\n",
              "    height: 32px;\n",
              "    padding: 0 0 0 0;\n",
              "    width: 32px;\n",
              "  }\n",
              "\n",
              "  .colab-df-quickchart:hover {\n",
              "    background-color: #E2EBFA;\n",
              "    box-shadow: 0px 1px 2px rgba(60, 64, 67, 0.3), 0px 1px 3px 1px rgba(60, 64, 67, 0.15);\n",
              "    fill: #174EA6;\n",
              "  }\n",
              "\n",
              "  [theme=dark] .colab-df-quickchart {\n",
              "    background-color: #3B4455;\n",
              "    fill: #D2E3FC;\n",
              "  }\n",
              "\n",
              "  [theme=dark] .colab-df-quickchart:hover {\n",
              "    background-color: #434B5C;\n",
              "    box-shadow: 0px 1px 3px 1px rgba(0, 0, 0, 0.15);\n",
              "    filter: drop-shadow(0px 1px 2px rgba(0, 0, 0, 0.3));\n",
              "    fill: #FFFFFF;\n",
              "  }\n",
              "</style>\n",
              "\n",
              "  <script>\n",
              "    async function quickchart(key) {\n",
              "      const charts = await google.colab.kernel.invokeFunction(\n",
              "          'suggestCharts', [key], {});\n",
              "    }\n",
              "    (() => {\n",
              "      let quickchartButtonEl =\n",
              "        document.querySelector('#df-10fee64b-a5e4-4a5b-9796-34c37f8de934 button');\n",
              "      quickchartButtonEl.style.display =\n",
              "        google.colab.kernel.accessAllowed ? 'block' : 'none';\n",
              "    })();\n",
              "  </script>\n",
              "</div>\n",
              "    </div>\n",
              "  </div>\n"
            ]
          },
          "metadata": {},
          "execution_count": 86
        }
      ],
      "source": [
        "stratified_sampling_known_class_labels_groups(data,10)"
      ]
    },
    {
      "cell_type": "markdown",
      "metadata": {
        "id": "fdZdan8v7QCW"
      },
      "source": [
        "## Técnicas de Processamento"
      ]
    },
    {
      "cell_type": "markdown",
      "source": [
        "**Map Reduce**"
      ],
      "metadata": {
        "id": "CeU3jP2CywbM"
      }
    },
    {
      "cell_type": "code",
      "execution_count": null,
      "metadata": {
        "id": "nd9bNspR7Uj-"
      },
      "outputs": [],
      "source": [
        "# Map-Reduce\n",
        "def map_reduce(D,llm,prompt):\n",
        "  # Data: Documents D, LLM, Map Prompt, Combine Prompt\n",
        "  # Return: Summary\n",
        "\n",
        "  summary = []\n",
        "\n",
        "  # MAP\n",
        "  for d in D:\n",
        "    docs = [Document(page_content=t) for t in [d]]\n",
        "    chain = load_summarize_chain(llm, chain_type=\"stuff\", prompt=prompt)\n",
        "    sum = chain.run(docs)\n",
        "    sum = \" \".join(sum.split())\n",
        "    summary.append(sum)\n",
        "\n",
        "  # REDUCE\n",
        "  if(len(summary) == 1):\n",
        "    return summary[0]\n",
        "  else:\n",
        "    docs = [Document(page_content=t) for t in summary]\n",
        "    chain = load_summarize_chain(llm, chain_type=\"stuff\", prompt=prompt)\n",
        "    final_summary = chain.run(docs)\n",
        "    final_summary = \" \".join(final_summary.split())\n",
        "    return final_summary"
      ]
    },
    {
      "cell_type": "markdown",
      "source": [
        "**Elimination Processing**"
      ],
      "metadata": {
        "id": "6urpIwvqy4Lv"
      }
    },
    {
      "cell_type": "code",
      "execution_count": null,
      "metadata": {
        "id": "TRHzxvoN7cb4"
      },
      "outputs": [],
      "source": [
        "# Elimination Processing\n",
        "def elimination_processing(D,llm,prompt, n=2):\n",
        "  # Data: Documents D, LLM, Map Prompt, Combine Prompt, Eliminate n by n\n",
        "  # Return: Summary\n",
        "\n",
        "  summary = []\n",
        "\n",
        "  # MAP\n",
        "  for d in D:\n",
        "    docs = [Document(page_content=t) for t in [d]]\n",
        "    chain = load_summarize_chain(llm, chain_type=\"stuff\", prompt=prompt)\n",
        "    sum = chain.run(docs)\n",
        "    sum = \" \".join(sum.split())\n",
        "    summary.append(sum)\n",
        "\n",
        "  # REDUCE\n",
        "  while(len(summary)>1):\n",
        "    docs = [Document(page_content=t) for t in summary[0:n]]\n",
        "    del summary[0:n]\n",
        "\n",
        "    chain = load_summarize_chain(llm, chain_type=\"stuff\", prompt=prompt)\n",
        "    sum = chain.run(docs)\n",
        "    sum = \" \".join(sum.split())\n",
        "\n",
        "    summary.append(sum)\n",
        "\n",
        "  final_summary = summary[0]\n",
        "  return final_summary"
      ]
    },
    {
      "cell_type": "markdown",
      "source": [
        "**Sliding Window Processing**"
      ],
      "metadata": {
        "id": "3oGCAV7sy7io"
      }
    },
    {
      "cell_type": "code",
      "execution_count": null,
      "metadata": {
        "id": "i2SPKRr67uY3"
      },
      "outputs": [],
      "source": [
        "# Sliding Window Processing\n",
        "def sliding_window_processing(D,llm,prompt, w=2, s=1):\n",
        "  # Data: Documents D, LLM, Map Prompt, Combine Prompt, Window size w (eliminate w by w), Sliding size (repeat last w-s)\n",
        "  # Return: Summary\n",
        "\n",
        "  summary = []\n",
        "  summary_aux = []\n",
        "\n",
        "  # MAP\n",
        "  for d in D:\n",
        "    docs = [Document(page_content=t) for t in [d]]\n",
        "    chain = load_summarize_chain(llm, chain_type=\"stuff\", prompt=prompt)\n",
        "    sum = chain.run(docs)\n",
        "    sum = \" \".join(sum.split())\n",
        "    summary.append(sum)\n",
        "\n",
        "  # REDUCE\n",
        "  while(len(summary)>1):\n",
        "    docs = [Document(page_content=t) for t in summary[0:w]]\n",
        "    del summary[0:s]\n",
        "\n",
        "    chain = load_summarize_chain(llm, chain_type=\"stuff\", prompt=prompt)\n",
        "    sum = chain.run(docs)\n",
        "    sum = \" \".join(sum.split())\n",
        "\n",
        "    summary_aux.append(sum)\n",
        "\n",
        "    if(len(summary) < w):\n",
        "      summary = summary_aux\n",
        "      summary_aux = []\n",
        "\n",
        "      if(len(summary) == 1):\n",
        "        return summary[0]\n",
        "\n",
        "  final_summary = summary[0]\n",
        "  return final_summary"
      ]
    },
    {
      "cell_type": "markdown",
      "source": [
        "**Refine**"
      ],
      "metadata": {
        "id": "8F_B037IzCcG"
      }
    },
    {
      "cell_type": "code",
      "execution_count": null,
      "metadata": {
        "id": "8DL7qnqz76LY"
      },
      "outputs": [],
      "source": [
        "# Refine\n",
        "def refine(D,llm,prompt):\n",
        "  # Data: Documents D, LLM, Refine Prompt\n",
        "  # Return: Summary\n",
        "\n",
        "  summary = ''\n",
        "\n",
        "  # REFINE\n",
        "  for d in D:\n",
        "    docs = [Document(page_content=t) for t in [summary, d]]\n",
        "    chain = load_summarize_chain(llm, chain_type=\"stuff\", prompt=prompt)\n",
        "    summary = chain.run(docs)\n",
        "    summary = \" \".join(summary.split())\n",
        "\n",
        "  return summary"
      ]
    },
    {
      "cell_type": "markdown",
      "source": [
        "**Weighted Refine**"
      ],
      "metadata": {
        "id": "7SFu_YKGzD84"
      }
    },
    {
      "cell_type": "code",
      "execution_count": null,
      "metadata": {
        "id": "fENNDNXP78tc"
      },
      "outputs": [],
      "source": [
        "# Weighted Refine\n",
        "def weighted_refine(D,llm,prompt):\n",
        "  # Data: Documents D, LLM, Refine Prompt\n",
        "  # Return: Summary\n",
        "\n",
        "  summary = ''\n",
        "  weight = 0\n",
        "\n",
        "  # REFINE\n",
        "  for d in D:\n",
        "    Doc1 = f\"Weight for current document: {weight}\\n{summary}\"\n",
        "    Doc2 = f\"Weight for current document: {1}\\n{d}\"\n",
        "    docs = [Document(page_content=t) for t in [Doc1,Doc2]]\n",
        "    chain = load_summarize_chain(llm, chain_type=\"stuff\", prompt=prompt)\n",
        "    summary = chain.run(docs)\n",
        "    summary = \" \".join(summary.split())\n",
        "    weight += 1\n",
        "\n",
        "  return summary"
      ]
    },
    {
      "cell_type": "code",
      "source": [
        "llm = OpenAI(\n",
        "    model_name='text-davinci-003',\n",
        "    openai_api_key=OPENAI_API_KEY,\n",
        "    max_tokens=128)\n",
        "\n",
        "prompt_template = \"\"\"Following the reviews bellow, write a small summary:\n",
        "\n",
        "{text}\n",
        "\n",
        "SUMMARY OF THE REVIEWS:\"\"\"\n",
        "\n",
        "PROMPT = PromptTemplate(template=prompt_template, input_variables=[\"text\"])\n",
        "\n",
        "R = stratified_sampling_known_class_labels_ratings(data,10)\n",
        "reviews = ''\n",
        "for r in R['review']:\n",
        "  reviews += r + ' \\n\\n '\n",
        "\n",
        "texts = multiple_boundaries_partitioning(reviews, 600)\n",
        "\n",
        "i = 1\n",
        "for t in texts:\n",
        "    print(\"Document \" + str(i))\n",
        "    print(t)\n",
        "    i+=1"
      ],
      "metadata": {
        "id": "nyw5kEguMI8v",
        "colab": {
          "base_uri": "https://localhost:8080/"
        },
        "outputId": "a5849d51-743f-4278-9cd6-930e81be3ee0"
      },
      "execution_count": null,
      "outputs": [
        {
          "output_type": "stream",
          "name": "stdout",
          "text": [
            "Document 1\n",
            "First off the games all about a story, the menu opens up and it starts with a fart in the wind blowing and and an unlocked window. From what I take from it the games got wierd angled storyline, its about Child exploitation subliminally or even if theres no sex. I don't want to be a 40 year old with a 14 year old girl. the game is.18 and.over you're not.even allowed to.play it if your her age group. the subliminal aside i.cant follow the storyline at all. even stoned. I sold thjs game and the only.people that wanted it looked like incestual fathers and sex offenders who want to.see w 14 year old. after all the remakes and deprived games.sony made.i dont get the story line or hype. the actual game.is.good its got.a bit of everything snd the controls are not clunky. it's still.missing.controls though like.typical japanese graphics.are.best I ever seen in real.time bht i skipped through them and what I amnleft with is a typical game on rails. the ai doesnt change the replay value is too see this chick. I had 14 yewr old girlfroend in 2013. it threw me off. Its one creepy relationship, this girl. is the emo cutter type or.street hooker and a fully grown man. such a wierd type.of setting for millions. this game overrated no one rrwlly wants to.see that. The Last Of Us is an amazing game with an amazing graphics and a great story. The characters are great, I really fell in love with Ellie and this was actually the first game I cried during the game So, the story is great, graphics are great, characters are great, but when it comes to the gameplay, it was nothing special, it was okay, but it was not smooth enough for my taste. The game is amazing, but it's a game so for me the gameplay is the most important thing and that's why I can't give it 10/10, but I'm really looking forward what kind of masterpiece ND will make for PS4, and if they make TLOU 2 with better graphics, it will probably get 10/10 from me. I finished the game on Hard and Survivor and wow, I am amazed by the quality of the graphics, I loved the storyline and the soundtrack is beautiful, I've already learnt the theme song on guitar... I didnt have any hype actually for this game until the review's started coming out with all the tens. I quickly later understood that this game would be amazing. Now back to my review, I've never experienced a better intro, just such a brilliant intro. The voice acting is phenomenal and just feels so natural and every character had such an fantastic script, I couldn't almost wait for the next cutscene which also were beautifully made. I haven't been a super fan of Uncharted but I loved the gameplay in The Last of Us, I never had any problems with the stealth parts and the firearms worked very good with the design, the feeling and the sound. I think that it was a good thing to make the allies invincible to the targets but sometimes they could get in the way and pull you out of the game sometimes, but it wasn't any gamebreaking things or over all annoying. The customization was good but it would be nice with something yet more deep. The story was so immersive and fantastic that it will be a experience that will never leave me. I'm not gonna talk to much about the multiplayer but I will say that it's as everything else, fantastic. I expected something decent but what I got was one of the funniest mulitplayer I've played for a long time, this coming from a high end spec pc gamer. Since I'm also a pc gamer I got to talk about the graphics, they literally are MIND blowing for the PS3, I sometimes just stopped playing and just started looking at the graphics. This game could be my favorite game of ALL time and I've played games for a long time. Hats of to Naught dog for making this amazing game. This is easily going to be my game of the year but I really recommend Bioshock, up yours GTA! buy yo though!)\n",
            "Document 2\n",
            "This game delivers in every way you'd expect from this genre. I was amazed at how attached I was to the characters and the story. actually care more about these characters than almost the entire crew of the walking dead) The pacing, story telling, gameplay, graphics, everything here is top notch. I can't find a fault in this game at all. It just delivers. The only downside is that the game is over now and I'm left waiting for the next installment. This game is a truly phenomenal game,I literally cannot find an issue with it. It will draw you into the characters and make you genuinely care for them, the voice acting is flawless, and overall the game is fantastic from start to finish, and oh god that finish. The Last of Us. A game that will be remembered. Naughty Dog have made a masterpiece. The Last of Us brings you a story that will touch you. The characters, the world and overall the gameplay itself make this game the best that I've ever played. Joel and Ellie are characters that you will fall in love with The game tells the story of their relationship and how from totally disliking each other they become best friends and even more. Throughout the game you will find interesting items that you can use to craft bombs, shivs, med kits and other things to help you survive in the environment which is done beautifully. The combat system is one of the most interesting things you will see. It's not about run and gun, you have to use your brain and think before you act which will be a blast because of the many different ways to approach each fight. You can even chose to avoid conflict completely. The graphics of the game are one of the most satisfying graphics you'll see not because of how well they are done they are done VERY well) but because of the way they make the game look so believable and so much mor satisfying. You might find yourself crying while playing the game and you might feel attached to the character which will make you think about the world that we live in and how people treat one another. Joel and Ellie will touch your heart and you will have an experience that you would want to remember forever and make you wish that they were real. Truth be told this is a game not for the faint of hart but its compelling story and imaginative villains make this an unmissable game for any gamer that is brave enough to play it. It also has amazing multiplier mechanics that will be the bench mark for next gen online gaming. What hasn't been said about this game that hasn't already been said. This game is a masterpiece, a stroke of pure genius from Naughty Dog. From the story to the multiplayer, there is no excuse not to play this game. Its a force of nature. The story is unforgivingly tragic and straight forward, unlike most games on the market. The performances are Oscar worthy and deserve nearly all the praise it's been getting. The multiplayer is fantastic and is a breath of fresh air for Battlefield or CoD fans. If you own a PS3, there is no reason that you shouldn't buy this game, it's a masterpiece.\n"
          ]
        }
      ]
    },
    {
      "cell_type": "code",
      "execution_count": null,
      "metadata": {
        "colab": {
          "base_uri": "https://localhost:8080/"
        },
        "id": "rnhpAMUe_Cub",
        "outputId": "0d8b4e62-c0ba-4b02-9fc7-b873dabe7825"
      },
      "outputs": [
        {
          "output_type": "execute_result",
          "data": {
            "text/plain": [
              "\"The Last of Us is a critically acclaimed game from Naughty Dog that is praised for its immersive story, gripping gameplay, and realistic characters. It follows the journey of Joel as he struggles to protect Ellie in a dangerous post-apocalyptic world. Players are moved by the characters' struggles and have hailed it as one of the best video games ever, with its story being compared to the best movies and TV series. It is an unforgettable experience that is recommended to everyone.\""
            ],
            "application/vnd.google.colaboratory.intrinsic+json": {
              "type": "string"
            }
          },
          "metadata": {},
          "execution_count": 134
        }
      ],
      "source": [
        "map_reduce(texts, llm, PROMPT)"
      ]
    },
    {
      "cell_type": "code",
      "source": [
        "elimination_processing(texts, llm, PROMPT)"
      ],
      "metadata": {
        "colab": {
          "base_uri": "https://localhost:8080/"
        },
        "id": "_qPLG6XY3_qk",
        "outputId": "0fabd7ea-df2a-4e51-e672-cd369875e2dd"
      },
      "execution_count": null,
      "outputs": [
        {
          "output_type": "execute_result",
          "data": {
            "text/plain": [
              "'The Last of Us by Naughty Dog is a critically acclaimed game that offers an intense and dramatic story, fantastic gameplay, and great voice acting, environment, characters, atmosphere and music. Players take the role of Joel in a post-apocalyptic world to deliver Ellie to a rebel group. Critics have praised the game for its story, gameplay, and characters, with many considering it one of the best games ever made.'"
            ],
            "application/vnd.google.colaboratory.intrinsic+json": {
              "type": "string"
            }
          },
          "metadata": {},
          "execution_count": 135
        }
      ]
    },
    {
      "cell_type": "code",
      "source": [
        "sliding_window_processing(texts, llm, PROMPT)"
      ],
      "metadata": {
        "colab": {
          "base_uri": "https://localhost:8080/"
        },
        "id": "7pl7Mnv58mwr",
        "outputId": "1e2740d0-5a94-4751-b2c8-df0e575e34ca"
      },
      "execution_count": null,
      "outputs": [
        {
          "output_type": "execute_result",
          "data": {
            "text/plain": [
              "'The Last of Us is a widely praised video game from Naughty Dog. It stands out from other survival games due to its intense story, engaging characters, and stunning visuals. Players take on the role of Joel and witness the growth of his relationship with Ellie. It has become a benchmark for the genre and is a must-play for any gamer.'"
            ],
            "application/vnd.google.colaboratory.intrinsic+json": {
              "type": "string"
            }
          },
          "metadata": {},
          "execution_count": 136
        }
      ]
    },
    {
      "cell_type": "code",
      "source": [
        "refine(texts, llm, PROMPT)"
      ],
      "metadata": {
        "colab": {
          "base_uri": "https://localhost:8080/"
        },
        "id": "wPgyZBRsG_Oh",
        "outputId": "47aa8393-b436-4b27-c8d5-0e92e24fb7c1"
      },
      "execution_count": null,
      "outputs": [
        {
          "output_type": "execute_result",
          "data": {
            "text/plain": [
              "'The Last of Us is a critically acclaimed game praised for its realistic graphics, engaging story, and characters players grow to love. It has been described as one of the best experiences on the PlayStation 3 due to its taut suspense and believable world. It is recommended for those looking for a deep and well-crafted game and is considered one of the greatest games ever made.'"
            ],
            "application/vnd.google.colaboratory.intrinsic+json": {
              "type": "string"
            }
          },
          "metadata": {},
          "execution_count": 137
        }
      ]
    },
    {
      "cell_type": "code",
      "source": [
        "weighted_refine(texts, llm, PROMPT)"
      ],
      "metadata": {
        "colab": {
          "base_uri": "https://localhost:8080/"
        },
        "id": "03p_zBo-XEOZ",
        "outputId": "41c81a54-9672-4f00-e27c-0c8fa19a7ee9"
      },
      "execution_count": null,
      "outputs": [
        {
          "output_type": "execute_result",
          "data": {
            "text/plain": [
              "'The Last of Us is a highly praised video game released for the Playstation 3. Players have praised it for its realistic characters, tight game play, riveting story, emotionally charged moments, and its ability to make players think of what they would do in a similar situation. It is widely considered a masterpiece and many consider it to be the best PS3 game ever released. Despite frame-rate issues, it is still highly recommended. The story, characters, dialogue, and gameplay have all been praised and it is recommended as one of the top 5 best games ever made.'"
            ],
            "application/vnd.google.colaboratory.intrinsic+json": {
              "type": "string"
            }
          },
          "metadata": {},
          "execution_count": 138
        }
      ]
    },
    {
      "cell_type": "markdown",
      "metadata": {
        "id": "p6m1mtcPViqA"
      },
      "source": [
        "## Resumindo as avaliações usando LLMs"
      ]
    },
    {
      "cell_type": "code",
      "execution_count": null,
      "metadata": {
        "id": "mfJrOiXSsUqP"
      },
      "outputs": [],
      "source": [
        "def summarize(R, S=stratified_sampling_known_class_labels_ratings, P=multiple_boundaries_partitioning, C=map_reduce):\n",
        "  # Data: Reviews R (DataFrame), Sampling Function S, Partitioning Function P, Chain Type C\n",
        "  # Result: Summarization of Reviews R\n",
        "\n",
        "  LLM = OpenAI(\n",
        "    model_name='text-davinci-003',\n",
        "    openai_api_key='OPENAI_API_KEY',\n",
        "    max_tokens=128)\n",
        "\n",
        "  prompt_template = \"\"\"Following the reviews bellow, write a small summary:\n",
        "\n",
        "  {text}\n",
        "\n",
        "  SUMMARY OF THE REVIEWS:\"\"\"\n",
        "\n",
        "  PROMPT = PromptTemplate(template=prompt_template, input_variables=[\"text\"])\n",
        "\n",
        "  if(len(R) > 50):\n",
        "    R = S(R,50)\n",
        "\n",
        "  reviews = ''\n",
        "  for r in R['review']:\n",
        "    reviews += r + ' \\n\\n '\n",
        "\n",
        "  TEXTS = P(reviews)\n",
        "\n",
        "  return C(TEXTS, LLM, PROMPT)"
      ]
    },
    {
      "cell_type": "code",
      "execution_count": null,
      "metadata": {
        "colab": {
          "base_uri": "https://localhost:8080/",
          "height": 105
        },
        "id": "PLrNa96VNnoJ",
        "outputId": "1b2c8299-7872-438b-8d1b-bdaa51f1f82f"
      },
      "outputs": [
        {
          "output_type": "execute_result",
          "data": {
            "text/plain": [
              "'The Last of Us is a critically acclaimed video game praised for its emotional narrative, intense gameplay, and impressive visuals. It follows two characters, Joel and Ellie, in a post-apocalyptic world and features unique character development and environment-based combat. It is praised for its strong soundtrack and voice acting, and many consider it to be the best game of all time. However, some have found it to be too slow-paced and overrated. It is a difficult game with occasional frame rate drops, but is still an enjoyable experience that should not be missed.'"
            ],
            "application/vnd.google.colaboratory.intrinsic+json": {
              "type": "string"
            }
          },
          "metadata": {},
          "execution_count": 143
        }
      ],
      "source": [
        "summarize(data,uniform_sampling,simple_splitting,map_reduce)"
      ]
    },
    {
      "cell_type": "code",
      "execution_count": null,
      "metadata": {
        "colab": {
          "base_uri": "https://localhost:8080/",
          "height": 88
        },
        "id": "1UQdsGKnTMJ5",
        "outputId": "146dd778-61bb-491a-c03c-79101c807c77"
      },
      "outputs": [
        {
          "output_type": "execute_result",
          "data": {
            "text/plain": [
              "'The Last of Us is a highly praised video game critically acclaimed for its engaging combat, stunning visuals, and immersive multiplayer mode. It is praised for its emotionally charged story, believable characters, and engaging gameplay, as well as its immersive world, intense characters, and realistic graphics and sound. Despite some criticism regarding AI, button mashing, and linear story, the game is seen as a masterpiece for its beautiful graphics, intense combat, and emotionally gripping narrative.'"
            ],
            "application/vnd.google.colaboratory.intrinsic+json": {
              "type": "string"
            }
          },
          "metadata": {},
          "execution_count": 144
        }
      ],
      "source": [
        "summarize(data,uniform_sampling,simple_splitting,elimination_processing)"
      ]
    },
    {
      "cell_type": "code",
      "execution_count": null,
      "metadata": {
        "colab": {
          "base_uri": "https://localhost:8080/",
          "height": 71
        },
        "id": "PYpbLsiQTOsr",
        "outputId": "ff070b43-0579-433f-fd54-7157774e4f21"
      },
      "outputs": [
        {
          "output_type": "execute_result",
          "data": {
            "text/plain": [
              "'The Last of Us has been praised for its emotional story, engaging gameplay, and realistic graphics, but there are some issues such as the hand to hand combat, lack of music, and immersion-breaking elements. Despite its flaws, many consider it one of the best games of all time and a must-play for all gamers.'"
            ],
            "application/vnd.google.colaboratory.intrinsic+json": {
              "type": "string"
            }
          },
          "metadata": {},
          "execution_count": 145
        }
      ],
      "source": [
        "summarize(data,uniform_sampling,simple_splitting,sliding_window_processing)"
      ]
    },
    {
      "cell_type": "code",
      "execution_count": null,
      "metadata": {
        "colab": {
          "base_uri": "https://localhost:8080/",
          "height": 105
        },
        "id": "M_Mp46EsTPDD",
        "outputId": "d58b610d-b41e-4030-9231-0a092307b000"
      },
      "outputs": [
        {
          "output_type": "execute_result",
          "data": {
            "text/plain": [
              "'The Last of Us for the PS3 is widely acclaimed as one of the best games of its generation, praised for its emotional story, engaging characters, and intense gameplay. The graphics, sound, voice acting, and multiplayer mode are all praised, though there are some flaws such as a lack of replayability and some bugs. Players have a wide range of opinions, with some finding the experience to be gripping and emotionally resonant, while others find the story cliche or the gameplay tedious. However, most agree that it is a masterpiece and well worth playing.'"
            ],
            "application/vnd.google.colaboratory.intrinsic+json": {
              "type": "string"
            }
          },
          "metadata": {},
          "execution_count": 146
        }
      ],
      "source": [
        "summarize(data,uniform_sampling,simple_splitting,refine)"
      ]
    },
    {
      "cell_type": "code",
      "execution_count": null,
      "metadata": {
        "colab": {
          "base_uri": "https://localhost:8080/",
          "height": 88
        },
        "id": "OZ6Ht2BaTPQ_",
        "outputId": "c7c542ba-2e3e-4e7d-ae95-ba4aca082ab5"
      },
      "outputs": [
        {
          "output_type": "execute_result",
          "data": {
            "text/plain": [
              "'The Last of Us is a critically acclaimed survival horror game that has mixed reviews but is generally praised for its storytelling, visuals, and unique gameplay. It is seen as one of the best games of all time by some, and is highly recommended by most. It has an engrossing story, compelling characters, great gameplay and atmosphere, and is considered a masterpiece by many. However, some criticize its AI and ending.'"
            ],
            "application/vnd.google.colaboratory.intrinsic+json": {
              "type": "string"
            }
          },
          "metadata": {},
          "execution_count": 147
        }
      ],
      "source": [
        "summarize(data,uniform_sampling,simple_splitting,weighted_refine)"
      ]
    },
    {
      "cell_type": "code",
      "execution_count": null,
      "metadata": {
        "colab": {
          "base_uri": "https://localhost:8080/",
          "height": 88
        },
        "id": "C9bQv3HwTPcv",
        "outputId": "9a1a26a7-0290-4b5a-ef86-2da0fb718137"
      },
      "outputs": [
        {
          "output_type": "execute_result",
          "data": {
            "text/plain": [
              "\"The Last of Us is a critically acclaimed masterpiece from Naughty Dog that is praised for its emotionally charged story, thrilling and responsive gameplay, and stunning graphics. Players take the role of Joel and Ellie as they traverse a broken America, and the realistic violence adds to the game's dark and desperate tone. Multiplayer is a little bare, but the single player campaign provides an intense and emotionally draining experience. Despite some minor flaws, such as AI issues and some bugs, the overall package is well worth the play.\""
            ],
            "application/vnd.google.colaboratory.intrinsic+json": {
              "type": "string"
            }
          },
          "metadata": {},
          "execution_count": 148
        }
      ],
      "source": [
        "summarize(data,uniform_sampling,sliding_window_partitioning,map_reduce)"
      ]
    },
    {
      "cell_type": "code",
      "execution_count": null,
      "metadata": {
        "colab": {
          "base_uri": "https://localhost:8080/",
          "height": 71
        },
        "id": "uiQ73uF4TPpl",
        "outputId": "f8c87927-4e4e-40a8-e3b5-e7dca861a2c5"
      },
      "outputs": [
        {
          "output_type": "execute_result",
          "data": {
            "text/plain": [
              "'The Last of Us is a critically acclaimed masterpiece of a game that has been praised for its visuals, gripping story, believable characters, and intense gameplay. It is a unique experience that successfully blurs the lines between movies and games and is sure to be remembered for years to come.'"
            ],
            "application/vnd.google.colaboratory.intrinsic+json": {
              "type": "string"
            }
          },
          "metadata": {},
          "execution_count": 149
        }
      ],
      "source": [
        "summarize(data,uniform_sampling,sliding_window_partitioning,elimination_processing)"
      ]
    },
    {
      "cell_type": "code",
      "execution_count": null,
      "metadata": {
        "colab": {
          "base_uri": "https://localhost:8080/",
          "height": 105
        },
        "id": "Q7hRQAtQTP2m",
        "outputId": "4503496a-059e-4d3d-edc0-3438424e62fd"
      },
      "outputs": [
        {
          "output_type": "execute_result",
          "data": {
            "text/plain": [
              "'The Last of Us is a critically acclaimed game that is praised for its outstanding graphics, emotionally engaging story, deep characters, intense gameplay, and replay value. It is an unforgettable experience that is worth the purchase despite its flaws, and is enjoyable for both single-player and multiplayer. It requires skill and strategy and is a must-play game that offers a rewarding and immersive experience. It has realistic brutality, but is not a shooting gallery and requires caution. It leaves the possibility for a sequel, though its ending may be unsatisfactory.'"
            ],
            "application/vnd.google.colaboratory.intrinsic+json": {
              "type": "string"
            }
          },
          "metadata": {},
          "execution_count": 150
        }
      ],
      "source": [
        "summarize(data,uniform_sampling,sliding_window_partitioning,sliding_window_processing)"
      ]
    },
    {
      "cell_type": "code",
      "execution_count": null,
      "metadata": {
        "colab": {
          "base_uri": "https://localhost:8080/",
          "height": 105
        },
        "id": "fwxG5A7_TQDR",
        "outputId": "af81e64d-cdf4-469e-e85a-2f5b442bccd9"
      },
      "outputs": [
        {
          "output_type": "execute_result",
          "data": {
            "text/plain": [
              "'The Last of Us is an acclaimed title praised for its visuals, soundtrack, and atmosphere. It features genre-defining mechanics, an emotionally engaging story and a unique relationship between Joel and Ellie. Despite occasional AI bugs, it is considered one of the best games of the generation and is highly recommended. Critics have praised the game for its story, atmosphere, and audio, as well as its unique action and emotion. The graphics and level design are praised, although there may be some issues with the gunplay and repetitive nature of the game. Ultimately, The Last of Us is an unforgettable experience that will leave a lasting impression.'"
            ],
            "application/vnd.google.colaboratory.intrinsic+json": {
              "type": "string"
            }
          },
          "metadata": {},
          "execution_count": 151
        }
      ],
      "source": [
        "summarize(data,uniform_sampling,sliding_window_partitioning,refine)"
      ]
    },
    {
      "cell_type": "code",
      "execution_count": null,
      "metadata": {
        "colab": {
          "base_uri": "https://localhost:8080/",
          "height": 88
        },
        "id": "jMIHtU2GTQPo",
        "outputId": "7ca0569d-6962-499d-be99-2324a9170b4e"
      },
      "outputs": [
        {
          "output_type": "execute_result",
          "data": {
            "text/plain": [
              "'The Last of Us is an acclaimed action game developed by Naughty Dog that has been praised for its beautiful graphics, story, engaging characters, and challenging gameplay. It is widely considered one of the best games ever made and is praised for its emotional connection with the characters, its tension-filled gameplay, and its stunning visuals. Though some argue that it has flaws such as its zombie-like enemies, it is still an overall must-play experience.'"
            ],
            "application/vnd.google.colaboratory.intrinsic+json": {
              "type": "string"
            }
          },
          "metadata": {},
          "execution_count": 152
        }
      ],
      "source": [
        "summarize(data,uniform_sampling,sliding_window_partitioning,weighted_refine)"
      ]
    },
    {
      "cell_type": "code",
      "execution_count": null,
      "metadata": {
        "colab": {
          "base_uri": "https://localhost:8080/",
          "height": 88
        },
        "id": "ehavEg6SNlgX",
        "outputId": "6c907b45-1390-435c-d9a4-85e663f49194"
      },
      "outputs": [
        {
          "output_type": "execute_result",
          "data": {
            "text/plain": [
              "'The Last of Us is an acclaimed post-apocalyptic video game from Naughty Dog featuring great graphics, sound, AI, and an immersive story. It has been praised for its cinematic story-telling, emotional characters, intense atmosphere, and intense horror elements. It has been rated as one of the best games of 2013 and has a strong replay value. It has been criticized for its one-dimensional characters and repetitive gameplay, but is still considered one of the best games ever made.'"
            ],
            "application/vnd.google.colaboratory.intrinsic+json": {
              "type": "string"
            }
          },
          "metadata": {},
          "execution_count": 153
        }
      ],
      "source": [
        "summarize(data,uniform_sampling,multiple_boundaries_partitioning,map_reduce)"
      ]
    },
    {
      "cell_type": "code",
      "execution_count": null,
      "metadata": {
        "colab": {
          "base_uri": "https://localhost:8080/",
          "height": 88
        },
        "id": "ZKV-7eeDTQoP",
        "outputId": "ea1e3f85-37cb-4fd9-9f0e-a234db52fa96"
      },
      "outputs": [
        {
          "output_type": "execute_result",
          "data": {
            "text/plain": [
              "'The Last of Us is an acclaimed title from Naughty Dog that has been praised for its captivating story, excellent voice acting, stunning visuals, and immersive sound design. It has won numerous awards and is widely considered one of the best PlayStation games of all time. It features realistic and lovable characters, and a gripping and believable story, however the gameplay and friendly AI could use some innovation. Despite some minor flaws, it is an unforgettable experience that will leave players feeling powerful emotions and never lose hope.'"
            ],
            "application/vnd.google.colaboratory.intrinsic+json": {
              "type": "string"
            }
          },
          "metadata": {},
          "execution_count": 154
        }
      ],
      "source": [
        "summarize(data,uniform_sampling,multiple_boundaries_partitioning,elimination_processing)"
      ]
    },
    {
      "cell_type": "code",
      "source": [
        "summarize(data,uniform_sampling,multiple_boundaries_partitioning,sliding_window_processing)"
      ],
      "metadata": {
        "colab": {
          "base_uri": "https://localhost:8080/",
          "height": 71
        },
        "id": "3AkLesh_CJE8",
        "outputId": "94626ed9-89bf-4c1e-b130-6052e0f87d22"
      },
      "execution_count": null,
      "outputs": [
        {
          "output_type": "execute_result",
          "data": {
            "text/plain": [
              "'The Last of Us is an acclaimed game from Naughty Dog, praised for its amazing story, visuals, soundtrack, characters and gameplay. It combines adventure, survival, action, stealth and exploration, with great graphics and an emotional story. Despite some feeling it is overrated and not revolutionary, it is still considered one of the greatest games of all time and is a must-play for gamers.'"
            ],
            "application/vnd.google.colaboratory.intrinsic+json": {
              "type": "string"
            }
          },
          "metadata": {},
          "execution_count": 155
        }
      ]
    },
    {
      "cell_type": "code",
      "source": [
        "summarize(data,uniform_sampling,multiple_boundaries_partitioning,refine)"
      ],
      "metadata": {
        "colab": {
          "base_uri": "https://localhost:8080/",
          "height": 88
        },
        "id": "lL3cTKV5CJhr",
        "outputId": "5f2434ef-e0ef-437e-d6ca-efcc08a3c880"
      },
      "execution_count": null,
      "outputs": [
        {
          "output_type": "execute_result",
          "data": {
            "text/plain": [
              "'The Last of Us is a critically acclaimed post-apocalyptic game that features an excellent story, realistic combat, stunning visuals, and an emotional soundtrack. Players join Joel and Ellie on an emotional journey as they navigate a dangerous post-apocalyptic world. Although the plot may be a bit underwhelming, the characters and story are captivating and engaging. The game is praised for its immersive gameplay, sound design, and deep themes. Despite a strange ending, The Last of Us is a must-play for fans of the genre.'"
            ],
            "application/vnd.google.colaboratory.intrinsic+json": {
              "type": "string"
            }
          },
          "metadata": {},
          "execution_count": 156
        }
      ]
    },
    {
      "cell_type": "code",
      "source": [
        "summarize(data,uniform_sampling,multiple_boundaries_partitioning,weighted_refine)"
      ],
      "metadata": {
        "colab": {
          "base_uri": "https://localhost:8080/",
          "height": 105
        },
        "id": "_80aEXWyCMbz",
        "outputId": "2927cc80-a765-4c82-97fc-beee1439fe96"
      },
      "execution_count": null,
      "outputs": [
        {
          "output_type": "execute_result",
          "data": {
            "text/plain": [
              "\"The Last of Us is an acclaimed post-apocalyptic game by Naughty Dog that features stunning visuals, an intense and realistic combat system, an emotionally captivating story, and an immersive and captivating gaming experience. Critics have argued that the game doesn't quite live up to the immense hype it has received, but many agree it is one of the best games of all time. It incorporates a great story telling and top notch gameplay with a light crafting system. It also has a unique multiplayer experience with a faction system that adds to the replayability. The Last of Us delivers an unforgettable experience with an intense, emotional, and engaging story that\""
            ],
            "application/vnd.google.colaboratory.intrinsic+json": {
              "type": "string"
            }
          },
          "metadata": {},
          "execution_count": 157
        }
      ]
    },
    {
      "cell_type": "code",
      "execution_count": null,
      "metadata": {
        "colab": {
          "base_uri": "https://localhost:8080/",
          "height": 88
        },
        "id": "2V4YzWoYCc-o",
        "outputId": "16fe9926-ded1-45d1-ea53-e4b71bcc2ede"
      },
      "outputs": [
        {
          "output_type": "execute_result",
          "data": {
            "text/plain": [
              "'The Last of Us is a critically acclaimed video game from Naughty Dog that has won the hearts of many players. It has stunning graphics, immersive story-telling, intense combat, crafting elements, and an awesome cast of characters. Despite some flaws such as clunky AI and repetitive gameplay, the positives of the game far outweigh the negatives. It is a must-have for any PS3 owner and is highly recommended for gamers of all levels.'"
            ],
            "application/vnd.google.colaboratory.intrinsic+json": {
              "type": "string"
            }
          },
          "metadata": {},
          "execution_count": 158
        }
      ],
      "source": [
        "summarize(data,stratified_sampling_known_class_labels_ratings,simple_splitting,map_reduce)"
      ]
    },
    {
      "cell_type": "code",
      "execution_count": null,
      "metadata": {
        "colab": {
          "base_uri": "https://localhost:8080/",
          "height": 71
        },
        "id": "yGzFr3FxCdo4",
        "outputId": "6db393bf-1121-4bf2-b203-074936bdb777"
      },
      "outputs": [
        {
          "output_type": "execute_result",
          "data": {
            "text/plain": [
              "'The Last of Us is a critically acclaimed game that is considered one of the best of all time. It features stunning visuals, a deep and emotionally gripping story, great controls, and intense multiplayer. It has some minor bugs and glitches, but nothing that detracts from the experience. It is a must-own game for any Playstation 3 owner.'"
            ],
            "application/vnd.google.colaboratory.intrinsic+json": {
              "type": "string"
            }
          },
          "metadata": {},
          "execution_count": 159
        }
      ],
      "source": [
        "summarize(data,stratified_sampling_known_class_labels_ratings,simple_splitting,elimination_processing)"
      ]
    },
    {
      "cell_type": "code",
      "execution_count": null,
      "metadata": {
        "colab": {
          "base_uri": "https://localhost:8080/",
          "height": 71
        },
        "id": "-UTo7JicCdxj",
        "outputId": "aae642c0-ba4c-4d3a-a567-859f853c7fe9"
      },
      "outputs": [
        {
          "output_type": "execute_result",
          "data": {
            "text/plain": [
              "'The Last of Us is widely regarded as one of the best games of this generation, praised for its stunning graphics, narrative, performances, and gameplay. Despite some flaws such as unpredictable AI and too-easy supply acquisition, the overall experience is highly immersive and emotionally powerful, making it a must-play for any fan of video games.'"
            ],
            "application/vnd.google.colaboratory.intrinsic+json": {
              "type": "string"
            }
          },
          "metadata": {},
          "execution_count": 160
        }
      ],
      "source": [
        "summarize(data,stratified_sampling_known_class_labels_ratings,simple_splitting,sliding_window_processing)"
      ]
    },
    {
      "cell_type": "code",
      "execution_count": null,
      "metadata": {
        "colab": {
          "base_uri": "https://localhost:8080/",
          "height": 88
        },
        "id": "Z9blWtm8Cd5O",
        "outputId": "3fbf2d33-2e9d-409d-e243-0187d5466bee"
      },
      "outputs": [
        {
          "output_type": "execute_result",
          "data": {
            "text/plain": [
              "'The Last of Us is universally acclaimed for its incredibly immersive story, characters, graphics, sound, and animations. It features intense combat and offers a unique post-apocalyptic experience that draws players in and never lets go. It is praised for its depth and emotional connection to the characters, with some claiming it to be one of the best games ever made. Despite some AI and difficulty issues, it is still a highly enjoyable game that stays with players long after the credits roll.'"
            ],
            "application/vnd.google.colaboratory.intrinsic+json": {
              "type": "string"
            }
          },
          "metadata": {},
          "execution_count": 161
        }
      ],
      "source": [
        "summarize(data,stratified_sampling_known_class_labels_ratings,simple_splitting,refine)"
      ]
    },
    {
      "cell_type": "code",
      "execution_count": null,
      "metadata": {
        "colab": {
          "base_uri": "https://localhost:8080/",
          "height": 105
        },
        "id": "jFvMCE4iCeBF",
        "outputId": "e4a90bd2-c245-43cd-ef77-317f65435ab1"
      },
      "outputs": [
        {
          "output_type": "execute_result",
          "data": {
            "text/plain": [
              "'The Last Of Us is highly praised for its stunning visuals, emotionally moving story, unpredictable plot, and combat system. The multiplayer was seen as comparatively poor to the single-player. It is widely considered to be the best game of the generation, and highly recommended for gamers of all types. It has earned many awards and is praised for its immersive story, characters, and atmosphere. It features unique gameplay with limited resources and no health regeneration, and has some graphical glitches and AI issues. Overall, it is an unforgettable experience that is praised for its story and gameplay.'"
            ],
            "application/vnd.google.colaboratory.intrinsic+json": {
              "type": "string"
            }
          },
          "metadata": {},
          "execution_count": 162
        }
      ],
      "source": [
        "summarize(data,stratified_sampling_known_class_labels_ratings,simple_splitting,weighted_refine)"
      ]
    },
    {
      "cell_type": "code",
      "execution_count": null,
      "metadata": {
        "colab": {
          "base_uri": "https://localhost:8080/",
          "height": 88
        },
        "id": "fLx90h8zCeIW",
        "outputId": "8d6cf125-73bf-4197-e937-4e2fae846e14"
      },
      "outputs": [
        {
          "output_type": "execute_result",
          "data": {
            "text/plain": [
              "'The Last of Us is a critically acclaimed masterpiece from Naughty Dog that features stunning graphics, realistic sound effects, great voice acting, and an emotionally charged storyline. It immerses players into a post apocalyptic world filled with danger and suspense, requiring strategic thinking and improvisation to survive. With its replayability, script, cinematography, and horror elements, it has revived interest in the PS3 and consoles in general. It has bugs and the AI is not perfect, but it is a must-play game for mature gamers.'"
            ],
            "application/vnd.google.colaboratory.intrinsic+json": {
              "type": "string"
            }
          },
          "metadata": {},
          "execution_count": 163
        }
      ],
      "source": [
        "summarize(data,stratified_sampling_known_class_labels_ratings,sliding_window_partitioning,map_reduce)"
      ]
    },
    {
      "cell_type": "code",
      "execution_count": null,
      "metadata": {
        "colab": {
          "base_uri": "https://localhost:8080/",
          "height": 88
        },
        "id": "auZbiBohCeOp",
        "outputId": "c0ad4c29-9765-496d-a8b4-492e8fb52223"
      },
      "outputs": [
        {
          "output_type": "execute_result",
          "data": {
            "text/plain": [
              "'The Last of Us is a critically acclaimed post-apocalyptic game from Naughty Dog that features an emotionally charged story, captivating gameplay, stunning visuals, and intense atmosphere. Its crafting system and multiplayer mode emphasize teamwork and survival, though there can be inconsistencies with the AI and some repetitiveness. Despite this, it is a great game and a must-play experience for any mature gamer.'"
            ],
            "application/vnd.google.colaboratory.intrinsic+json": {
              "type": "string"
            }
          },
          "metadata": {},
          "execution_count": 164
        }
      ],
      "source": [
        "summarize(data,stratified_sampling_known_class_labels_ratings,sliding_window_partitioning,elimination_processing)"
      ]
    },
    {
      "cell_type": "code",
      "execution_count": null,
      "metadata": {
        "colab": {
          "base_uri": "https://localhost:8080/",
          "height": 71
        },
        "id": "Apg3_y9OCeVo",
        "outputId": "fdf7ea17-d109-4b49-9401-915659a1bc6e"
      },
      "outputs": [
        {
          "output_type": "execute_result",
          "data": {
            "text/plain": [
              "'The Last of Us is a highly praised game that has earned widespread acclaim for its emotionally engaging story, attractive visuals, and intense combat. Despite some criticisms regarding AI and puzzles, the game is generally seen as a masterpiece and has become a favorite amongst gamers of all ages and backgrounds.'"
            ],
            "application/vnd.google.colaboratory.intrinsic+json": {
              "type": "string"
            }
          },
          "metadata": {},
          "execution_count": 165
        }
      ],
      "source": [
        "summarize(data,stratified_sampling_known_class_labels_ratings,sliding_window_partitioning,sliding_window_processing)"
      ]
    },
    {
      "cell_type": "code",
      "execution_count": null,
      "metadata": {
        "colab": {
          "base_uri": "https://localhost:8080/",
          "height": 71
        },
        "id": "P_FD0IfrCecG",
        "outputId": "7557e84a-90f4-452b-9356-e3dc86b44b09"
      },
      "outputs": [
        {
          "output_type": "execute_result",
          "data": {
            "text/plain": [
              "'The Last of Us is a critically acclaimed game praised for its stunning visuals, atmospheric music, and emotional story. It follows Joel and Ellie as they travel through a post-apocalyptic world, and although there may be some repetitive elements and difficult AI, the game is immersive and engrossing. It has been lauded for its beautiful visuals, emotional story, and gripping gameplay.'"
            ],
            "application/vnd.google.colaboratory.intrinsic+json": {
              "type": "string"
            }
          },
          "metadata": {},
          "execution_count": 166
        }
      ],
      "source": [
        "summarize(data,stratified_sampling_known_class_labels_ratings,sliding_window_partitioning,refine)"
      ]
    },
    {
      "cell_type": "code",
      "execution_count": null,
      "metadata": {
        "colab": {
          "base_uri": "https://localhost:8080/",
          "height": 105
        },
        "id": "_75m5UOPCeiX",
        "outputId": "df59ac87-1da8-4f2e-f5d0-ef77e704e73b"
      },
      "outputs": [
        {
          "output_type": "execute_result",
          "data": {
            "text/plain": [
              "'The Last of Us from Naughty Dog is a critically acclaimed game that has earned praise for its engaging story, visuals, characters, and gameplay. Players appreciate the game despite some issues with linearity, repetitive combat, and AI. It has been described as an emotionally charged experience that immerses players in a post-apocalyptic world and encourages them to question their morality. Many reviewers highly recommend it to anyone looking for a game that will leave a lasting impression. It has been praised for its production values, immersive world, and emotional narrative. It is widely considered to be one of the best games of all time.'"
            ],
            "application/vnd.google.colaboratory.intrinsic+json": {
              "type": "string"
            }
          },
          "metadata": {},
          "execution_count": 167
        }
      ],
      "source": [
        "summarize(data,stratified_sampling_known_class_labels_ratings,sliding_window_partitioning,weighted_refine)"
      ]
    },
    {
      "cell_type": "code",
      "execution_count": null,
      "metadata": {
        "colab": {
          "base_uri": "https://localhost:8080/",
          "height": 105
        },
        "id": "HJXbbHEfCeog",
        "outputId": "11a9ee0f-59e9-476f-f099-dd9e74cfec5e"
      },
      "outputs": [
        {
          "output_type": "execute_result",
          "data": {
            "text/plain": [
              "'The Last of Us is a genre-defining third-person shooter game with stealth elements from Naughty Dog that has received universal praise for its visuals, characters, story, sound design, and gameplay. It follows Joel and Ellie, who must survive in a post-apocalyptic world after a virus. The reviews praised the game for its immersive and emotional story, realistic gunplay and stealth, crafting, and a fun multiplayer mode. The game has become a testament to the debate over whether video games can be considered art, with its attention to detail, impressive visuals, and emotionally engaging performances from its actors. The Last of Us'"
            ],
            "application/vnd.google.colaboratory.intrinsic+json": {
              "type": "string"
            }
          },
          "metadata": {},
          "execution_count": 168
        }
      ],
      "source": [
        "summarize(data,stratified_sampling_known_class_labels_ratings,multiple_boundaries_partitioning,map_reduce)"
      ]
    },
    {
      "cell_type": "code",
      "execution_count": null,
      "metadata": {
        "colab": {
          "base_uri": "https://localhost:8080/",
          "height": 71
        },
        "id": "iqAjuCxcCeuz",
        "outputId": "c1046b32-e520-47c7-812e-1d48bf3e4a42"
      },
      "outputs": [
        {
          "output_type": "execute_result",
          "data": {
            "text/plain": [
              "'The Last of Us is generally praised for its immersive presentation, captivating story, and tactical gameplay. While there are some criticisms of its repetitive game-play, poor AI, and unsatisfying ending, it is still considered a great game overall and is compared to some of the greatest games of all time.'"
            ],
            "application/vnd.google.colaboratory.intrinsic+json": {
              "type": "string"
            }
          },
          "metadata": {},
          "execution_count": 169
        }
      ],
      "source": [
        "summarize(data,stratified_sampling_known_class_labels_ratings,multiple_boundaries_partitioning,elimination_processing)"
      ]
    },
    {
      "cell_type": "code",
      "execution_count": null,
      "metadata": {
        "colab": {
          "base_uri": "https://localhost:8080/",
          "height": 71
        },
        "id": "vCor_ht6Ce1G",
        "outputId": "afffb621-031f-4807-a894-638f5e4583c6"
      },
      "outputs": [
        {
          "output_type": "execute_result",
          "data": {
            "text/plain": [
              "'The Last of Us is a highly praised game, seen by many as a masterpiece with an emotional story, immersive gameplay, and near-realistic graphics. It is a benchmark for single-player campaigns, with its unique multiplayer mode being both challenging and fun. Despite some criticism of its repetitive gameplay and cliched plot, it is almost universally praised and should not be missed.'"
            ],
            "application/vnd.google.colaboratory.intrinsic+json": {
              "type": "string"
            }
          },
          "metadata": {},
          "execution_count": 170
        }
      ],
      "source": [
        "summarize(data,stratified_sampling_known_class_labels_ratings,multiple_boundaries_partitioning,sliding_window_processing)"
      ]
    },
    {
      "cell_type": "code",
      "execution_count": null,
      "metadata": {
        "colab": {
          "base_uri": "https://localhost:8080/",
          "height": 105
        },
        "id": "Wtf_7RSOCe7P",
        "outputId": "3104f42b-5cfd-48d1-e873-766b7e3ec955"
      },
      "outputs": [
        {
          "output_type": "execute_result",
          "data": {
            "text/plain": [
              "\"The Last of Us is a PS3 exclusive game highly praised for its cinematic storytelling, graphics, soundtrack, upgrade system, crafting and journal-using mechanics, and character development. There are criticisms of the game's repetitive gameplay and dumb AI, but it is still recommended for its emotional journey and beauty. It is a unique masterpiece that has made many players feel with the characters and kept them thrilled throughout the game. It is praised for its excellent audio, voice acting, and graphics, and is considered one of the greatest games of all time.\""
            ],
            "application/vnd.google.colaboratory.intrinsic+json": {
              "type": "string"
            }
          },
          "metadata": {},
          "execution_count": 171
        }
      ],
      "source": [
        "summarize(data,stratified_sampling_known_class_labels_ratings,multiple_boundaries_partitioning,refine)"
      ]
    },
    {
      "cell_type": "code",
      "execution_count": null,
      "metadata": {
        "colab": {
          "base_uri": "https://localhost:8080/",
          "height": 105
        },
        "id": "deWoHJ9-CfCQ",
        "outputId": "0fbac084-57bc-4ba3-e126-273b67b77c6b"
      },
      "outputs": [
        {
          "output_type": "execute_result",
          "data": {
            "text/plain": [
              "\"The Last of Us is an acclaimed post-apocalyptic game praised for its story, characters, atmosphere, and graphics. It is unanimously rated as a must-play for PlayStation 3 players and features a mix of stealth and action gameplay, as well as an adventure element and multiplayer mode. It is considered one of the best games ever made for its emotional depth and compelling characters. Players have praised the game's visuals, plot-line, character development, and voice acting, while also noting the tough and realistic fighting. The Last of Us is deemed a masterpiece for its story, which features layers of messages and takeaways, and its characters,\""
            ],
            "application/vnd.google.colaboratory.intrinsic+json": {
              "type": "string"
            }
          },
          "metadata": {},
          "execution_count": 172
        }
      ],
      "source": [
        "summarize(data,stratified_sampling_known_class_labels_ratings,multiple_boundaries_partitioning,weighted_refine)"
      ]
    },
    {
      "cell_type": "code",
      "execution_count": null,
      "metadata": {
        "colab": {
          "base_uri": "https://localhost:8080/",
          "height": 88
        },
        "id": "Zd7wOkmsCfJH",
        "outputId": "51ac1c97-fcb0-4d6d-c73d-1c10fb18de22"
      },
      "outputs": [
        {
          "output_type": "execute_result",
          "data": {
            "text/plain": [
              "'The Last of Us is widely praised as one of the best games of the PS3 era. It has stunning graphics, an emotionally gripping story, and intense gameplay. It features a crafting system and combat that takes some time to master, and the acting and character development are praised. There are some criticisms about its difficulty curve and lack of urgency, but overall, it is considered a classic and unforgettable experience.'"
            ],
            "application/vnd.google.colaboratory.intrinsic+json": {
              "type": "string"
            }
          },
          "metadata": {},
          "execution_count": 173
        }
      ],
      "source": [
        "summarize(data,stratified_sampling_known_class_labels_groups,simple_splitting,map_reduce)"
      ]
    },
    {
      "cell_type": "code",
      "execution_count": null,
      "metadata": {
        "colab": {
          "base_uri": "https://localhost:8080/",
          "height": 88
        },
        "id": "204CmfCdCfPs",
        "outputId": "d0c8fa4f-9907-42ab-c314-8a4def44860a"
      },
      "outputs": [
        {
          "output_type": "execute_result",
          "data": {
            "text/plain": [
              "'The Last of Us is a highly praised game that has been lauded for its emotionally engaging narrative, stunning visuals, and tense and immersive gameplay. It has been considered a masterpiece of storytelling, visuals, and gameplay and is recommended for anyone looking for a great story and an immersive gaming experience. Although some have found the AI companions to be lacking and the story to be cliche, the game is still highly recommended and the multiplayer is enjoyable.'"
            ],
            "application/vnd.google.colaboratory.intrinsic+json": {
              "type": "string"
            }
          },
          "metadata": {},
          "execution_count": 174
        }
      ],
      "source": [
        "summarize(data,stratified_sampling_known_class_labels_groups,simple_splitting,elimination_processing)"
      ]
    },
    {
      "cell_type": "code",
      "execution_count": null,
      "metadata": {
        "colab": {
          "base_uri": "https://localhost:8080/",
          "height": 88
        },
        "id": "B7J_lDvPCfWa",
        "outputId": "8c2e6b5d-3295-49a9-9193-94f92947c8e8"
      },
      "outputs": [
        {
          "output_type": "execute_result",
          "data": {
            "text/plain": [
              "'The Last of Us from Naughty Dog is a highly praised post-apocalyptic and survival horror game that has been lauded for its cinematic storytelling, lifelike animations, creative gameplay, and replay value. It has been hailed as one of the best games of the seventh generation and the best game of 2013. Although some minor grievances such as AI interaction and lack of content have been noted, the game is still seen as perfect and is given a full 10/10 rating.'"
            ],
            "application/vnd.google.colaboratory.intrinsic+json": {
              "type": "string"
            }
          },
          "metadata": {},
          "execution_count": 175
        }
      ],
      "source": [
        "summarize(data,stratified_sampling_known_class_labels_groups,simple_splitting,sliding_window_processing)"
      ]
    },
    {
      "cell_type": "code",
      "execution_count": null,
      "metadata": {
        "colab": {
          "base_uri": "https://localhost:8080/",
          "height": 88
        },
        "id": "_N041GScCfcb",
        "outputId": "cee6e57a-5fbe-48a8-8608-42eecdc7c7b1"
      },
      "outputs": [
        {
          "output_type": "execute_result",
          "data": {
            "text/plain": [
              "'The Last Of Us is hailed as a masterpiece due to its incredible story, graphics, and voice acting. It has won over 200 awards and is considered one of the greatest games of all time. Players are pulled into a post-apocalyptic world full of danger, and must use limited ammo to face intense and challenging scenarios. Despite some minor glitches and lack of character development, The Last Of Us is an all-time classic and a testament to the art form of video games.'"
            ],
            "application/vnd.google.colaboratory.intrinsic+json": {
              "type": "string"
            }
          },
          "metadata": {},
          "execution_count": 176
        }
      ],
      "source": [
        "summarize(data,stratified_sampling_known_class_labels_groups,simple_splitting,refine)"
      ]
    },
    {
      "cell_type": "code",
      "execution_count": null,
      "metadata": {
        "colab": {
          "base_uri": "https://localhost:8080/",
          "height": 88
        },
        "id": "MylWT4TCCfjb",
        "outputId": "e166c19b-ada9-422f-9082-18511aff004a"
      },
      "outputs": [
        {
          "output_type": "execute_result",
          "data": {
            "text/plain": [
              "'The Last of Us is widely acclaimed as one of the best video games of all time, praised for its emotionally gripping story, realistic graphics, and engaging atmosphere. While it has been criticized for its AI issues and linearity, many people still consider it to be an essential piece of interactive entertainment. It has earned near unanimous praise for its masterful narrative, beautiful graphics, and engaging gameplay. It is a unique experience that can be enjoyed by fans of all types of games.'"
            ],
            "application/vnd.google.colaboratory.intrinsic+json": {
              "type": "string"
            }
          },
          "metadata": {},
          "execution_count": 177
        }
      ],
      "source": [
        "summarize(data,stratified_sampling_known_class_labels_groups,simple_splitting,weighted_refine)"
      ]
    },
    {
      "cell_type": "code",
      "execution_count": null,
      "metadata": {
        "colab": {
          "base_uri": "https://localhost:8080/",
          "height": 105
        },
        "id": "pIhZwgJ1CfqR",
        "outputId": "e2061d98-92c1-4486-a6be-86351382ea80"
      },
      "outputs": [
        {
          "output_type": "execute_result",
          "data": {
            "text/plain": [
              "'The Last of Us is a critically acclaimed post-apocalyptic game that has become a beloved classic. It features stunning visuals, immersive gameplay, and an emotional story with characters that draw players in. The game has earned an impressive number of perfect scores and multiple awards, making it a must-play for any fan of the genre or gaming in general. It is praised for its character writing, setting, and relationship between Joel and Ellie, as well as its tactical and stealth-based gameplay and online mode. Despite its few criticisms, such as repetitive elements and predictable plot, it is highly recommended and considered to be one of the best'"
            ],
            "application/vnd.google.colaboratory.intrinsic+json": {
              "type": "string"
            }
          },
          "metadata": {},
          "execution_count": 178
        }
      ],
      "source": [
        "summarize(data,stratified_sampling_known_class_labels_groups,sliding_window_partitioning,map_reduce)"
      ]
    },
    {
      "cell_type": "code",
      "execution_count": null,
      "metadata": {
        "colab": {
          "base_uri": "https://localhost:8080/",
          "height": 71
        },
        "id": "-NL0AH9aCfwv",
        "outputId": "2057385b-268c-47fc-ee7e-4d6cf12592dc"
      },
      "outputs": [
        {
          "output_type": "execute_result",
          "data": {
            "text/plain": [
              "'The Last of Us is a critically acclaimed post-apocalyptic game with realistic gameplay, intense action sequences, a powerful story, and a great soundtrack. It is praised for its gripping story, beautiful visuals, immersive gameplay, and replayability, and is considered a must-play for any PlayStation 3 owners.'"
            ],
            "application/vnd.google.colaboratory.intrinsic+json": {
              "type": "string"
            }
          },
          "metadata": {},
          "execution_count": 179
        }
      ],
      "source": [
        "summarize(data,stratified_sampling_known_class_labels_groups,sliding_window_partitioning,elimination_processing)"
      ]
    },
    {
      "cell_type": "code",
      "execution_count": null,
      "metadata": {
        "colab": {
          "base_uri": "https://localhost:8080/",
          "height": 88
        },
        "id": "SY1zUuHECf3s",
        "outputId": "d3418c6e-6793-4fde-fe54-bbb5a0519478"
      },
      "outputs": [
        {
          "output_type": "execute_result",
          "data": {
            "text/plain": [
              "'The Last of Us is a critically acclaimed video game developed by Naughty Dog that has earned praise for its engaging story, gripping plot, realistic characters, stunning visuals, and intense tactical combat. Although there are some issues with its third-person shooter gameplay, quicktime events, and generic and forgettable moments, the game is still highly regarded and is seen as one of the greatest games ever. It is a must-play for any fan of the genre.'"
            ],
            "application/vnd.google.colaboratory.intrinsic+json": {
              "type": "string"
            }
          },
          "metadata": {},
          "execution_count": 180
        }
      ],
      "source": [
        "summarize(data,stratified_sampling_known_class_labels_groups,sliding_window_partitioning,sliding_window_processing)"
      ]
    },
    {
      "cell_type": "code",
      "execution_count": null,
      "metadata": {
        "colab": {
          "base_uri": "https://localhost:8080/",
          "height": 88
        },
        "id": "EIO6TarhCf-2",
        "outputId": "a1774398-1302-47af-b03e-127e5367bc64"
      },
      "outputs": [
        {
          "output_type": "execute_result",
          "data": {
            "text/plain": [
              "'The Last of Us is a critically acclaimed masterpiece from Naughty Dog that has been praised for its emotionally impactful story and characters, intense and realistic gameplay, award-winning voice acting, and gorgeous graphics. Fans of the game note some minor flaws such as a lack of weapon variety and some bugs, yet it is still considered one of the best video games ever created. With its heart-wrenching story and unforgettable gaming experience, The Last of Us is a must-play for any serious video game fan.'"
            ],
            "application/vnd.google.colaboratory.intrinsic+json": {
              "type": "string"
            }
          },
          "metadata": {},
          "execution_count": 181
        }
      ],
      "source": [
        "summarize(data,stratified_sampling_known_class_labels_groups,sliding_window_partitioning,refine)"
      ]
    },
    {
      "cell_type": "code",
      "execution_count": null,
      "metadata": {
        "colab": {
          "base_uri": "https://localhost:8080/",
          "height": 88
        },
        "id": "0Yyni6LLCgIF",
        "outputId": "449bff93-bce7-4316-d56c-c05cb3412602"
      },
      "outputs": [
        {
          "output_type": "execute_result",
          "data": {
            "text/plain": [
              "'The Last of Us is a critically acclaimed game that has won universal 10/10 scores and is highly praised for its powerful story, great characters, satisfying gameplay, stunning graphics, and immersive atmosphere. Despite some criticisms of its linearity and repetitive elements, many consider it a masterpiece. The reviewer personally gave it a 9.7/10 rating, noting that while there are some minor issues, it is still an amazing game and is highly recommended.'"
            ],
            "application/vnd.google.colaboratory.intrinsic+json": {
              "type": "string"
            }
          },
          "metadata": {},
          "execution_count": 182
        }
      ],
      "source": [
        "summarize(data,stratified_sampling_known_class_labels_groups,sliding_window_partitioning,weighted_refine)"
      ]
    },
    {
      "cell_type": "code",
      "execution_count": null,
      "metadata": {
        "colab": {
          "base_uri": "https://localhost:8080/",
          "height": 88
        },
        "id": "SObQS6jICgVn",
        "outputId": "77e4e6c4-4ee0-42ba-ed9b-50ed478cfa91"
      },
      "outputs": [
        {
          "output_type": "execute_result",
          "data": {
            "text/plain": [
              "'The Last of Us is a highly acclaimed survival horror game for Playstation 3, developed by Naughty Dog and released in 2013. It received widespread praise for its compelling story, intense atmosphere, and engaging gameplay. Players have praised the visuals, sound, and crafting mechanics, but some have criticized it for its overly scripted combat scenes and lack of exploration. Despite some flaws, it is considered one of the best games of all time and has been deemed a masterpiece by many.'"
            ],
            "application/vnd.google.colaboratory.intrinsic+json": {
              "type": "string"
            }
          },
          "metadata": {},
          "execution_count": 183
        }
      ],
      "source": [
        "summarize(data,stratified_sampling_known_class_labels_groups,multiple_boundaries_partitioning,map_reduce)"
      ]
    },
    {
      "cell_type": "code",
      "execution_count": null,
      "metadata": {
        "colab": {
          "base_uri": "https://localhost:8080/",
          "height": 88
        },
        "id": "Qi44feW_CggR",
        "outputId": "4b7b41b9-00a5-4f33-deb6-959a4f7ed63e"
      },
      "outputs": [
        {
          "output_type": "execute_result",
          "data": {
            "text/plain": [
              "'The Last of Us is widely acclaimed as a modern masterpiece, praised for its emotional storytelling, memorable characters, beautiful graphics, and strategic gameplay. It is one of the best games of its generation, with immersive gameplay, stunning visual and sound design, and a unique combination of stealth, shooting, and resource management. Despite some minor bugs and glitches, it has been hailed as one of the best games of all time.'"
            ],
            "application/vnd.google.colaboratory.intrinsic+json": {
              "type": "string"
            }
          },
          "metadata": {},
          "execution_count": 184
        }
      ],
      "source": [
        "summarize(data,stratified_sampling_known_class_labels_groups,multiple_boundaries_partitioning,elimination_processing)"
      ]
    },
    {
      "cell_type": "code",
      "execution_count": null,
      "metadata": {
        "colab": {
          "base_uri": "https://localhost:8080/",
          "height": 71
        },
        "id": "pwXHL6wWCgrL",
        "outputId": "ebae3467-3963-492b-c9a2-484411a4a5ca"
      },
      "outputs": [
        {
          "output_type": "execute_result",
          "data": {
            "text/plain": [
              "'The Last of Us is widely praised for its engaging story, visuals, voice acting, and immersive gameplay. While some reviewers have noted certain shortcomings, it is still considered an excellent game and a must-play for PlayStation owners. It features intense stealth/action gameplay, well-crafted characters, and a refined multiplayer mode.'"
            ],
            "application/vnd.google.colaboratory.intrinsic+json": {
              "type": "string"
            }
          },
          "metadata": {},
          "execution_count": 185
        }
      ],
      "source": [
        "summarize(data,stratified_sampling_known_class_labels_groups,multiple_boundaries_partitioning,sliding_window_processing)"
      ]
    },
    {
      "cell_type": "code",
      "execution_count": null,
      "metadata": {
        "colab": {
          "base_uri": "https://localhost:8080/",
          "height": 71
        },
        "id": "RScjjDBMCg5u",
        "outputId": "f0635fc1-3b52-4b8d-a446-be98e7a57fd2"
      },
      "outputs": [
        {
          "output_type": "execute_result",
          "data": {
            "text/plain": [
              "'The Last of Us is widely praised for its story, characters, graphics, and immersive atmosphere. It is often considered one of the best games of the past generation and is a must-have for those wanting to experience an emotionally charged, cinematic story-driven game. It has some flaws such as linearity and AI, but its overall experience is worth it.'"
            ],
            "application/vnd.google.colaboratory.intrinsic+json": {
              "type": "string"
            }
          },
          "metadata": {},
          "execution_count": 186
        }
      ],
      "source": [
        "summarize(data,stratified_sampling_known_class_labels_groups,multiple_boundaries_partitioning,refine)"
      ]
    },
    {
      "cell_type": "code",
      "execution_count": null,
      "metadata": {
        "colab": {
          "base_uri": "https://localhost:8080/",
          "height": 105
        },
        "id": "TYywYLqKChXP",
        "outputId": "ba1ca1ee-ee97-42bb-f8f5-7764beaf603e"
      },
      "outputs": [
        {
          "output_type": "execute_result",
          "data": {
            "text/plain": [
              "\"The Last of Us has been widely praised for its story, characters, graphics, sound, cinematics, and replay value. Although some criticize the repetitive and unimaginative gameplay, it has been acclaimed for its creative ideas and classic gaming elements. It is often considered one of the best games of the generation and is remembered for its emotional storyline and ending. Naughty Dog's new IP from Neil Druckmann is a brutalist survival masterpiece, with incredible graphics, a great story and balanced stealth gameplay. It is highly recommended, and some even believe it is the best game ever made.\""
            ],
            "application/vnd.google.colaboratory.intrinsic+json": {
              "type": "string"
            }
          },
          "metadata": {},
          "execution_count": 187
        }
      ],
      "source": [
        "summarize(data,stratified_sampling_known_class_labels_groups,multiple_boundaries_partitioning,weighted_refine)"
      ]
    }
  ],
  "metadata": {
    "colab": {
      "provenance": []
    },
    "kernelspec": {
      "display_name": "Python 3",
      "name": "python3"
    },
    "language_info": {
      "name": "python"
    }
  },
  "nbformat": 4,
  "nbformat_minor": 0
}
