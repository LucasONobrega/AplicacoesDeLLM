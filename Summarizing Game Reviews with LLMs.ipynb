{
  "nbformat": 4,
  "nbformat_minor": 0,
  "metadata": {
    "colab": {
      "provenance": []
    },
    "kernelspec": {
      "name": "python3",
      "display_name": "Python 3"
    },
    "language_info": {
      "name": "python"
    }
  },
  "cells": [
    {
      "cell_type": "markdown",
      "source": [
        "#Summarizing Game Reviews with LLMs"
      ],
      "metadata": {
        "id": "kmhBIe4dLgP0"
      }
    },
    {
      "cell_type": "markdown",
      "source": [
        "## Importando os pacotes"
      ],
      "metadata": {
        "id": "NYHYq4_QTkkZ"
      }
    },
    {
      "cell_type": "code",
      "source": [
        "!pip install -q openai\n",
        "!pip install -q langchain\n",
        "!pip install -q tiktoken\n",
        "!pip install -q requests\n",
        "!pip install -q bs4\n",
        "!pip install -q langdetect"
      ],
      "metadata": {
        "id": "hrbe8u4sOjXa",
        "colab": {
          "base_uri": "https://localhost:8080/"
        },
        "outputId": "18d54c1d-23bc-4e1b-e3be-0b8886699d6e"
      },
      "execution_count": null,
      "outputs": [
        {
          "output_type": "stream",
          "name": "stdout",
          "text": [
            "\u001b[2K     \u001b[90m━━━━━━━━━━━━━━━━━━━━━━━━━━━━━━━━━━━━━━━━\u001b[0m \u001b[32m73.6/73.6 kB\u001b[0m \u001b[31m2.1 MB/s\u001b[0m eta \u001b[36m0:00:00\u001b[0m\n",
            "\u001b[2K     \u001b[90m━━━━━━━━━━━━━━━━━━━━━━━━━━━━━━━━━━━━━━━━\u001b[0m \u001b[32m1.5/1.5 MB\u001b[0m \u001b[31m7.4 MB/s\u001b[0m eta \u001b[36m0:00:00\u001b[0m\n",
            "\u001b[2K     \u001b[90m━━━━━━━━━━━━━━━━━━━━━━━━━━━━━━━━━━━━━━━━\u001b[0m \u001b[32m90.0/90.0 kB\u001b[0m \u001b[31m7.3 MB/s\u001b[0m eta \u001b[36m0:00:00\u001b[0m\n",
            "\u001b[2K     \u001b[90m━━━━━━━━━━━━━━━━━━━━━━━━━━━━━━━━━━━━━━━━\u001b[0m \u001b[32m3.1/3.1 MB\u001b[0m \u001b[31m17.7 MB/s\u001b[0m eta \u001b[36m0:00:00\u001b[0m\n",
            "\u001b[2K     \u001b[90m━━━━━━━━━━━━━━━━━━━━━━━━━━━━━━━━━━━━━━━━\u001b[0m \u001b[32m49.4/49.4 kB\u001b[0m \u001b[31m3.1 MB/s\u001b[0m eta \u001b[36m0:00:00\u001b[0m\n",
            "\u001b[2K     \u001b[90m━━━━━━━━━━━━━━━━━━━━━━━━━━━━━━━━━━━━━━━━\u001b[0m \u001b[32m1.7/1.7 MB\u001b[0m \u001b[31m8.4 MB/s\u001b[0m eta \u001b[36m0:00:00\u001b[0m\n",
            "\u001b[?25h  Preparing metadata (setup.py) ... \u001b[?25l\u001b[?25hdone\n",
            "  Building wheel for bs4 (setup.py) ... \u001b[?25l\u001b[?25hdone\n",
            "\u001b[2K     \u001b[90m━━━━━━━━━━━━━━━━━━━━━━━━━━━━━━━━━━━━━━━\u001b[0m \u001b[32m981.5/981.5 kB\u001b[0m \u001b[31m8.0 MB/s\u001b[0m eta \u001b[36m0:00:00\u001b[0m\n",
            "\u001b[?25h  Preparing metadata (setup.py) ... \u001b[?25l\u001b[?25hdone\n",
            "  Building wheel for langdetect (setup.py) ... \u001b[?25l\u001b[?25hdone\n"
          ]
        }
      ]
    },
    {
      "cell_type": "code",
      "source": [
        "import openai\n",
        "import tiktoken\n",
        "import requests\n",
        "import re\n",
        "import pandas as pd\n",
        "import numpy as np\n",
        "from langchain import OpenAI, PromptTemplate, LLMChain\n",
        "from langchain.text_splitter import CharacterTextSplitter\n",
        "from langchain.text_splitter import RecursiveCharacterTextSplitter\n",
        "from langchain.chains.mapreduce import MapReduceChain\n",
        "from langchain.chains.summarize import load_summarize_chain\n",
        "from langchain.prompts import PromptTemplate\n",
        "from langchain.docstore.document import Document\n",
        "from bs4 import BeautifulSoup\n",
        "from langdetect import detect"
      ],
      "metadata": {
        "id": "JUWLWbKeLdvZ"
      },
      "execution_count": null,
      "outputs": []
    },
    {
      "cell_type": "markdown",
      "source": [
        "## Extraindo os dados do Metacritic"
      ],
      "metadata": {
        "id": "RqtzITI_Pjmb"
      }
    },
    {
      "cell_type": "code",
      "source": [
        "# verifica se a próxima página de reviews existe\n",
        "def nextPage(soup):\n",
        "  if(soup.find(rel=\"next\") == None):\n",
        "    return False\n",
        "\n",
        "  return True"
      ],
      "metadata": {
        "id": "QjE8eUItjPQw"
      },
      "execution_count": null,
      "outputs": []
    },
    {
      "cell_type": "code",
      "source": [
        "def web_scraping(link):\n",
        "  v = link\n",
        "  v = v[32:]\n",
        "  div = v.find('/')\n",
        "  platform = v[:div]\n",
        "  v = v[div+1:]\n",
        "  div = v.find('/')\n",
        "  game = v[:div]\n",
        "  v = v[div+1:]\n",
        "  div = v.find('/')\n",
        "  reviewer = v[:]\n",
        "\n",
        "  print(f'Web Scraping: {game} of {platform} ({reviewer})')\n",
        "  review_dict = {'name':[], 'date':[], 'rating':[], 'review':[]}\n",
        "  page = 0\n",
        "\n",
        "  url = link + '?page='+str(page)\n",
        "  user_agent = {'User-agent': \"Mozilla/5.0 (Windows NT 10.0; Win64; x64) AppleWebKit/537.36 (KHTML, like Gecko) Chrome/88.0.4324.182 Safari/537.36\"}\n",
        "  response  = requests.get(url, headers = user_agent)\n",
        "  soup = BeautifulSoup(response.text, 'html.parser')\n",
        "\n",
        "  while((reviewer == 'user-reviews' and (nextPage(soup) or page == 0)) or (reviewer == 'critic-reviews' and page == 0)):\n",
        "    # print(f'Page {page}')\n",
        "\n",
        "    for review in soup.find_all('div', class_='review_content'):\n",
        "      if review == None:\n",
        "        break\n",
        "\n",
        "      if(reviewer == 'user-reviews'):\n",
        "        if review.find('span', class_='blurb blurb_expanded'):\n",
        "          rv = review.find('span', class_='blurb blurb_expanded').text\n",
        "        else:\n",
        "          if(review.find('div', class_='review_body').find('span') is None):\n",
        "            rv = ''\n",
        "          else:\n",
        "            rv = review.find('div', class_='review_body').find('span').text\n",
        "      else:\n",
        "        if(review.find('div', class_='review_body') is None):\n",
        "          rv = ''\n",
        "        else:\n",
        "          rv = review.find('div', class_='review_body').text\n",
        "\n",
        "      try:\n",
        "        language = detect(rv)\n",
        "      except:\n",
        "        continue\n",
        "\n",
        "      if(language == 'en'):\n",
        "        try:\n",
        "          if(reviewer == 'user-reviews'):\n",
        "            name = review.find('div', class_='name').find('a').text\n",
        "            rating = int(review.find('div', class_='review_grade').find_all('div')[0].text)\n",
        "          else:\n",
        "            name = review.find('div', class_='source').find('a').text\n",
        "            rating = int(review.find('div', class_='review_grade').find_all('div')[0].text)\n",
        "            rating = round(rating/10)\n",
        "\n",
        "          date = review.find('div', class_='date').text\n",
        "\n",
        "        except:\n",
        "          continue\n",
        "\n",
        "        review_dict['name'].append(name)\n",
        "        review_dict['date'].append(date)\n",
        "        review_dict['rating'].append(rating)\n",
        "        review_dict['review'].append(rv)\n",
        "\n",
        "    page += 1\n",
        "    url = link+'?page='+str(page)\n",
        "    user_agent = {'User-agent': \"Mozilla/5.0 (Windows NT 10.0; Win64; x64) AppleWebKit/537.36 (KHTML, like Gecko) Chrome/88.0.4324.182 Safari/537.36\"}\n",
        "    response  = requests.get(url, headers = user_agent)\n",
        "    soup = BeautifulSoup(response.text, 'html.parser')\n",
        "\n",
        "  data = pd.DataFrame(review_dict)\n",
        "  data['review'] = [\" \".join(r.split()) for r in data['review']]\n",
        "  return data"
      ],
      "metadata": {
        "id": "rT3Ge3Uv-HXH"
      },
      "execution_count": null,
      "outputs": []
    },
    {
      "cell_type": "code",
      "source": [
        "link = \"https://www.metacritic.com/game/playstation-3/the-last-of-us/user-reviews\"\n",
        "data = web_scraping(link)\n",
        "data"
      ],
      "metadata": {
        "id": "EsuXskkkQ-8y",
        "colab": {
          "base_uri": "https://localhost:8080/",
          "height": 441
        },
        "outputId": "4b57aa64-1cab-419b-8f8c-1349be70a4e9"
      },
      "execution_count": null,
      "outputs": [
        {
          "output_type": "stream",
          "name": "stdout",
          "text": [
            "Web Scraping: the-last-of-us of playstation-3 (user-reviews)\n"
          ]
        },
        {
          "output_type": "execute_result",
          "data": {
            "text/plain": [
              "                 name          date  rating  \\\n",
              "0          brad3ngunn  Jun 14, 2013      10   \n",
              "1         Badonkadonk  Jun 15, 2013      10   \n",
              "2          jakenelson  Jun 18, 2013      10   \n",
              "3             Qishere  Jun 14, 2013      10   \n",
              "4     journeyfreak787  Jun 14, 2013      10   \n",
              "...               ...           ...     ...   \n",
              "2336          Aleklar  May 18, 2023      10   \n",
              "2337    OMGitsTHEMEMI  May 18, 2023      10   \n",
              "2338       AlesiLeite  May 30, 2023       9   \n",
              "2339            Diven  May 21, 2023      10   \n",
              "2340              Vcs  May 22, 2023      10   \n",
              "\n",
              "                                                 review  \n",
              "0     I don't know what I can really say about this ...  \n",
              "1     I wouldn't call this game perfect, but it's pr...  \n",
              "2     I don't think I have ever played a game like t...  \n",
              "3     You should realize right from the beginning, y...  \n",
              "4     This game truly is phenomenal. Naughty Dog pro...  \n",
              "...                                                 ...  \n",
              "2336  This game is perfect This game is perfect This...  \n",
              "2337  This game is just perfection from the amazingl...  \n",
              "2338  A game that gives you the feeling of immersing...  \n",
              "2339  Nice game really nice to play , waiting for pa...  \n",
              "2340  Best game ever created. Story amazing, graphic...  \n",
              "\n",
              "[2341 rows x 4 columns]"
            ],
            "text/html": [
              "\n",
              "\n",
              "  <div id=\"df-40512e11-3402-4db5-a9a8-0dfe22293369\">\n",
              "    <div class=\"colab-df-container\">\n",
              "      <div>\n",
              "<style scoped>\n",
              "    .dataframe tbody tr th:only-of-type {\n",
              "        vertical-align: middle;\n",
              "    }\n",
              "\n",
              "    .dataframe tbody tr th {\n",
              "        vertical-align: top;\n",
              "    }\n",
              "\n",
              "    .dataframe thead th {\n",
              "        text-align: right;\n",
              "    }\n",
              "</style>\n",
              "<table border=\"1\" class=\"dataframe\">\n",
              "  <thead>\n",
              "    <tr style=\"text-align: right;\">\n",
              "      <th></th>\n",
              "      <th>name</th>\n",
              "      <th>date</th>\n",
              "      <th>rating</th>\n",
              "      <th>review</th>\n",
              "    </tr>\n",
              "  </thead>\n",
              "  <tbody>\n",
              "    <tr>\n",
              "      <th>0</th>\n",
              "      <td>brad3ngunn</td>\n",
              "      <td>Jun 14, 2013</td>\n",
              "      <td>10</td>\n",
              "      <td>I don't know what I can really say about this ...</td>\n",
              "    </tr>\n",
              "    <tr>\n",
              "      <th>1</th>\n",
              "      <td>Badonkadonk</td>\n",
              "      <td>Jun 15, 2013</td>\n",
              "      <td>10</td>\n",
              "      <td>I wouldn't call this game perfect, but it's pr...</td>\n",
              "    </tr>\n",
              "    <tr>\n",
              "      <th>2</th>\n",
              "      <td>jakenelson</td>\n",
              "      <td>Jun 18, 2013</td>\n",
              "      <td>10</td>\n",
              "      <td>I don't think I have ever played a game like t...</td>\n",
              "    </tr>\n",
              "    <tr>\n",
              "      <th>3</th>\n",
              "      <td>Qishere</td>\n",
              "      <td>Jun 14, 2013</td>\n",
              "      <td>10</td>\n",
              "      <td>You should realize right from the beginning, y...</td>\n",
              "    </tr>\n",
              "    <tr>\n",
              "      <th>4</th>\n",
              "      <td>journeyfreak787</td>\n",
              "      <td>Jun 14, 2013</td>\n",
              "      <td>10</td>\n",
              "      <td>This game truly is phenomenal. Naughty Dog pro...</td>\n",
              "    </tr>\n",
              "    <tr>\n",
              "      <th>...</th>\n",
              "      <td>...</td>\n",
              "      <td>...</td>\n",
              "      <td>...</td>\n",
              "      <td>...</td>\n",
              "    </tr>\n",
              "    <tr>\n",
              "      <th>2336</th>\n",
              "      <td>Aleklar</td>\n",
              "      <td>May 18, 2023</td>\n",
              "      <td>10</td>\n",
              "      <td>This game is perfect This game is perfect This...</td>\n",
              "    </tr>\n",
              "    <tr>\n",
              "      <th>2337</th>\n",
              "      <td>OMGitsTHEMEMI</td>\n",
              "      <td>May 18, 2023</td>\n",
              "      <td>10</td>\n",
              "      <td>This game is just perfection from the amazingl...</td>\n",
              "    </tr>\n",
              "    <tr>\n",
              "      <th>2338</th>\n",
              "      <td>AlesiLeite</td>\n",
              "      <td>May 30, 2023</td>\n",
              "      <td>9</td>\n",
              "      <td>A game that gives you the feeling of immersing...</td>\n",
              "    </tr>\n",
              "    <tr>\n",
              "      <th>2339</th>\n",
              "      <td>Diven</td>\n",
              "      <td>May 21, 2023</td>\n",
              "      <td>10</td>\n",
              "      <td>Nice game really nice to play , waiting for pa...</td>\n",
              "    </tr>\n",
              "    <tr>\n",
              "      <th>2340</th>\n",
              "      <td>Vcs</td>\n",
              "      <td>May 22, 2023</td>\n",
              "      <td>10</td>\n",
              "      <td>Best game ever created. Story amazing, graphic...</td>\n",
              "    </tr>\n",
              "  </tbody>\n",
              "</table>\n",
              "<p>2341 rows × 4 columns</p>\n",
              "</div>\n",
              "      <button class=\"colab-df-convert\" onclick=\"convertToInteractive('df-40512e11-3402-4db5-a9a8-0dfe22293369')\"\n",
              "              title=\"Convert this dataframe to an interactive table.\"\n",
              "              style=\"display:none;\">\n",
              "\n",
              "  <svg xmlns=\"http://www.w3.org/2000/svg\" height=\"24px\"viewBox=\"0 0 24 24\"\n",
              "       width=\"24px\">\n",
              "    <path d=\"M0 0h24v24H0V0z\" fill=\"none\"/>\n",
              "    <path d=\"M18.56 5.44l.94 2.06.94-2.06 2.06-.94-2.06-.94-.94-2.06-.94 2.06-2.06.94zm-11 1L8.5 8.5l.94-2.06 2.06-.94-2.06-.94L8.5 2.5l-.94 2.06-2.06.94zm10 10l.94 2.06.94-2.06 2.06-.94-2.06-.94-.94-2.06-.94 2.06-2.06.94z\"/><path d=\"M17.41 7.96l-1.37-1.37c-.4-.4-.92-.59-1.43-.59-.52 0-1.04.2-1.43.59L10.3 9.45l-7.72 7.72c-.78.78-.78 2.05 0 2.83L4 21.41c.39.39.9.59 1.41.59.51 0 1.02-.2 1.41-.59l7.78-7.78 2.81-2.81c.8-.78.8-2.07 0-2.86zM5.41 20L4 18.59l7.72-7.72 1.47 1.35L5.41 20z\"/>\n",
              "  </svg>\n",
              "      </button>\n",
              "\n",
              "\n",
              "\n",
              "    <div id=\"df-45da282d-82c5-4c94-931b-1db50d76b20c\">\n",
              "      <button class=\"colab-df-quickchart\" onclick=\"quickchart('df-45da282d-82c5-4c94-931b-1db50d76b20c')\"\n",
              "              title=\"Suggest charts.\"\n",
              "              style=\"display:none;\">\n",
              "\n",
              "<svg xmlns=\"http://www.w3.org/2000/svg\" height=\"24px\"viewBox=\"0 0 24 24\"\n",
              "     width=\"24px\">\n",
              "    <g>\n",
              "        <path d=\"M19 3H5c-1.1 0-2 .9-2 2v14c0 1.1.9 2 2 2h14c1.1 0 2-.9 2-2V5c0-1.1-.9-2-2-2zM9 17H7v-7h2v7zm4 0h-2V7h2v10zm4 0h-2v-4h2v4z\"/>\n",
              "    </g>\n",
              "</svg>\n",
              "      </button>\n",
              "    </div>\n",
              "\n",
              "<style>\n",
              "  .colab-df-quickchart {\n",
              "    background-color: #E8F0FE;\n",
              "    border: none;\n",
              "    border-radius: 50%;\n",
              "    cursor: pointer;\n",
              "    display: none;\n",
              "    fill: #1967D2;\n",
              "    height: 32px;\n",
              "    padding: 0 0 0 0;\n",
              "    width: 32px;\n",
              "  }\n",
              "\n",
              "  .colab-df-quickchart:hover {\n",
              "    background-color: #E2EBFA;\n",
              "    box-shadow: 0px 1px 2px rgba(60, 64, 67, 0.3), 0px 1px 3px 1px rgba(60, 64, 67, 0.15);\n",
              "    fill: #174EA6;\n",
              "  }\n",
              "\n",
              "  [theme=dark] .colab-df-quickchart {\n",
              "    background-color: #3B4455;\n",
              "    fill: #D2E3FC;\n",
              "  }\n",
              "\n",
              "  [theme=dark] .colab-df-quickchart:hover {\n",
              "    background-color: #434B5C;\n",
              "    box-shadow: 0px 1px 3px 1px rgba(0, 0, 0, 0.15);\n",
              "    filter: drop-shadow(0px 1px 2px rgba(0, 0, 0, 0.3));\n",
              "    fill: #FFFFFF;\n",
              "  }\n",
              "</style>\n",
              "\n",
              "    <script>\n",
              "      async function quickchart(key) {\n",
              "        const containerElement = document.querySelector('#' + key);\n",
              "        const charts = await google.colab.kernel.invokeFunction(\n",
              "            'suggestCharts', [key], {});\n",
              "      }\n",
              "    </script>\n",
              "\n",
              "      <script>\n",
              "\n",
              "function displayQuickchartButton(domScope) {\n",
              "  let quickchartButtonEl =\n",
              "    domScope.querySelector('#df-45da282d-82c5-4c94-931b-1db50d76b20c button.colab-df-quickchart');\n",
              "  quickchartButtonEl.style.display =\n",
              "    google.colab.kernel.accessAllowed ? 'block' : 'none';\n",
              "}\n",
              "\n",
              "        displayQuickchartButton(document);\n",
              "      </script>\n",
              "      <style>\n",
              "    .colab-df-container {\n",
              "      display:flex;\n",
              "      flex-wrap:wrap;\n",
              "      gap: 12px;\n",
              "    }\n",
              "\n",
              "    .colab-df-convert {\n",
              "      background-color: #E8F0FE;\n",
              "      border: none;\n",
              "      border-radius: 50%;\n",
              "      cursor: pointer;\n",
              "      display: none;\n",
              "      fill: #1967D2;\n",
              "      height: 32px;\n",
              "      padding: 0 0 0 0;\n",
              "      width: 32px;\n",
              "    }\n",
              "\n",
              "    .colab-df-convert:hover {\n",
              "      background-color: #E2EBFA;\n",
              "      box-shadow: 0px 1px 2px rgba(60, 64, 67, 0.3), 0px 1px 3px 1px rgba(60, 64, 67, 0.15);\n",
              "      fill: #174EA6;\n",
              "    }\n",
              "\n",
              "    [theme=dark] .colab-df-convert {\n",
              "      background-color: #3B4455;\n",
              "      fill: #D2E3FC;\n",
              "    }\n",
              "\n",
              "    [theme=dark] .colab-df-convert:hover {\n",
              "      background-color: #434B5C;\n",
              "      box-shadow: 0px 1px 3px 1px rgba(0, 0, 0, 0.15);\n",
              "      filter: drop-shadow(0px 1px 2px rgba(0, 0, 0, 0.3));\n",
              "      fill: #FFFFFF;\n",
              "    }\n",
              "  </style>\n",
              "\n",
              "      <script>\n",
              "        const buttonEl =\n",
              "          document.querySelector('#df-40512e11-3402-4db5-a9a8-0dfe22293369 button.colab-df-convert');\n",
              "        buttonEl.style.display =\n",
              "          google.colab.kernel.accessAllowed ? 'block' : 'none';\n",
              "\n",
              "        async function convertToInteractive(key) {\n",
              "          const element = document.querySelector('#df-40512e11-3402-4db5-a9a8-0dfe22293369');\n",
              "          const dataTable =\n",
              "            await google.colab.kernel.invokeFunction('convertToInteractive',\n",
              "                                                     [key], {});\n",
              "          if (!dataTable) return;\n",
              "\n",
              "          const docLinkHtml = 'Like what you see? Visit the ' +\n",
              "            '<a target=\"_blank\" href=https://colab.research.google.com/notebooks/data_table.ipynb>data table notebook</a>'\n",
              "            + ' to learn more about interactive tables.';\n",
              "          element.innerHTML = '';\n",
              "          dataTable['output_type'] = 'display_data';\n",
              "          await google.colab.output.renderOutput(dataTable, element);\n",
              "          const docLink = document.createElement('div');\n",
              "          docLink.innerHTML = docLinkHtml;\n",
              "          element.appendChild(docLink);\n",
              "        }\n",
              "      </script>\n",
              "    </div>\n",
              "  </div>\n"
            ]
          },
          "metadata": {},
          "execution_count": 36
        }
      ]
    },
    {
      "cell_type": "markdown",
      "source": [
        "## Métodos de Particionamento"
      ],
      "metadata": {
        "id": "JCHSxAEg_T_7"
      }
    },
    {
      "cell_type": "markdown",
      "source": [
        "**Simple Splitting**"
      ],
      "metadata": {
        "id": "rQVmOLd8Am5i"
      }
    },
    {
      "cell_type": "code",
      "source": [
        "# Algorithm 1: Equal Size Partitioning\n",
        "def simple_splitting(T,P=2000):\n",
        "  # Data: Text T, Partition size P\n",
        "  # Return: Partitions of text T\n",
        "\n",
        "  tokens = re.split(' ', T)\n",
        "  partitions = [' '.join(tokens[i:i+P]) for i in range(0,len(tokens),P)]\n",
        "\n",
        "  return partitions"
      ],
      "metadata": {
        "id": "1cMaURIOAt16"
      },
      "execution_count": null,
      "outputs": []
    },
    {
      "cell_type": "code",
      "source": [
        "text = \"This sentence has five words. Here are five more words. Five word sentences are fine.\"\n",
        "simple_splitting(text, 4)"
      ],
      "metadata": {
        "colab": {
          "base_uri": "https://localhost:8080/"
        },
        "id": "pdRaP6gOJhUq",
        "outputId": "167f6281-eada-45c0-af9a-dc4fe599e660"
      },
      "execution_count": null,
      "outputs": [
        {
          "output_type": "execute_result",
          "data": {
            "text/plain": [
              "['This sentence has five',\n",
              " 'words. Here are five',\n",
              " 'more words. Five word',\n",
              " 'sentences are fine.']"
            ]
          },
          "metadata": {},
          "execution_count": 258
        }
      ]
    },
    {
      "cell_type": "markdown",
      "source": [
        "**Sliding Window**"
      ],
      "metadata": {
        "id": "uKkn0cQiAuIK"
      }
    },
    {
      "cell_type": "code",
      "source": [
        "# Algorithm 2: Sliding Window Partitioning\n",
        "def sliding_window_partitioning(T,w=2000,s=1800):\n",
        "  # Data: Text T, Window size w, Step size s\n",
        "  # Result: Partitions of text T using sliding windows\n",
        "\n",
        "  tokens = re.split(' ', T)\n",
        "  partitions = [' '.join(tokens[i:i+w]) for i in range(0,len(tokens),s)]\n",
        "\n",
        "  return partitions"
      ],
      "metadata": {
        "id": "qPJ51agpAw_K"
      },
      "execution_count": null,
      "outputs": []
    },
    {
      "cell_type": "code",
      "source": [
        "text = \"This sentence has five words. Here are five more words. Five word sentences are fine.\"\n",
        "sliding_window_partitioning(text, 4, 3)"
      ],
      "metadata": {
        "colab": {
          "base_uri": "https://localhost:8080/"
        },
        "id": "63b7qDVkCgMj",
        "outputId": "4c054400-9181-495d-a6df-1951bb0cf178"
      },
      "execution_count": null,
      "outputs": [
        {
          "output_type": "execute_result",
          "data": {
            "text/plain": [
              "['This sentence has five',\n",
              " 'five words. Here are',\n",
              " 'are five more words.',\n",
              " 'words. Five word sentences',\n",
              " 'sentences are fine.']"
            ]
          },
          "metadata": {},
          "execution_count": 252
        }
      ]
    },
    {
      "cell_type": "markdown",
      "source": [
        "**Natural Boundary Splitting**"
      ],
      "metadata": {
        "id": "MBFrrE6QAxn7"
      }
    },
    {
      "cell_type": "code",
      "source": [
        "def sentence_boundary(t):\n",
        "  if re.match(r\"\\w*[.!?]\", t):\n",
        "    return True\n",
        "  return False"
      ],
      "metadata": {
        "id": "dZ_i_vO0rPFl"
      },
      "execution_count": null,
      "outputs": []
    },
    {
      "cell_type": "code",
      "source": [
        "def review_boundary(t):\n",
        "  if re.match(r\"\\n\\n\", t):\n",
        "    return True\n",
        "  return False"
      ],
      "metadata": {
        "id": "erEuqRR092Jx"
      },
      "execution_count": null,
      "outputs": []
    },
    {
      "cell_type": "code",
      "source": [
        "# Algorithm 3: Boundary-based Partitioning\n",
        "def boundary_based_partitioning(T,m=2000,B=review_boundary):\n",
        "  # Data: Text T, Maximum partition size m, Boundary function B(t)\n",
        "  # Result: List of partitions P\n",
        "\n",
        "  tokens = re.split(' ', T)\n",
        "  partitions = []\n",
        "  p = []\n",
        "\n",
        "  for t in tokens:\n",
        "    if re.match(r\"\\w+[.!?]*\", t):\n",
        "      p.append(t)\n",
        "\n",
        "    if(B(t) or len(p) == m):\n",
        "      partitions.append(' '.join(p))\n",
        "      p = []\n",
        "\n",
        "  if(p != []):\n",
        "    partitions.append(' '.join(p))\n",
        "\n",
        "  return partitions"
      ],
      "metadata": {
        "id": "UDZogAcNAxti"
      },
      "execution_count": null,
      "outputs": []
    },
    {
      "cell_type": "code",
      "source": [
        "# Algorithm 4: Multiple Boundaries Partitioning\n",
        "def multiple_boundaries_partitioning(T,m=2000,B=review_boundary):\n",
        "  # Data: Text T, Maximum partition size m, Boundary function B(t)\n",
        "  # Result: List of partitions P\n",
        "\n",
        "  tokens = re.split(' ', T)\n",
        "  partitions = []\n",
        "  p = []\n",
        "\n",
        "  for t in tokens:\n",
        "    if re.match(r\"\\w+[.!?]*\", t):\n",
        "      p.append(t)\n",
        "\n",
        "    if(B(t)):\n",
        "      if(len(p) >= m or len(p)+1 > m):\n",
        "        partitions.append(' '.join(p))\n",
        "        p = []\n",
        "\n",
        "  if(p != []):\n",
        "    partitions.append(' '.join(p))\n",
        "\n",
        "  return partitions"
      ],
      "metadata": {
        "id": "UlxjAb8uA8de"
      },
      "execution_count": null,
      "outputs": []
    },
    {
      "cell_type": "code",
      "source": [
        "text = \"This sentence has five words. Here are five more words. \\n\\n Five word sentences are fine.\"\n",
        "boundary_based_partitioning(text, 4, sentence_boundary)"
      ],
      "metadata": {
        "colab": {
          "base_uri": "https://localhost:8080/"
        },
        "id": "K8Tp68peh7Vu",
        "outputId": "d5b7b563-36a0-4ee2-f0da-cfc4fb741275"
      },
      "execution_count": null,
      "outputs": [
        {
          "output_type": "execute_result",
          "data": {
            "text/plain": [
              "['This sentence has five',\n",
              " 'words.',\n",
              " 'Here are five more',\n",
              " 'words.',\n",
              " 'Five word sentences are',\n",
              " 'fine.']"
            ]
          },
          "metadata": {},
          "execution_count": 227
        }
      ]
    },
    {
      "cell_type": "code",
      "source": [
        "text = \"This sentence has five words. Here are five more words. \\n\\n Five word sentences are fine.\"\n",
        "boundary_based_partitioning(text, 4, review_boundary)"
      ],
      "metadata": {
        "colab": {
          "base_uri": "https://localhost:8080/"
        },
        "id": "D1-4mufl-PZI",
        "outputId": "96af66e9-25e0-4cfa-ad48-690674223473"
      },
      "execution_count": null,
      "outputs": [
        {
          "output_type": "execute_result",
          "data": {
            "text/plain": [
              "['This sentence has five',\n",
              " 'words. Here are five',\n",
              " 'more words.',\n",
              " 'Five word sentences are',\n",
              " 'fine.']"
            ]
          },
          "metadata": {},
          "execution_count": 228
        }
      ]
    },
    {
      "cell_type": "code",
      "source": [
        "text = \"This sentence has five words. Here are five more words. \\n\\n Five word sentences are fine.\"\n",
        "multiple_boundaries_partitioning(text, 4, sentence_boundary)"
      ],
      "metadata": {
        "colab": {
          "base_uri": "https://localhost:8080/"
        },
        "id": "KHhFMvjexeWj",
        "outputId": "9fcd488c-22e6-4a45-de61-1ec02ca2355b"
      },
      "execution_count": null,
      "outputs": [
        {
          "output_type": "execute_result",
          "data": {
            "text/plain": [
              "['This sentence has five words.',\n",
              " 'Here are five more words.',\n",
              " 'Five word sentences are fine.']"
            ]
          },
          "metadata": {},
          "execution_count": 229
        }
      ]
    },
    {
      "cell_type": "code",
      "source": [
        "text = \"This sentence has five words. Here are five more words. \\n\\n Five word sentences are fine.\"\n",
        "multiple_boundaries_partitioning(text, 4, review_boundary)"
      ],
      "metadata": {
        "colab": {
          "base_uri": "https://localhost:8080/"
        },
        "id": "TGtxmm_u9_2r",
        "outputId": "9cd913a4-b5dc-48f4-f352-ab5e8b1a5b15"
      },
      "execution_count": null,
      "outputs": [
        {
          "output_type": "execute_result",
          "data": {
            "text/plain": [
              "['This sentence has five words. Here are five more words.',\n",
              " 'Five word sentences are fine.']"
            ]
          },
          "metadata": {},
          "execution_count": 230
        }
      ]
    },
    {
      "cell_type": "markdown",
      "source": [
        "## Técnicas de Amostragem"
      ],
      "metadata": {
        "id": "dL8mjDV8TmSC"
      }
    },
    {
      "cell_type": "markdown",
      "source": [
        "**Uniform Sampling**"
      ],
      "metadata": {
        "id": "FtmQCVa-Tsxs"
      }
    },
    {
      "cell_type": "code",
      "source": [
        "# Algorithm 15: Uniform Sampling\n",
        "def uniform_sampling(C,n):\n",
        "  # Data: Collection C, Sample size n\n",
        "  # Result: Sample S\n",
        "\n",
        "  return C.sample(n=n)"
      ],
      "metadata": {
        "id": "d5id-TYZT4bK"
      },
      "execution_count": null,
      "outputs": []
    },
    {
      "cell_type": "code",
      "source": [
        "uniform_sampling(data,10)"
      ],
      "metadata": {
        "colab": {
          "base_uri": "https://localhost:8080/",
          "height": 363
        },
        "id": "6A1AXUV9YG8r",
        "outputId": "9fe84df3-0633-4315-a521-9979bbe54739"
      },
      "execution_count": null,
      "outputs": [
        {
          "output_type": "execute_result",
          "data": {
            "text/plain": [
              "                name          date  rating  \\\n",
              "95          BigBiggo  Jan  4, 2014       9   \n",
              "45             J-P-M  Jun 14, 2013      10   \n",
              "825           Xelima  Jun 29, 2013      10   \n",
              "1734            Ghob  Nov  6, 2013      10   \n",
              "1620             ffs  Sep 21, 2021       8   \n",
              "1018   AddictedPanda  Jun 21, 2013       7   \n",
              "1194          dantah  Feb  5, 2019       0   \n",
              "1382  TheBrokenGamer  Jun  3, 2014      10   \n",
              "1140  UserReviewsLUL  Feb 15, 2020       5   \n",
              "863           tarsus  Jul 28, 2013      10   \n",
              "\n",
              "                                                 review  \n",
              "95    The characters and how their relationships are...  \n",
              "45    i am amazed at Sony for putting out a must own...  \n",
              "825   The last of us is awesome, and so amazingly am...  \n",
              "1734  Story: 10/10, it was so amazing to see the plo...  \n",
              "1620  Simply put it's a pretty good mixture of narra...  \n",
              "1018  There are good games, and then there's Medal o...  \n",
              "1194  The Last of Us is the very definition of an ov...  \n",
              "1382  The Last of Us PlayStation 3 This review is ba...  \n",
              "1140  Good movie, boring game naughty dog only make ...  \n",
              "863   I'd like to start by saying that this is a phe...  "
            ],
            "text/html": [
              "\n",
              "\n",
              "  <div id=\"df-4ba69222-2e11-4685-b3e2-2c6c793407b2\">\n",
              "    <div class=\"colab-df-container\">\n",
              "      <div>\n",
              "<style scoped>\n",
              "    .dataframe tbody tr th:only-of-type {\n",
              "        vertical-align: middle;\n",
              "    }\n",
              "\n",
              "    .dataframe tbody tr th {\n",
              "        vertical-align: top;\n",
              "    }\n",
              "\n",
              "    .dataframe thead th {\n",
              "        text-align: right;\n",
              "    }\n",
              "</style>\n",
              "<table border=\"1\" class=\"dataframe\">\n",
              "  <thead>\n",
              "    <tr style=\"text-align: right;\">\n",
              "      <th></th>\n",
              "      <th>name</th>\n",
              "      <th>date</th>\n",
              "      <th>rating</th>\n",
              "      <th>review</th>\n",
              "    </tr>\n",
              "  </thead>\n",
              "  <tbody>\n",
              "    <tr>\n",
              "      <th>95</th>\n",
              "      <td>BigBiggo</td>\n",
              "      <td>Jan  4, 2014</td>\n",
              "      <td>9</td>\n",
              "      <td>The characters and how their relationships are...</td>\n",
              "    </tr>\n",
              "    <tr>\n",
              "      <th>45</th>\n",
              "      <td>J-P-M</td>\n",
              "      <td>Jun 14, 2013</td>\n",
              "      <td>10</td>\n",
              "      <td>i am amazed at Sony for putting out a must own...</td>\n",
              "    </tr>\n",
              "    <tr>\n",
              "      <th>825</th>\n",
              "      <td>Xelima</td>\n",
              "      <td>Jun 29, 2013</td>\n",
              "      <td>10</td>\n",
              "      <td>The last of us is awesome, and so amazingly am...</td>\n",
              "    </tr>\n",
              "    <tr>\n",
              "      <th>1734</th>\n",
              "      <td>Ghob</td>\n",
              "      <td>Nov  6, 2013</td>\n",
              "      <td>10</td>\n",
              "      <td>Story: 10/10, it was so amazing to see the plo...</td>\n",
              "    </tr>\n",
              "    <tr>\n",
              "      <th>1620</th>\n",
              "      <td>ffs</td>\n",
              "      <td>Sep 21, 2021</td>\n",
              "      <td>8</td>\n",
              "      <td>Simply put it's a pretty good mixture of narra...</td>\n",
              "    </tr>\n",
              "    <tr>\n",
              "      <th>1018</th>\n",
              "      <td>AddictedPanda</td>\n",
              "      <td>Jun 21, 2013</td>\n",
              "      <td>7</td>\n",
              "      <td>There are good games, and then there's Medal o...</td>\n",
              "    </tr>\n",
              "    <tr>\n",
              "      <th>1194</th>\n",
              "      <td>dantah</td>\n",
              "      <td>Feb  5, 2019</td>\n",
              "      <td>0</td>\n",
              "      <td>The Last of Us is the very definition of an ov...</td>\n",
              "    </tr>\n",
              "    <tr>\n",
              "      <th>1382</th>\n",
              "      <td>TheBrokenGamer</td>\n",
              "      <td>Jun  3, 2014</td>\n",
              "      <td>10</td>\n",
              "      <td>The Last of Us PlayStation 3 This review is ba...</td>\n",
              "    </tr>\n",
              "    <tr>\n",
              "      <th>1140</th>\n",
              "      <td>UserReviewsLUL</td>\n",
              "      <td>Feb 15, 2020</td>\n",
              "      <td>5</td>\n",
              "      <td>Good movie, boring game naughty dog only make ...</td>\n",
              "    </tr>\n",
              "    <tr>\n",
              "      <th>863</th>\n",
              "      <td>tarsus</td>\n",
              "      <td>Jul 28, 2013</td>\n",
              "      <td>10</td>\n",
              "      <td>I'd like to start by saying that this is a phe...</td>\n",
              "    </tr>\n",
              "  </tbody>\n",
              "</table>\n",
              "</div>\n",
              "      <button class=\"colab-df-convert\" onclick=\"convertToInteractive('df-4ba69222-2e11-4685-b3e2-2c6c793407b2')\"\n",
              "              title=\"Convert this dataframe to an interactive table.\"\n",
              "              style=\"display:none;\">\n",
              "\n",
              "  <svg xmlns=\"http://www.w3.org/2000/svg\" height=\"24px\"viewBox=\"0 0 24 24\"\n",
              "       width=\"24px\">\n",
              "    <path d=\"M0 0h24v24H0V0z\" fill=\"none\"/>\n",
              "    <path d=\"M18.56 5.44l.94 2.06.94-2.06 2.06-.94-2.06-.94-.94-2.06-.94 2.06-2.06.94zm-11 1L8.5 8.5l.94-2.06 2.06-.94-2.06-.94L8.5 2.5l-.94 2.06-2.06.94zm10 10l.94 2.06.94-2.06 2.06-.94-2.06-.94-.94-2.06-.94 2.06-2.06.94z\"/><path d=\"M17.41 7.96l-1.37-1.37c-.4-.4-.92-.59-1.43-.59-.52 0-1.04.2-1.43.59L10.3 9.45l-7.72 7.72c-.78.78-.78 2.05 0 2.83L4 21.41c.39.39.9.59 1.41.59.51 0 1.02-.2 1.41-.59l7.78-7.78 2.81-2.81c.8-.78.8-2.07 0-2.86zM5.41 20L4 18.59l7.72-7.72 1.47 1.35L5.41 20z\"/>\n",
              "  </svg>\n",
              "      </button>\n",
              "\n",
              "\n",
              "\n",
              "    <div id=\"df-5734eb5f-08e6-4a65-8868-762cc7e360c9\">\n",
              "      <button class=\"colab-df-quickchart\" onclick=\"quickchart('df-5734eb5f-08e6-4a65-8868-762cc7e360c9')\"\n",
              "              title=\"Suggest charts.\"\n",
              "              style=\"display:none;\">\n",
              "\n",
              "<svg xmlns=\"http://www.w3.org/2000/svg\" height=\"24px\"viewBox=\"0 0 24 24\"\n",
              "     width=\"24px\">\n",
              "    <g>\n",
              "        <path d=\"M19 3H5c-1.1 0-2 .9-2 2v14c0 1.1.9 2 2 2h14c1.1 0 2-.9 2-2V5c0-1.1-.9-2-2-2zM9 17H7v-7h2v7zm4 0h-2V7h2v10zm4 0h-2v-4h2v4z\"/>\n",
              "    </g>\n",
              "</svg>\n",
              "      </button>\n",
              "    </div>\n",
              "\n",
              "<style>\n",
              "  .colab-df-quickchart {\n",
              "    background-color: #E8F0FE;\n",
              "    border: none;\n",
              "    border-radius: 50%;\n",
              "    cursor: pointer;\n",
              "    display: none;\n",
              "    fill: #1967D2;\n",
              "    height: 32px;\n",
              "    padding: 0 0 0 0;\n",
              "    width: 32px;\n",
              "  }\n",
              "\n",
              "  .colab-df-quickchart:hover {\n",
              "    background-color: #E2EBFA;\n",
              "    box-shadow: 0px 1px 2px rgba(60, 64, 67, 0.3), 0px 1px 3px 1px rgba(60, 64, 67, 0.15);\n",
              "    fill: #174EA6;\n",
              "  }\n",
              "\n",
              "  [theme=dark] .colab-df-quickchart {\n",
              "    background-color: #3B4455;\n",
              "    fill: #D2E3FC;\n",
              "  }\n",
              "\n",
              "  [theme=dark] .colab-df-quickchart:hover {\n",
              "    background-color: #434B5C;\n",
              "    box-shadow: 0px 1px 3px 1px rgba(0, 0, 0, 0.15);\n",
              "    filter: drop-shadow(0px 1px 2px rgba(0, 0, 0, 0.3));\n",
              "    fill: #FFFFFF;\n",
              "  }\n",
              "</style>\n",
              "\n",
              "    <script>\n",
              "      async function quickchart(key) {\n",
              "        const containerElement = document.querySelector('#' + key);\n",
              "        const charts = await google.colab.kernel.invokeFunction(\n",
              "            'suggestCharts', [key], {});\n",
              "      }\n",
              "    </script>\n",
              "\n",
              "      <script>\n",
              "\n",
              "function displayQuickchartButton(domScope) {\n",
              "  let quickchartButtonEl =\n",
              "    domScope.querySelector('#df-5734eb5f-08e6-4a65-8868-762cc7e360c9 button.colab-df-quickchart');\n",
              "  quickchartButtonEl.style.display =\n",
              "    google.colab.kernel.accessAllowed ? 'block' : 'none';\n",
              "}\n",
              "\n",
              "        displayQuickchartButton(document);\n",
              "      </script>\n",
              "      <style>\n",
              "    .colab-df-container {\n",
              "      display:flex;\n",
              "      flex-wrap:wrap;\n",
              "      gap: 12px;\n",
              "    }\n",
              "\n",
              "    .colab-df-convert {\n",
              "      background-color: #E8F0FE;\n",
              "      border: none;\n",
              "      border-radius: 50%;\n",
              "      cursor: pointer;\n",
              "      display: none;\n",
              "      fill: #1967D2;\n",
              "      height: 32px;\n",
              "      padding: 0 0 0 0;\n",
              "      width: 32px;\n",
              "    }\n",
              "\n",
              "    .colab-df-convert:hover {\n",
              "      background-color: #E2EBFA;\n",
              "      box-shadow: 0px 1px 2px rgba(60, 64, 67, 0.3), 0px 1px 3px 1px rgba(60, 64, 67, 0.15);\n",
              "      fill: #174EA6;\n",
              "    }\n",
              "\n",
              "    [theme=dark] .colab-df-convert {\n",
              "      background-color: #3B4455;\n",
              "      fill: #D2E3FC;\n",
              "    }\n",
              "\n",
              "    [theme=dark] .colab-df-convert:hover {\n",
              "      background-color: #434B5C;\n",
              "      box-shadow: 0px 1px 3px 1px rgba(0, 0, 0, 0.15);\n",
              "      filter: drop-shadow(0px 1px 2px rgba(0, 0, 0, 0.3));\n",
              "      fill: #FFFFFF;\n",
              "    }\n",
              "  </style>\n",
              "\n",
              "      <script>\n",
              "        const buttonEl =\n",
              "          document.querySelector('#df-4ba69222-2e11-4685-b3e2-2c6c793407b2 button.colab-df-convert');\n",
              "        buttonEl.style.display =\n",
              "          google.colab.kernel.accessAllowed ? 'block' : 'none';\n",
              "\n",
              "        async function convertToInteractive(key) {\n",
              "          const element = document.querySelector('#df-4ba69222-2e11-4685-b3e2-2c6c793407b2');\n",
              "          const dataTable =\n",
              "            await google.colab.kernel.invokeFunction('convertToInteractive',\n",
              "                                                     [key], {});\n",
              "          if (!dataTable) return;\n",
              "\n",
              "          const docLinkHtml = 'Like what you see? Visit the ' +\n",
              "            '<a target=\"_blank\" href=https://colab.research.google.com/notebooks/data_table.ipynb>data table notebook</a>'\n",
              "            + ' to learn more about interactive tables.';\n",
              "          element.innerHTML = '';\n",
              "          dataTable['output_type'] = 'display_data';\n",
              "          await google.colab.output.renderOutput(dataTable, element);\n",
              "          const docLink = document.createElement('div');\n",
              "          docLink.innerHTML = docLinkHtml;\n",
              "          element.appendChild(docLink);\n",
              "        }\n",
              "      </script>\n",
              "    </div>\n",
              "  </div>\n"
            ]
          },
          "metadata": {},
          "execution_count": 52
        }
      ]
    },
    {
      "cell_type": "markdown",
      "source": [
        "**Stratified Sampling with Known Labels**"
      ],
      "metadata": {
        "id": "nS__N28VTsz7"
      }
    },
    {
      "cell_type": "code",
      "source": [
        "# Algorithm 16: Stratified Sampling with Known Class Labels\n",
        "def stratified_sampling_known_class_labels(C,n):\n",
        "  # Data: Collection C with class labels L, Sample size n,\n",
        "  # Result: Sample S\n",
        "\n",
        "  S = pd.DataFrame(columns=['name','date','rating','review'])\n",
        "  for L in range(0,11):\n",
        "    cL = data[data['rating'] == L]\n",
        "    nL = round(n*len(cL)/len(C))\n",
        "    sL = cL.sample(n=nL)\n",
        "    S = pd.concat([S,sL])\n",
        "\n",
        "  return S"
      ],
      "metadata": {
        "id": "5NM1IlsnT41y"
      },
      "execution_count": null,
      "outputs": []
    },
    {
      "cell_type": "code",
      "source": [
        "stratified_sampling_known_class_labels(data,10)"
      ],
      "metadata": {
        "colab": {
          "base_uri": "https://localhost:8080/",
          "height": 332
        },
        "id": "55ObHTT9hHD1",
        "outputId": "666f866a-763b-4cb7-9b0e-ae01a4ac82b9"
      },
      "execution_count": null,
      "outputs": [
        {
          "output_type": "execute_result",
          "data": {
            "text/plain": [
              "                name          date rating  \\\n",
              "1063           Dunge  Jun 15, 2013      8   \n",
              "1561      slappysfan  Jun 23, 2013      9   \n",
              "1552           tombo  Dec 21, 2013     10   \n",
              "1675    fabiolfpinto  Jul  5, 2013     10   \n",
              "439     Jaredwheeler  Jun 17, 2013     10   \n",
              "638   hollowfication  Jun 19, 2013     10   \n",
              "1490    EwokSmuggler  Nov  9, 2020     10   \n",
              "992           ekolet  Jul 11, 2013     10   \n",
              "2335    Henrique3669  May 12, 2023     10   \n",
              "\n",
              "                                                 review  \n",
              "1063  Amazing game, great levels and story events, b...  \n",
              "1561  This game lived up to my expectations and was ...  \n",
              "1552  I loved \"The Last of Us\" so much that I didn't...  \n",
              "1675  The Last Of Us is a masterpiece. Troy and Ashl...  \n",
              "439   I just finished this game on hard (about to st...  \n",
              "638   i had just finished this game and i have say t...  \n",
              "1490  Story is Amazing, Gameplay is Great, and Facti...  \n",
              "992   Best game ever created. I've never attached an...  \n",
              "2335  Just for the record that this is the best game...  "
            ],
            "text/html": [
              "\n",
              "\n",
              "  <div id=\"df-6634b5ff-768e-4a08-a488-2c25f999147a\">\n",
              "    <div class=\"colab-df-container\">\n",
              "      <div>\n",
              "<style scoped>\n",
              "    .dataframe tbody tr th:only-of-type {\n",
              "        vertical-align: middle;\n",
              "    }\n",
              "\n",
              "    .dataframe tbody tr th {\n",
              "        vertical-align: top;\n",
              "    }\n",
              "\n",
              "    .dataframe thead th {\n",
              "        text-align: right;\n",
              "    }\n",
              "</style>\n",
              "<table border=\"1\" class=\"dataframe\">\n",
              "  <thead>\n",
              "    <tr style=\"text-align: right;\">\n",
              "      <th></th>\n",
              "      <th>name</th>\n",
              "      <th>date</th>\n",
              "      <th>rating</th>\n",
              "      <th>review</th>\n",
              "    </tr>\n",
              "  </thead>\n",
              "  <tbody>\n",
              "    <tr>\n",
              "      <th>1063</th>\n",
              "      <td>Dunge</td>\n",
              "      <td>Jun 15, 2013</td>\n",
              "      <td>8</td>\n",
              "      <td>Amazing game, great levels and story events, b...</td>\n",
              "    </tr>\n",
              "    <tr>\n",
              "      <th>1561</th>\n",
              "      <td>slappysfan</td>\n",
              "      <td>Jun 23, 2013</td>\n",
              "      <td>9</td>\n",
              "      <td>This game lived up to my expectations and was ...</td>\n",
              "    </tr>\n",
              "    <tr>\n",
              "      <th>1552</th>\n",
              "      <td>tombo</td>\n",
              "      <td>Dec 21, 2013</td>\n",
              "      <td>10</td>\n",
              "      <td>I loved \"The Last of Us\" so much that I didn't...</td>\n",
              "    </tr>\n",
              "    <tr>\n",
              "      <th>1675</th>\n",
              "      <td>fabiolfpinto</td>\n",
              "      <td>Jul  5, 2013</td>\n",
              "      <td>10</td>\n",
              "      <td>The Last Of Us is a masterpiece. Troy and Ashl...</td>\n",
              "    </tr>\n",
              "    <tr>\n",
              "      <th>439</th>\n",
              "      <td>Jaredwheeler</td>\n",
              "      <td>Jun 17, 2013</td>\n",
              "      <td>10</td>\n",
              "      <td>I just finished this game on hard (about to st...</td>\n",
              "    </tr>\n",
              "    <tr>\n",
              "      <th>638</th>\n",
              "      <td>hollowfication</td>\n",
              "      <td>Jun 19, 2013</td>\n",
              "      <td>10</td>\n",
              "      <td>i had just finished this game and i have say t...</td>\n",
              "    </tr>\n",
              "    <tr>\n",
              "      <th>1490</th>\n",
              "      <td>EwokSmuggler</td>\n",
              "      <td>Nov  9, 2020</td>\n",
              "      <td>10</td>\n",
              "      <td>Story is Amazing, Gameplay is Great, and Facti...</td>\n",
              "    </tr>\n",
              "    <tr>\n",
              "      <th>992</th>\n",
              "      <td>ekolet</td>\n",
              "      <td>Jul 11, 2013</td>\n",
              "      <td>10</td>\n",
              "      <td>Best game ever created. I've never attached an...</td>\n",
              "    </tr>\n",
              "    <tr>\n",
              "      <th>2335</th>\n",
              "      <td>Henrique3669</td>\n",
              "      <td>May 12, 2023</td>\n",
              "      <td>10</td>\n",
              "      <td>Just for the record that this is the best game...</td>\n",
              "    </tr>\n",
              "  </tbody>\n",
              "</table>\n",
              "</div>\n",
              "      <button class=\"colab-df-convert\" onclick=\"convertToInteractive('df-6634b5ff-768e-4a08-a488-2c25f999147a')\"\n",
              "              title=\"Convert this dataframe to an interactive table.\"\n",
              "              style=\"display:none;\">\n",
              "\n",
              "  <svg xmlns=\"http://www.w3.org/2000/svg\" height=\"24px\"viewBox=\"0 0 24 24\"\n",
              "       width=\"24px\">\n",
              "    <path d=\"M0 0h24v24H0V0z\" fill=\"none\"/>\n",
              "    <path d=\"M18.56 5.44l.94 2.06.94-2.06 2.06-.94-2.06-.94-.94-2.06-.94 2.06-2.06.94zm-11 1L8.5 8.5l.94-2.06 2.06-.94-2.06-.94L8.5 2.5l-.94 2.06-2.06.94zm10 10l.94 2.06.94-2.06 2.06-.94-2.06-.94-.94-2.06-.94 2.06-2.06.94z\"/><path d=\"M17.41 7.96l-1.37-1.37c-.4-.4-.92-.59-1.43-.59-.52 0-1.04.2-1.43.59L10.3 9.45l-7.72 7.72c-.78.78-.78 2.05 0 2.83L4 21.41c.39.39.9.59 1.41.59.51 0 1.02-.2 1.41-.59l7.78-7.78 2.81-2.81c.8-.78.8-2.07 0-2.86zM5.41 20L4 18.59l7.72-7.72 1.47 1.35L5.41 20z\"/>\n",
              "  </svg>\n",
              "      </button>\n",
              "\n",
              "\n",
              "\n",
              "    <div id=\"df-6f581d95-0e33-4a9c-ba13-5f7f11cd57b0\">\n",
              "      <button class=\"colab-df-quickchart\" onclick=\"quickchart('df-6f581d95-0e33-4a9c-ba13-5f7f11cd57b0')\"\n",
              "              title=\"Suggest charts.\"\n",
              "              style=\"display:none;\">\n",
              "\n",
              "<svg xmlns=\"http://www.w3.org/2000/svg\" height=\"24px\"viewBox=\"0 0 24 24\"\n",
              "     width=\"24px\">\n",
              "    <g>\n",
              "        <path d=\"M19 3H5c-1.1 0-2 .9-2 2v14c0 1.1.9 2 2 2h14c1.1 0 2-.9 2-2V5c0-1.1-.9-2-2-2zM9 17H7v-7h2v7zm4 0h-2V7h2v10zm4 0h-2v-4h2v4z\"/>\n",
              "    </g>\n",
              "</svg>\n",
              "      </button>\n",
              "    </div>\n",
              "\n",
              "<style>\n",
              "  .colab-df-quickchart {\n",
              "    background-color: #E8F0FE;\n",
              "    border: none;\n",
              "    border-radius: 50%;\n",
              "    cursor: pointer;\n",
              "    display: none;\n",
              "    fill: #1967D2;\n",
              "    height: 32px;\n",
              "    padding: 0 0 0 0;\n",
              "    width: 32px;\n",
              "  }\n",
              "\n",
              "  .colab-df-quickchart:hover {\n",
              "    background-color: #E2EBFA;\n",
              "    box-shadow: 0px 1px 2px rgba(60, 64, 67, 0.3), 0px 1px 3px 1px rgba(60, 64, 67, 0.15);\n",
              "    fill: #174EA6;\n",
              "  }\n",
              "\n",
              "  [theme=dark] .colab-df-quickchart {\n",
              "    background-color: #3B4455;\n",
              "    fill: #D2E3FC;\n",
              "  }\n",
              "\n",
              "  [theme=dark] .colab-df-quickchart:hover {\n",
              "    background-color: #434B5C;\n",
              "    box-shadow: 0px 1px 3px 1px rgba(0, 0, 0, 0.15);\n",
              "    filter: drop-shadow(0px 1px 2px rgba(0, 0, 0, 0.3));\n",
              "    fill: #FFFFFF;\n",
              "  }\n",
              "</style>\n",
              "\n",
              "    <script>\n",
              "      async function quickchart(key) {\n",
              "        const containerElement = document.querySelector('#' + key);\n",
              "        const charts = await google.colab.kernel.invokeFunction(\n",
              "            'suggestCharts', [key], {});\n",
              "      }\n",
              "    </script>\n",
              "\n",
              "      <script>\n",
              "\n",
              "function displayQuickchartButton(domScope) {\n",
              "  let quickchartButtonEl =\n",
              "    domScope.querySelector('#df-6f581d95-0e33-4a9c-ba13-5f7f11cd57b0 button.colab-df-quickchart');\n",
              "  quickchartButtonEl.style.display =\n",
              "    google.colab.kernel.accessAllowed ? 'block' : 'none';\n",
              "}\n",
              "\n",
              "        displayQuickchartButton(document);\n",
              "      </script>\n",
              "      <style>\n",
              "    .colab-df-container {\n",
              "      display:flex;\n",
              "      flex-wrap:wrap;\n",
              "      gap: 12px;\n",
              "    }\n",
              "\n",
              "    .colab-df-convert {\n",
              "      background-color: #E8F0FE;\n",
              "      border: none;\n",
              "      border-radius: 50%;\n",
              "      cursor: pointer;\n",
              "      display: none;\n",
              "      fill: #1967D2;\n",
              "      height: 32px;\n",
              "      padding: 0 0 0 0;\n",
              "      width: 32px;\n",
              "    }\n",
              "\n",
              "    .colab-df-convert:hover {\n",
              "      background-color: #E2EBFA;\n",
              "      box-shadow: 0px 1px 2px rgba(60, 64, 67, 0.3), 0px 1px 3px 1px rgba(60, 64, 67, 0.15);\n",
              "      fill: #174EA6;\n",
              "    }\n",
              "\n",
              "    [theme=dark] .colab-df-convert {\n",
              "      background-color: #3B4455;\n",
              "      fill: #D2E3FC;\n",
              "    }\n",
              "\n",
              "    [theme=dark] .colab-df-convert:hover {\n",
              "      background-color: #434B5C;\n",
              "      box-shadow: 0px 1px 3px 1px rgba(0, 0, 0, 0.15);\n",
              "      filter: drop-shadow(0px 1px 2px rgba(0, 0, 0, 0.3));\n",
              "      fill: #FFFFFF;\n",
              "    }\n",
              "  </style>\n",
              "\n",
              "      <script>\n",
              "        const buttonEl =\n",
              "          document.querySelector('#df-6634b5ff-768e-4a08-a488-2c25f999147a button.colab-df-convert');\n",
              "        buttonEl.style.display =\n",
              "          google.colab.kernel.accessAllowed ? 'block' : 'none';\n",
              "\n",
              "        async function convertToInteractive(key) {\n",
              "          const element = document.querySelector('#df-6634b5ff-768e-4a08-a488-2c25f999147a');\n",
              "          const dataTable =\n",
              "            await google.colab.kernel.invokeFunction('convertToInteractive',\n",
              "                                                     [key], {});\n",
              "          if (!dataTable) return;\n",
              "\n",
              "          const docLinkHtml = 'Like what you see? Visit the ' +\n",
              "            '<a target=\"_blank\" href=https://colab.research.google.com/notebooks/data_table.ipynb>data table notebook</a>'\n",
              "            + ' to learn more about interactive tables.';\n",
              "          element.innerHTML = '';\n",
              "          dataTable['output_type'] = 'display_data';\n",
              "          await google.colab.output.renderOutput(dataTable, element);\n",
              "          const docLink = document.createElement('div');\n",
              "          docLink.innerHTML = docLinkHtml;\n",
              "          element.appendChild(docLink);\n",
              "        }\n",
              "      </script>\n",
              "    </div>\n",
              "  </div>\n"
            ]
          },
          "metadata": {},
          "execution_count": 82
        }
      ]
    },
    {
      "cell_type": "markdown",
      "source": [
        "## Resumindo as avaliações usando LLMs"
      ],
      "metadata": {
        "id": "p6m1mtcPViqA"
      }
    },
    {
      "cell_type": "code",
      "source": [
        "def summarize(R, S=stratified_sampling_known_class_labels, P=multiple_boundaries_partitioning, C='map_reduce'):\n",
        "  # Data: Reviews R (DataFrame), Sampling Function S, Partitioning Function P, Chain Type C\n",
        "  # Result: Summarization of Reviews R\n",
        "\n",
        "  llm = OpenAI(\n",
        "    model_name='text-davinci-003',\n",
        "    openai_api_key='OPENAI_API_KEY',\n",
        "    max_tokens=1024)\n",
        "\n",
        "  prompt_template = \"\"\"Following the reviews bellow, write a small summary:\n",
        "\n",
        "  {text}\n",
        "\n",
        "  SUMMARY OF THE REVIEWS:\"\"\"\n",
        "\n",
        "  PROMPT = PromptTemplate(template=prompt_template, input_variables=[\"text\"])\n",
        "\n",
        "  if(len(R) > 100):\n",
        "    R = S(R,100)\n",
        "\n",
        "  reviews = ''\n",
        "  for r in R['review']:\n",
        "    reviews += r + ' \\n\\n '\n",
        "\n",
        "  texts = P(reviews)\n",
        "  docs = [Document(page_content=t) for t in texts]\n",
        "\n",
        "  if(C == 'map_reduce'):\n",
        "    chain = load_summarize_chain(llm, chain_type=\"map_reduce\", map_prompt=PROMPT, combine_prompt=PROMPT)\n",
        "    response = chain.run(docs)\n",
        "\n",
        "\n",
        "  elif(C == 'refine'):\n",
        "    chain = load_summarize_chain(llm, chain_type=\"refine\", refine_prompt=PROMPT)\n",
        "    response = chain.run(docs)\n",
        "\n",
        "  else:\n",
        "    print(\"Got unsupported chain type! Running with 'map_reduce'\")\n",
        "    chain = load_summarize_chain(llm, chain_type=\"map_reduce\", map_prompt=PROMPT, combine_prompt=PROMPT)\n",
        "    response = chain.run(docs)\n",
        "\n",
        "  response = \" \".join(response.split())\n",
        "  return response"
      ],
      "metadata": {
        "id": "mfJrOiXSsUqP"
      },
      "execution_count": null,
      "outputs": []
    },
    {
      "cell_type": "code",
      "source": [
        "summarize(data,uniform_sampling,simple_splitting,'map_reduce')"
      ],
      "metadata": {
        "colab": {
          "base_uri": "https://localhost:8080/",
          "height": 70
        },
        "id": "PLrNa96VNnoJ",
        "outputId": "5d5a4b26-ee83-457b-edf2-b7715c67ee36"
      },
      "execution_count": null,
      "outputs": [
        {
          "output_type": "execute_result",
          "data": {
            "text/plain": [
              "'The Last of Us is a critically acclaimed post-apocalyptic game from Naughty Dog that has been lauded for its emotionally engaging story, thrilling gameplay, exquisite level design, and realistic violence. It has stunning graphics, a great soundtrack, and a unique online mode, and its characters, dialogue, and voice acting have been praised as being compelling and deeply engaging. Despite some minor flaws, the game is seen as an incredible experience and is considered one of the best games of all time. It is a must-play for anyone with a PS3.'"
            ],
            "application/vnd.google.colaboratory.intrinsic+json": {
              "type": "string"
            }
          },
          "metadata": {},
          "execution_count": 274
        }
      ]
    },
    {
      "cell_type": "code",
      "source": [
        "summarize(data,uniform_sampling,simple_splitting,'refine')"
      ],
      "metadata": {
        "colab": {
          "base_uri": "https://localhost:8080/",
          "height": 53
        },
        "id": "1UQdsGKnTMJ5",
        "outputId": "65e037ee-abd7-49e7-b2b6-541ffb3dd47a"
      },
      "execution_count": null,
      "outputs": [
        {
          "output_type": "execute_result",
          "data": {
            "text/plain": [
              "'The Last of Us is a highly acclaimed video game that features realistic visuals, tough but rewarding combat, and well-developed characters, all in an immersive world with excellent pacing. It has been praised for its attention to detail, unique approach to stealth, and its realism. It is highly recommended for players who want to experience a thrilling adventure.'"
            ],
            "application/vnd.google.colaboratory.intrinsic+json": {
              "type": "string"
            }
          },
          "metadata": {},
          "execution_count": 287
        }
      ]
    },
    {
      "cell_type": "code",
      "source": [
        "summarize(data,uniform_sampling,sliding_window_partitioning,'map_reduce')"
      ],
      "metadata": {
        "colab": {
          "base_uri": "https://localhost:8080/",
          "height": 53
        },
        "id": "PYpbLsiQTOsr",
        "outputId": "b717cdc7-2fa3-4f14-b6b7-0be86f5aa2b3"
      },
      "execution_count": null,
      "outputs": [
        {
          "output_type": "execute_result",
          "data": {
            "text/plain": [
              "'The Last of Us is a highly-praised game from developer Naughty Dog that has been praised for its emotionally engaging and immersive story, detailed characters, excellent graphics and audio, and challenging yet enjoyable gameplay. Despite some critiques about the lack of environment traversal and repetitiveness, the majority of reviews have found the game to be an incredibly enjoyable and rewarding experience.'"
            ],
            "application/vnd.google.colaboratory.intrinsic+json": {
              "type": "string"
            }
          },
          "metadata": {},
          "execution_count": 276
        }
      ]
    },
    {
      "cell_type": "code",
      "source": [
        "summarize(data,uniform_sampling,sliding_window_partitioning,'refine')"
      ],
      "metadata": {
        "colab": {
          "base_uri": "https://localhost:8080/",
          "height": 70
        },
        "id": "M_Mp46EsTPDD",
        "outputId": "bb920c18-1ae7-479d-a662-f2591ef77869"
      },
      "execution_count": null,
      "outputs": [
        {
          "output_type": "execute_result",
          "data": {
            "text/plain": [
              "'The game has been described as a masterpiece and a classic in the videogame world with stunning graphics, an engaging story and believable characters. Its gameplay allows for different strategies and playstyles. It also has an upgrade system and crafting system which add to the atmosphere and gameplay. The soundtrack and voice acting are superb and it has been praised for being one of the best PS3 games with limitless potential. Although the game has been highly praised, some have noted that it is not for everyone due to its atmosphere and violence.'"
            ],
            "application/vnd.google.colaboratory.intrinsic+json": {
              "type": "string"
            }
          },
          "metadata": {},
          "execution_count": 277
        }
      ]
    },
    {
      "cell_type": "code",
      "source": [
        "summarize(data,uniform_sampling,multiple_boundaries_partitioning,'map_reduce')"
      ],
      "metadata": {
        "colab": {
          "base_uri": "https://localhost:8080/",
          "height": 70
        },
        "id": "OZ6Ht2BaTPQ_",
        "outputId": "b8c71833-e512-4235-f8a3-bb85892da541"
      },
      "execution_count": null,
      "outputs": [
        {
          "output_type": "execute_result",
          "data": {
            "text/plain": [
              "'The Last of Us is an acclaimed post-apocalyptic game developed by Naughty Dog with a gripping story, emotionally developed characters, and intense gameplay. It follows Joel and Ellie on their journey across the United States, as they scavenge for resources and fight against both zombies and hostile humans. The game has been widely praised for its immersive story, cinematic experience, and satisfying combat. Despite criticisms of AI and repetitiveness, The Last of Us has been hailed as one of the greatest games of all time.'"
            ],
            "application/vnd.google.colaboratory.intrinsic+json": {
              "type": "string"
            }
          },
          "metadata": {},
          "execution_count": 278
        }
      ]
    },
    {
      "cell_type": "code",
      "source": [
        "summarize(data,uniform_sampling,multiple_boundaries_partitioning,'refine')"
      ],
      "metadata": {
        "colab": {
          "base_uri": "https://localhost:8080/",
          "height": 70
        },
        "id": "C9bQv3HwTPcv",
        "outputId": "bf382f02-43e0-4705-8967-3baee1e43b55"
      },
      "execution_count": null,
      "outputs": [
        {
          "output_type": "execute_result",
          "data": {
            "text/plain": [
              "'The Last of Us is widely considered to be one of the best video games ever made, being praised for its story, characters, atmosphere, graphics, and sound. It is a post-apocalyptic survival game with an excellent story arc, pacing, and characters that draw the player in. The game features intense moments of panic and tranquility and has an overall immersive and beautiful aesthetic. It is a game that is often compared to literature and other forms of art due to its strong story and characters. Many reviewers found the game to be a masterpiece, with an engrossing story and characters, though it was noted to have some minor flaws such as its overreliance on disc readers and a few glitches.'"
            ],
            "application/vnd.google.colaboratory.intrinsic+json": {
              "type": "string"
            }
          },
          "metadata": {},
          "execution_count": 280
        }
      ]
    },
    {
      "cell_type": "code",
      "source": [
        "summarize(data,stratified_sampling_known_class_labels,simple_splitting,'map_reduce')"
      ],
      "metadata": {
        "colab": {
          "base_uri": "https://localhost:8080/",
          "height": 70
        },
        "id": "uiQ73uF4TPpl",
        "outputId": "3a4e0d00-df87-4e93-d111-20abd7d08099"
      },
      "execution_count": null,
      "outputs": [
        {
          "output_type": "execute_result",
          "data": {
            "text/plain": [
              "\"The Last of Us is an acclaimed action-adventure survival horror game developed by Naughty Dog and published by Sony Computer Entertainment. It is praised for its exceptional storytelling, beautiful graphics, and strong characters. It has a unique atmosphere with realistic violence, stealth mechanics, crafting capabilities, and upgradable weapons. It has received overwhelmingly positive reviews and is considered one of the best games of its generation, with Nolan North's voice acting being particularly lauded. It is an immersive experience that will make players feel connected to the characters and the game's events, making it a must-play.\""
            ],
            "application/vnd.google.colaboratory.intrinsic+json": {
              "type": "string"
            }
          },
          "metadata": {},
          "execution_count": 281
        }
      ]
    },
    {
      "cell_type": "code",
      "source": [
        "summarize(data,stratified_sampling_known_class_labels,simple_splitting,'refine')"
      ],
      "metadata": {
        "colab": {
          "base_uri": "https://localhost:8080/",
          "height": 53
        },
        "id": "Q7hRQAtQTP2m",
        "outputId": "b58b871e-4339-4b0f-95d6-36e57bc4d897"
      },
      "execution_count": null,
      "outputs": [
        {
          "output_type": "execute_result",
          "data": {
            "text/plain": [
              "'The Last of Us is an amazing experience that needs to be had by everyone! It has a rich and engaging setting, beautiful graphics, a deep and heartfelt story, and unique and fun multiplayer. It has become one of the best games of the year due to its stunning visuals, intense gameplay, and memorable characters. The only complaints are minor audio bugs and character glitching. It is a masterpiece and highly recommended to everyone.'"
            ],
            "application/vnd.google.colaboratory.intrinsic+json": {
              "type": "string"
            }
          },
          "metadata": {},
          "execution_count": 282
        }
      ]
    },
    {
      "cell_type": "code",
      "source": [
        "summarize(data,stratified_sampling_known_class_labels,sliding_window_partitioning,'map_reduce')"
      ],
      "metadata": {
        "colab": {
          "base_uri": "https://localhost:8080/",
          "height": 70
        },
        "id": "fwxG5A7_TQDR",
        "outputId": "927cb8eb-cd87-4db0-85a7-e3fc68472fb1"
      },
      "execution_count": null,
      "outputs": [
        {
          "output_type": "execute_result",
          "data": {
            "text/plain": [
              "'The Last of Us is a critically acclaimed game from Naughty Dog that is widely considered to be one of the best games of its generation. It features a gripping story with well-crafted characters, intense stealth-based combat, and immersive environments. It also poses thought-provoking moral questions that challenge the player and makes them think about the consequences of their actions. Despite some flaws in the multiplayer and AI, this is a must-play game that has earned its place as a classic.'"
            ],
            "application/vnd.google.colaboratory.intrinsic+json": {
              "type": "string"
            }
          },
          "metadata": {},
          "execution_count": 283
        }
      ]
    },
    {
      "cell_type": "code",
      "source": [
        "summarize(data,stratified_sampling_known_class_labels,sliding_window_partitioning,'refine')"
      ],
      "metadata": {
        "colab": {
          "base_uri": "https://localhost:8080/",
          "height": 70
        },
        "id": "jMIHtU2GTQPo",
        "outputId": "6af9c13b-3cd8-4b46-c18b-48a92831a95e"
      },
      "execution_count": null,
      "outputs": [
        {
          "output_type": "execute_result",
          "data": {
            "text/plain": [
              "'The Last of Us is a highly acclaimed PlayStation 3 game from Naughty Dog that features amazing graphics, stunning sound effects, captivating story, well-written characters, and excellent gameplay. It has been praised as one of the best games of its generation for its ability to evoke emotion and tension while still maintaining a sense of story and plot. Players are immersed in a post-apocalyptic world and given a thrilling experience as they control Joel and Ellie on their journey.'"
            ],
            "application/vnd.google.colaboratory.intrinsic+json": {
              "type": "string"
            }
          },
          "metadata": {},
          "execution_count": 284
        }
      ]
    },
    {
      "cell_type": "code",
      "source": [
        "summarize(data, stratified_sampling_known_class_labels, multiple_boundaries_partitioning,'map_reduce')"
      ],
      "metadata": {
        "colab": {
          "base_uri": "https://localhost:8080/",
          "height": 70
        },
        "id": "ehavEg6SNlgX",
        "outputId": "6b66d3fd-f4c4-428e-d074-bcfa49ad7ee0"
      },
      "execution_count": null,
      "outputs": [
        {
          "output_type": "execute_result",
          "data": {
            "text/plain": [
              "'The Last of Us is a critically acclaimed Playstation 3 game by Naughty Dog that follows the story of Joel and Ellie in a post-apocalyptic world. It is praised for its immersive story, detailed characters, realistic graphics, and realistic violence. It has been acclaimed for its cinematic opening, its emotional depth, and its connection between gameplay and story. It has been praised for its length and quality, though its AI and multiplayer mode have been criticized. It has been praised for its poignant themes and its impact on the gaming industry, and is widely considered to be one of the best games of this generation.'"
            ],
            "application/vnd.google.colaboratory.intrinsic+json": {
              "type": "string"
            }
          },
          "metadata": {},
          "execution_count": 270
        }
      ]
    },
    {
      "cell_type": "code",
      "source": [
        "summarize(data,stratified_sampling_known_class_labels,multiple_boundaries_partitioning,'refine')"
      ],
      "metadata": {
        "colab": {
          "base_uri": "https://localhost:8080/",
          "height": 70
        },
        "id": "ZKV-7eeDTQoP",
        "outputId": "351478b3-d358-485d-c8fa-f3736eeb8b34"
      },
      "execution_count": null,
      "outputs": [
        {
          "output_type": "execute_result",
          "data": {
            "text/plain": [
              "\"The Last of Us is considered one of the best games ever made, with great graphics, an immersive gameplay, and a compelling story. Even though the reviewer does not own a PlayStation 3 and initially found the controller to be difficult to use, he was so drawn in by the game that he decided to buy it and play it for 14 hours straight. He found the fighting system to be varied and enjoyable, and the story to be one of the best he's ever experienced in a video game. The visuals and atmosphere were also praised, as well as the realistic gameplay and its challenge. The reviewer ultimately gave the game a 9.5/10.\""
            ],
            "application/vnd.google.colaboratory.intrinsic+json": {
              "type": "string"
            }
          },
          "metadata": {},
          "execution_count": 286
        }
      ]
    }
  ]
}